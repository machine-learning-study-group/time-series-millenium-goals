{
 "cells": [
  {
   "cell_type": "markdown",
   "metadata": {},
   "source": [
    "### Alternative to Data Prep 1:"
   ]
  },
  {
   "cell_type": "code",
   "execution_count": 1,
   "metadata": {},
   "outputs": [],
   "source": [
    "import pandas as pd\n",
    "import matplotlib.pyplot as plt\n",
    "import re"
   ]
  },
  {
   "cell_type": "code",
   "execution_count": 8,
   "metadata": {},
   "outputs": [],
   "source": [
    "# Import data:\n",
    "train = pd.read_csv('data/TrainingSet.csv',index_col=0)\n",
    "submission = pd.read_csv('data/SubmissionRows.csv',index_col=0)"
   ]
  },
  {
   "cell_type": "code",
   "execution_count": 22,
   "metadata": {},
   "outputs": [
    {
     "data": {
      "text/html": [
       "<div>\n",
       "<style scoped>\n",
       "    .dataframe tbody tr th:only-of-type {\n",
       "        vertical-align: middle;\n",
       "    }\n",
       "\n",
       "    .dataframe tbody tr th {\n",
       "        vertical-align: top;\n",
       "    }\n",
       "\n",
       "    .dataframe thead th {\n",
       "        text-align: right;\n",
       "    }\n",
       "</style>\n",
       "<table border=\"1\" class=\"dataframe\">\n",
       "  <thead>\n",
       "    <tr style=\"text-align: right;\">\n",
       "      <th></th>\n",
       "      <th>0</th>\n",
       "      <th>1</th>\n",
       "      <th>2</th>\n",
       "      <th>4</th>\n",
       "      <th>5</th>\n",
       "      <th>6</th>\n",
       "      <th>8</th>\n",
       "      <th>9</th>\n",
       "      <th>10</th>\n",
       "      <th>11</th>\n",
       "      <th>...</th>\n",
       "      <th>286107</th>\n",
       "      <th>286108</th>\n",
       "      <th>286109</th>\n",
       "      <th>286110</th>\n",
       "      <th>286112</th>\n",
       "      <th>286113</th>\n",
       "      <th>286114</th>\n",
       "      <th>286115</th>\n",
       "      <th>286116</th>\n",
       "      <th>286117</th>\n",
       "    </tr>\n",
       "  </thead>\n",
       "  <tbody>\n",
       "    <tr>\n",
       "      <td>count</td>\n",
       "      <td>0</td>\n",
       "      <td>0</td>\n",
       "      <td>0</td>\n",
       "      <td>0</td>\n",
       "      <td>0</td>\n",
       "      <td>0</td>\n",
       "      <td>0</td>\n",
       "      <td>0</td>\n",
       "      <td>0</td>\n",
       "      <td>0</td>\n",
       "      <td>...</td>\n",
       "      <td>0</td>\n",
       "      <td>0</td>\n",
       "      <td>0</td>\n",
       "      <td>0</td>\n",
       "      <td>0</td>\n",
       "      <td>0</td>\n",
       "      <td>0</td>\n",
       "      <td>0</td>\n",
       "      <td>0</td>\n",
       "      <td>0</td>\n",
       "    </tr>\n",
       "    <tr>\n",
       "      <td>unique</td>\n",
       "      <td>0</td>\n",
       "      <td>0</td>\n",
       "      <td>0</td>\n",
       "      <td>0</td>\n",
       "      <td>0</td>\n",
       "      <td>0</td>\n",
       "      <td>0</td>\n",
       "      <td>0</td>\n",
       "      <td>0</td>\n",
       "      <td>0</td>\n",
       "      <td>...</td>\n",
       "      <td>0</td>\n",
       "      <td>0</td>\n",
       "      <td>0</td>\n",
       "      <td>0</td>\n",
       "      <td>0</td>\n",
       "      <td>0</td>\n",
       "      <td>0</td>\n",
       "      <td>0</td>\n",
       "      <td>0</td>\n",
       "      <td>0</td>\n",
       "    </tr>\n",
       "    <tr>\n",
       "      <td>top</td>\n",
       "      <td>NaN</td>\n",
       "      <td>NaN</td>\n",
       "      <td>NaN</td>\n",
       "      <td>NaN</td>\n",
       "      <td>NaN</td>\n",
       "      <td>NaN</td>\n",
       "      <td>NaN</td>\n",
       "      <td>NaN</td>\n",
       "      <td>NaN</td>\n",
       "      <td>NaN</td>\n",
       "      <td>...</td>\n",
       "      <td>NaN</td>\n",
       "      <td>NaN</td>\n",
       "      <td>NaN</td>\n",
       "      <td>NaN</td>\n",
       "      <td>NaN</td>\n",
       "      <td>NaN</td>\n",
       "      <td>NaN</td>\n",
       "      <td>NaN</td>\n",
       "      <td>NaN</td>\n",
       "      <td>NaN</td>\n",
       "    </tr>\n",
       "    <tr>\n",
       "      <td>freq</td>\n",
       "      <td>NaN</td>\n",
       "      <td>NaN</td>\n",
       "      <td>NaN</td>\n",
       "      <td>NaN</td>\n",
       "      <td>NaN</td>\n",
       "      <td>NaN</td>\n",
       "      <td>NaN</td>\n",
       "      <td>NaN</td>\n",
       "      <td>NaN</td>\n",
       "      <td>NaN</td>\n",
       "      <td>...</td>\n",
       "      <td>NaN</td>\n",
       "      <td>NaN</td>\n",
       "      <td>NaN</td>\n",
       "      <td>NaN</td>\n",
       "      <td>NaN</td>\n",
       "      <td>NaN</td>\n",
       "      <td>NaN</td>\n",
       "      <td>NaN</td>\n",
       "      <td>NaN</td>\n",
       "      <td>NaN</td>\n",
       "    </tr>\n",
       "  </tbody>\n",
       "</table>\n",
       "<p>4 rows × 195402 columns</p>\n",
       "</div>"
      ],
      "text/plain": [
       "       0      1      2      4      5      6      8      9      10     11      \\\n",
       "count       0      0      0      0      0      0      0      0      0      0   \n",
       "unique      0      0      0      0      0      0      0      0      0      0   \n",
       "top       NaN    NaN    NaN    NaN    NaN    NaN    NaN    NaN    NaN    NaN   \n",
       "freq      NaN    NaN    NaN    NaN    NaN    NaN    NaN    NaN    NaN    NaN   \n",
       "\n",
       "        ... 286107 286108  286109  286110  286112 286113 286114 286115 286116  \\\n",
       "count   ...      0      0       0       0       0      0      0      0      0   \n",
       "unique  ...      0      0       0       0       0      0      0      0      0   \n",
       "top     ...    NaN    NaN     NaN     NaN     NaN    NaN    NaN    NaN    NaN   \n",
       "freq    ...    NaN    NaN     NaN     NaN     NaN    NaN    NaN    NaN    NaN   \n",
       "\n",
       "        286117  \n",
       "count        0  \n",
       "unique       0  \n",
       "top        NaN  \n",
       "freq       NaN  \n",
       "\n",
       "[4 rows x 195402 columns]"
      ]
     },
     "execution_count": 22,
     "metadata": {},
     "output_type": "execute_result"
    }
   ],
   "source": [
    "train.T.head().describe()"
   ]
  },
  {
   "cell_type": "code",
   "execution_count": 9,
   "metadata": {},
   "outputs": [],
   "source": [
    "# Remove [YR****] and input '_' for last 3 cols\n",
    "train.columns = list(map(lambda x: re.findall(r'\\d+',x)[0],train.columns[:36])) + list(map(lambda x: '_'.join(x.split()),train.columns[36:]))"
   ]
  },
  {
   "cell_type": "code",
   "execution_count": 10,
   "metadata": {},
   "outputs": [
    {
     "data": {
      "text/plain": [
       "<matplotlib.axes._subplots.AxesSubplot at 0x11f7497b8>"
      ]
     },
     "execution_count": 10,
     "metadata": {},
     "output_type": "execute_result"
    },
    {
     "data": {
      "image/png": "[encoded data removed]",
      "text/plain": [
       "<Figure size 432x288 with 1 Axes>"
      ]
     },
     "metadata": {
      "needs_background": "light"
     },
     "output_type": "display_data"
    }
   ],
   "source": [
    "# Non NaN Rows (indicators). Clearly we have less missing values as the years increase.\n",
    "train.loc[:,:'2007'].count().plot(title='Non Nan Values: All Data')"
   ]
  },
  {
   "cell_type": "code",
   "execution_count": 11,
   "metadata": {},
   "outputs": [
    {
     "data": {
      "text/plain": [
       "<matplotlib.axes._subplots.AxesSubplot at 0x12066d550>"
      ]
     },
     "execution_count": 11,
     "metadata": {},
     "output_type": "execute_result"
    },
    {
     "data": {
      "image/png": "[encoded data removed]",
      "text/plain": [
       "<Figure size 432x288 with 1 Axes>"
      ]
     },
     "metadata": {
      "needs_background": "light"
     },
     "output_type": "display_data"
    }
   ],
   "source": [
    "# Look out the rows we are trying to predict:\n",
    "indx_submission = submission.index\n",
    "\n",
    "data_submission = train.loc[indx_submission,:]\n",
    "\n",
    "# Non Nan Rows of submission data: Around 1990 we had a spike of more information\n",
    "data_submission.count().plot(title='Non Nan Values: Submission Data')"
   ]
  },
  {
   "cell_type": "markdown",
   "metadata": {},
   "source": [
    "### Strategy:\n",
    "\n",
    "- Look to filter that data outside of submission index based on either countries or indicators that need predicting (submission indexes)\n",
    "\n",
    "- Try grouping by Series Code and then taking correlations between them to get a rough correlation guide"
   ]
  },
  {
   "cell_type": "code",
   "execution_count": 12,
   "metadata": {},
   "outputs": [],
   "source": [
    "# Try countries:\n",
    "countries_sub = data_submission.Country_Name.unique()\n",
    "\n",
    "train_countries = train[train['Country_Name'].isin(countries_sub)]"
   ]
  },
  {
   "cell_type": "code",
   "execution_count": 13,
   "metadata": {},
   "outputs": [
    {
     "data": {
      "text/plain": [
       "{'American Samoa',\n",
       " 'Channel Islands',\n",
       " 'Curacao',\n",
       " 'Isle of Man',\n",
       " 'Kosovo',\n",
       " 'Sint Maarten (Dutch part)',\n",
       " 'St. Martin (French part)',\n",
       " 'Turks and Caicos Islands'}"
      ]
     },
     "execution_count": 13,
     "metadata": {},
     "output_type": "execute_result"
    }
   ],
   "source": [
    "# Here are the countries not in the submission index: We can safely remove these.\n",
    "set(train['Country_Name'].unique()).difference(set(countries_sub))"
   ]
  },
  {
   "cell_type": "code",
   "execution_count": 14,
   "metadata": {},
   "outputs": [
    {
     "data": {
      "text/plain": [
       "8.16    200\n",
       "4.1     192\n",
       "7.8     154\n",
       "6.1     105\n",
       "2.1      81\n",
       "5.1       4\n",
       "6.7       1\n",
       "Name: Series_Code, dtype: int64"
      ]
     },
     "execution_count": 14,
     "metadata": {},
     "output_type": "execute_result"
    }
   ],
   "source": [
    "# Look at indicators: Submission data\n",
    "data_submission['Series_Code'].value_counts()"
   ]
  },
  {
   "cell_type": "code",
   "execution_count": 15,
   "metadata": {},
   "outputs": [],
   "source": [
    "submission_s_code = data_submission['Series_Code'].unique()"
   ]
  },
  {
   "cell_type": "code",
   "execution_count": 118,
   "metadata": {},
   "outputs": [
    {
     "name": "stdout",
     "output_type": "stream",
     "text": [
      "Number of training instances:  1114\n"
     ]
    },
    {
     "data": {
      "image/png": "[encoded data removed]",
      "text/plain": [
       "<Figure size 432x288 with 1 Axes>"
      ]
     },
     "metadata": {
      "needs_background": "light"
     },
     "output_type": "display_data"
    }
   ],
   "source": [
    "# Filter training data again to only inc. Series codes in submission data\n",
    "train_countries[train_countries['Series_Code'].isin(submission_s_code)].count().plot()\n",
    "print('Number of training instances: ',len(train_countries[train_countries['Series_Code'].isin(submission_s_code)]))"
   ]
  },
  {
   "cell_type": "markdown",
   "metadata": {},
   "source": [
    "We only have 1114 training values using the above method and likely to be missing a lot of key information during the model building stage.\n",
    "\n",
    "We will try to look at indicators with entire data collected from the time periods (1972+) and add this to the dataframe data_submission.\n",
    "\n",
    "First check to see if data with entire time period inc. indexes of data_submission."
   ]
  },
  {
   "cell_type": "markdown",
   "metadata": {},
   "source": [
    "#### Groupby country code: Correlations"
   ]
  },
  {
   "cell_type": "code",
   "execution_count": 16,
   "metadata": {},
   "outputs": [],
   "source": [
    "s_code = train_countries[train_countries['Series_Code'].isin(submission_s_code)]"
   ]
  },
  {
   "cell_type": "code",
   "execution_count": 19,
   "metadata": {},
   "outputs": [
    {
     "data": {
      "text/plain": [
       "array(['7.8', '8.16', '4.1', '6.1', '2.1', '5.1', '6.7'], dtype=object)"
      ]
     },
     "execution_count": 19,
     "metadata": {},
     "output_type": "execute_result"
    }
   ],
   "source": [
    "submission_s_code"
   ]
  },
  {
   "cell_type": "code",
   "execution_count": null,
   "metadata": {},
   "outputs": [],
   "source": []
  },
  {
   "cell_type": "code",
   "execution_count": 120,
   "metadata": {},
   "outputs": [
    {
     "data": {
      "text/html": [
       "<div>\n",
       "<style scoped>\n",
       "    .dataframe tbody tr th:only-of-type {\n",
       "        vertical-align: middle;\n",
       "    }\n",
       "\n",
       "    .dataframe tbody tr th {\n",
       "        vertical-align: top;\n",
       "    }\n",
       "\n",
       "    .dataframe thead th {\n",
       "        text-align: right;\n",
       "    }\n",
       "</style>\n",
       "<table border=\"1\" class=\"dataframe\">\n",
       "  <thead>\n",
       "    <tr style=\"text-align: right;\">\n",
       "      <th>Series_Code</th>\n",
       "      <th>7.8</th>\n",
       "      <th>8.16</th>\n",
       "      <th>4.1</th>\n",
       "      <th>6.1</th>\n",
       "      <th>2.1</th>\n",
       "      <th>5.1</th>\n",
       "      <th>6.7</th>\n",
       "    </tr>\n",
       "    <tr>\n",
       "      <th>Series_Code</th>\n",
       "      <th></th>\n",
       "      <th></th>\n",
       "      <th></th>\n",
       "      <th></th>\n",
       "      <th></th>\n",
       "      <th></th>\n",
       "      <th></th>\n",
       "    </tr>\n",
       "  </thead>\n",
       "  <tbody>\n",
       "    <tr>\n",
       "      <td>1.2</td>\n",
       "      <td>-0.774399</td>\n",
       "      <td>-0.400163</td>\n",
       "      <td>0.547024</td>\n",
       "      <td>-0.751408</td>\n",
       "      <td>-0.479661</td>\n",
       "      <td>-0.122723</td>\n",
       "      <td>-0.541525</td>\n",
       "    </tr>\n",
       "    <tr>\n",
       "      <td>2.1</td>\n",
       "      <td>0.974165</td>\n",
       "      <td>0.880825</td>\n",
       "      <td>-0.907490</td>\n",
       "      <td>0.741725</td>\n",
       "      <td>1.000000</td>\n",
       "      <td>0.010213</td>\n",
       "      <td>0.363031</td>\n",
       "    </tr>\n",
       "    <tr>\n",
       "      <td>3.2</td>\n",
       "      <td>0.828248</td>\n",
       "      <td>0.754906</td>\n",
       "      <td>-0.850693</td>\n",
       "      <td>0.824610</td>\n",
       "      <td>0.777868</td>\n",
       "      <td>-0.443204</td>\n",
       "      <td>0.508213</td>\n",
       "    </tr>\n",
       "    <tr>\n",
       "      <td>4.1</td>\n",
       "      <td>-0.998060</td>\n",
       "      <td>-0.722675</td>\n",
       "      <td>1.000000</td>\n",
       "      <td>-0.791391</td>\n",
       "      <td>-0.907490</td>\n",
       "      <td>-0.124832</td>\n",
       "      <td>-0.537280</td>\n",
       "    </tr>\n",
       "    <tr>\n",
       "      <td>5.1</td>\n",
       "      <td>-0.223360</td>\n",
       "      <td>-0.091865</td>\n",
       "      <td>-0.124832</td>\n",
       "      <td>-0.220683</td>\n",
       "      <td>0.010213</td>\n",
       "      <td>1.000000</td>\n",
       "      <td>0.064563</td>\n",
       "    </tr>\n",
       "    <tr>\n",
       "      <td>6.1</td>\n",
       "      <td>0.765506</td>\n",
       "      <td>0.629139</td>\n",
       "      <td>-0.791391</td>\n",
       "      <td>1.000000</td>\n",
       "      <td>0.741725</td>\n",
       "      <td>-0.220683</td>\n",
       "      <td>-0.696318</td>\n",
       "    </tr>\n",
       "    <tr>\n",
       "      <td>6.7</td>\n",
       "      <td>0.546451</td>\n",
       "      <td>0.535112</td>\n",
       "      <td>-0.537280</td>\n",
       "      <td>-0.696318</td>\n",
       "      <td>0.363031</td>\n",
       "      <td>0.064563</td>\n",
       "      <td>1.000000</td>\n",
       "    </tr>\n",
       "    <tr>\n",
       "      <td>7.8</td>\n",
       "      <td>1.000000</td>\n",
       "      <td>0.980500</td>\n",
       "      <td>-0.998060</td>\n",
       "      <td>0.765506</td>\n",
       "      <td>0.974165</td>\n",
       "      <td>-0.223360</td>\n",
       "      <td>0.546451</td>\n",
       "    </tr>\n",
       "    <tr>\n",
       "      <td>8.16</td>\n",
       "      <td>0.980500</td>\n",
       "      <td>1.000000</td>\n",
       "      <td>-0.722675</td>\n",
       "      <td>0.629139</td>\n",
       "      <td>0.880825</td>\n",
       "      <td>-0.091865</td>\n",
       "      <td>0.535112</td>\n",
       "    </tr>\n",
       "    <tr>\n",
       "      <td>AG.AGR.TRAC.NO</td>\n",
       "      <td>0.932666</td>\n",
       "      <td>0.812822</td>\n",
       "      <td>-0.973198</td>\n",
       "      <td>0.769139</td>\n",
       "      <td>0.927292</td>\n",
       "      <td>0.111460</td>\n",
       "      <td>0.157448</td>\n",
       "    </tr>\n",
       "  </tbody>\n",
       "</table>\n",
       "</div>"
      ],
      "text/plain": [
       "Series_Code          7.8      8.16       4.1       6.1       2.1       5.1  \\\n",
       "Series_Code                                                                  \n",
       "1.2            -0.774399 -0.400163  0.547024 -0.751408 -0.479661 -0.122723   \n",
       "2.1             0.974165  0.880825 -0.907490  0.741725  1.000000  0.010213   \n",
       "3.2             0.828248  0.754906 -0.850693  0.824610  0.777868 -0.443204   \n",
       "4.1            -0.998060 -0.722675  1.000000 -0.791391 -0.907490 -0.124832   \n",
       "5.1            -0.223360 -0.091865 -0.124832 -0.220683  0.010213  1.000000   \n",
       "6.1             0.765506  0.629139 -0.791391  1.000000  0.741725 -0.220683   \n",
       "6.7             0.546451  0.535112 -0.537280 -0.696318  0.363031  0.064563   \n",
       "7.8             1.000000  0.980500 -0.998060  0.765506  0.974165 -0.223360   \n",
       "8.16            0.980500  1.000000 -0.722675  0.629139  0.880825 -0.091865   \n",
       "AG.AGR.TRAC.NO  0.932666  0.812822 -0.973198  0.769139  0.927292  0.111460   \n",
       "\n",
       "Series_Code          6.7  \n",
       "Series_Code               \n",
       "1.2            -0.541525  \n",
       "2.1             0.363031  \n",
       "3.2             0.508213  \n",
       "4.1            -0.537280  \n",
       "5.1             0.064563  \n",
       "6.1            -0.696318  \n",
       "6.7             1.000000  \n",
       "7.8             0.546451  \n",
       "8.16            0.535112  \n",
       "AG.AGR.TRAC.NO  0.157448  "
      ]
     },
     "execution_count": 120,
     "metadata": {},
     "output_type": "execute_result"
    }
   ],
   "source": [
    "corr_group = train.groupby('Series_Code').mean().T.corr()[submission_s_code]\n",
    "corr_group.head(10)"
   ]
  },
  {
   "cell_type": "code",
   "execution_count": 121,
   "metadata": {},
   "outputs": [
    {
     "data": {
      "text/html": [
       "<div>\n",
       "<style scoped>\n",
       "    .dataframe tbody tr th:only-of-type {\n",
       "        vertical-align: middle;\n",
       "    }\n",
       "\n",
       "    .dataframe tbody tr th {\n",
       "        vertical-align: top;\n",
       "    }\n",
       "\n",
       "    .dataframe thead th {\n",
       "        text-align: right;\n",
       "    }\n",
       "</style>\n",
       "<table border=\"1\" class=\"dataframe\">\n",
       "  <thead>\n",
       "    <tr style=\"text-align: right;\">\n",
       "      <th>Series_Code</th>\n",
       "      <th>7.8</th>\n",
       "      <th>8.16</th>\n",
       "      <th>4.1</th>\n",
       "      <th>6.1</th>\n",
       "      <th>2.1</th>\n",
       "      <th>5.1</th>\n",
       "      <th>6.7</th>\n",
       "    </tr>\n",
       "    <tr>\n",
       "      <th>Series_Code</th>\n",
       "      <th></th>\n",
       "      <th></th>\n",
       "      <th></th>\n",
       "      <th></th>\n",
       "      <th></th>\n",
       "      <th></th>\n",
       "      <th></th>\n",
       "    </tr>\n",
       "  </thead>\n",
       "  <tbody>\n",
       "    <tr>\n",
       "      <td>DT.NFL.IAEA.CD</td>\n",
       "      <td>-1.000000</td>\n",
       "      <td>-1.000000</td>\n",
       "      <td>1.000000</td>\n",
       "      <td>1.000000</td>\n",
       "      <td>-1.000000</td>\n",
       "      <td>1.000000</td>\n",
       "      <td>1.000000</td>\n",
       "    </tr>\n",
       "    <tr>\n",
       "      <td>EN.ATM.GHGO.KT.CE</td>\n",
       "      <td>0.989279</td>\n",
       "      <td>0.999326</td>\n",
       "      <td>-0.983936</td>\n",
       "      <td>0.795005</td>\n",
       "      <td>0.987065</td>\n",
       "      <td>-0.871433</td>\n",
       "      <td>1.000000</td>\n",
       "    </tr>\n",
       "    <tr>\n",
       "      <td>EN.ATM.HFCG.KT.CE</td>\n",
       "      <td>0.992971</td>\n",
       "      <td>0.997911</td>\n",
       "      <td>-0.988536</td>\n",
       "      <td>0.811630</td>\n",
       "      <td>0.991156</td>\n",
       "      <td>-0.857399</td>\n",
       "      <td>1.000000</td>\n",
       "    </tr>\n",
       "    <tr>\n",
       "      <td>EN.ATM.METH.EG.ZS</td>\n",
       "      <td>0.979701</td>\n",
       "      <td>0.926754</td>\n",
       "      <td>-0.985769</td>\n",
       "      <td>0.954329</td>\n",
       "      <td>0.982497</td>\n",
       "      <td>-0.651626</td>\n",
       "      <td>1.000000</td>\n",
       "    </tr>\n",
       "    <tr>\n",
       "      <td>EN.ATM.NOXE.EG.KT.CE</td>\n",
       "      <td>0.989816</td>\n",
       "      <td>0.947290</td>\n",
       "      <td>-0.993965</td>\n",
       "      <td>0.935056</td>\n",
       "      <td>0.991770</td>\n",
       "      <td>-0.695213</td>\n",
       "      <td>1.000000</td>\n",
       "    </tr>\n",
       "    <tr>\n",
       "      <td>EN.ATM.NOXE.IN.KT.CE</td>\n",
       "      <td>-0.982799</td>\n",
       "      <td>-0.932677</td>\n",
       "      <td>0.988346</td>\n",
       "      <td>-0.949400</td>\n",
       "      <td>-0.985366</td>\n",
       "      <td>0.663743</td>\n",
       "      <td>-1.000000</td>\n",
       "    </tr>\n",
       "    <tr>\n",
       "      <td>EN.ATM.PFCG.KT.CE</td>\n",
       "      <td>-0.983050</td>\n",
       "      <td>-0.933168</td>\n",
       "      <td>0.988552</td>\n",
       "      <td>-0.948971</td>\n",
       "      <td>-0.985598</td>\n",
       "      <td>0.664762</td>\n",
       "      <td>-1.000000</td>\n",
       "    </tr>\n",
       "    <tr>\n",
       "      <td>EN.ATM.SF6G.KT.CE</td>\n",
       "      <td>0.916625</td>\n",
       "      <td>0.974131</td>\n",
       "      <td>-0.902969</td>\n",
       "      <td>0.608631</td>\n",
       "      <td>0.910751</td>\n",
       "      <td>-0.969406</td>\n",
       "      <td>1.000000</td>\n",
       "    </tr>\n",
       "    <tr>\n",
       "      <td>IC.ELC.OUTG</td>\n",
       "      <td>1.000000</td>\n",
       "      <td>1.000000</td>\n",
       "      <td>-1.000000</td>\n",
       "      <td>-1.000000</td>\n",
       "      <td>1.000000</td>\n",
       "      <td>-1.000000</td>\n",
       "      <td>-1.000000</td>\n",
       "    </tr>\n",
       "    <tr>\n",
       "      <td>IC.FRM.CMPU.ZS</td>\n",
       "      <td>-1.000000</td>\n",
       "      <td>-1.000000</td>\n",
       "      <td>1.000000</td>\n",
       "      <td>1.000000</td>\n",
       "      <td>-1.000000</td>\n",
       "      <td>1.000000</td>\n",
       "      <td>1.000000</td>\n",
       "    </tr>\n",
       "    <tr>\n",
       "      <td>IC.FRM.FREG.ZS</td>\n",
       "      <td>-1.000000</td>\n",
       "      <td>-1.000000</td>\n",
       "      <td>1.000000</td>\n",
       "      <td>1.000000</td>\n",
       "      <td>-1.000000</td>\n",
       "      <td>1.000000</td>\n",
       "      <td>1.000000</td>\n",
       "    </tr>\n",
       "    <tr>\n",
       "      <td>IC.LGL.PROC</td>\n",
       "      <td>0.915169</td>\n",
       "      <td>0.930062</td>\n",
       "      <td>-0.938363</td>\n",
       "      <td>-0.939430</td>\n",
       "      <td>0.640725</td>\n",
       "      <td>0.799258</td>\n",
       "      <td>0.775795</td>\n",
       "    </tr>\n",
       "    <tr>\n",
       "      <td>IC.REG.COST.PC.ZS</td>\n",
       "      <td>-0.950581</td>\n",
       "      <td>-0.954862</td>\n",
       "      <td>0.947213</td>\n",
       "      <td>0.936274</td>\n",
       "      <td>-0.830931</td>\n",
       "      <td>-0.694435</td>\n",
       "      <td>-0.940265</td>\n",
       "    </tr>\n",
       "    <tr>\n",
       "      <td>SH.MMR.RISK</td>\n",
       "      <td>0.944891</td>\n",
       "      <td>0.892005</td>\n",
       "      <td>-0.967211</td>\n",
       "      <td>0.888100</td>\n",
       "      <td>0.969281</td>\n",
       "      <td>-0.607221</td>\n",
       "      <td>1.000000</td>\n",
       "    </tr>\n",
       "  </tbody>\n",
       "</table>\n",
       "</div>"
      ],
      "text/plain": [
       "Series_Code                7.8      8.16       4.1       6.1       2.1  \\\n",
       "Series_Code                                                              \n",
       "DT.NFL.IAEA.CD       -1.000000 -1.000000  1.000000  1.000000 -1.000000   \n",
       "EN.ATM.GHGO.KT.CE     0.989279  0.999326 -0.983936  0.795005  0.987065   \n",
       "EN.ATM.HFCG.KT.CE     0.992971  0.997911 -0.988536  0.811630  0.991156   \n",
       "EN.ATM.METH.EG.ZS     0.979701  0.926754 -0.985769  0.954329  0.982497   \n",
       "EN.ATM.NOXE.EG.KT.CE  0.989816  0.947290 -0.993965  0.935056  0.991770   \n",
       "EN.ATM.NOXE.IN.KT.CE -0.982799 -0.932677  0.988346 -0.949400 -0.985366   \n",
       "EN.ATM.PFCG.KT.CE    -0.983050 -0.933168  0.988552 -0.948971 -0.985598   \n",
       "EN.ATM.SF6G.KT.CE     0.916625  0.974131 -0.902969  0.608631  0.910751   \n",
       "IC.ELC.OUTG           1.000000  1.000000 -1.000000 -1.000000  1.000000   \n",
       "IC.FRM.CMPU.ZS       -1.000000 -1.000000  1.000000  1.000000 -1.000000   \n",
       "IC.FRM.FREG.ZS       -1.000000 -1.000000  1.000000  1.000000 -1.000000   \n",
       "IC.LGL.PROC           0.915169  0.930062 -0.938363 -0.939430  0.640725   \n",
       "IC.REG.COST.PC.ZS    -0.950581 -0.954862  0.947213  0.936274 -0.830931   \n",
       "SH.MMR.RISK           0.944891  0.892005 -0.967211  0.888100  0.969281   \n",
       "\n",
       "Series_Code                5.1       6.7  \n",
       "Series_Code                               \n",
       "DT.NFL.IAEA.CD        1.000000  1.000000  \n",
       "EN.ATM.GHGO.KT.CE    -0.871433  1.000000  \n",
       "EN.ATM.HFCG.KT.CE    -0.857399  1.000000  \n",
       "EN.ATM.METH.EG.ZS    -0.651626  1.000000  \n",
       "EN.ATM.NOXE.EG.KT.CE -0.695213  1.000000  \n",
       "EN.ATM.NOXE.IN.KT.CE  0.663743 -1.000000  \n",
       "EN.ATM.PFCG.KT.CE     0.664762 -1.000000  \n",
       "EN.ATM.SF6G.KT.CE    -0.969406  1.000000  \n",
       "IC.ELC.OUTG          -1.000000 -1.000000  \n",
       "IC.FRM.CMPU.ZS        1.000000  1.000000  \n",
       "IC.FRM.FREG.ZS        1.000000  1.000000  \n",
       "IC.LGL.PROC           0.799258  0.775795  \n",
       "IC.REG.COST.PC.ZS    -0.694435 -0.940265  \n",
       "SH.MMR.RISK          -0.607221  1.000000  "
      ]
     },
     "execution_count": 121,
     "metadata": {},
     "output_type": "execute_result"
    }
   ],
   "source": [
    "# Set threshold =7, e.g. all indicators on avg have a corr of abs(x)>0.5 against the series codes given in submission data\n",
    "s_code_keep = corr_group.where(abs(corr_group)>0.5).dropna(thresh=7).index\n",
    "corr_group.where(abs(corr_group)>0.6).dropna(thresh=7)"
   ]
  },
  {
   "cell_type": "code",
   "execution_count": 122,
   "metadata": {},
   "outputs": [
    {
     "data": {
      "text/html": [
       "<div>\n",
       "<style scoped>\n",
       "    .dataframe tbody tr th:only-of-type {\n",
       "        vertical-align: middle;\n",
       "    }\n",
       "\n",
       "    .dataframe tbody tr th {\n",
       "        vertical-align: top;\n",
       "    }\n",
       "\n",
       "    .dataframe thead th {\n",
       "        text-align: right;\n",
       "    }\n",
       "</style>\n",
       "<table border=\"1\" class=\"dataframe\">\n",
       "  <thead>\n",
       "    <tr style=\"text-align: right;\">\n",
       "      <th></th>\n",
       "      <th>1972</th>\n",
       "      <th>1973</th>\n",
       "      <th>1974</th>\n",
       "      <th>1975</th>\n",
       "      <th>1976</th>\n",
       "      <th>1977</th>\n",
       "      <th>1978</th>\n",
       "      <th>1979</th>\n",
       "      <th>1980</th>\n",
       "      <th>1981</th>\n",
       "      <th>...</th>\n",
       "      <th>2001</th>\n",
       "      <th>2002</th>\n",
       "      <th>2003</th>\n",
       "      <th>2004</th>\n",
       "      <th>2005</th>\n",
       "      <th>2006</th>\n",
       "      <th>2007</th>\n",
       "      <th>Country_Name</th>\n",
       "      <th>Series_Code</th>\n",
       "      <th>Series_Name</th>\n",
       "    </tr>\n",
       "  </thead>\n",
       "  <tbody>\n",
       "    <tr>\n",
       "      <td>16</td>\n",
       "      <td>NaN</td>\n",
       "      <td>NaN</td>\n",
       "      <td>0.267007</td>\n",
       "      <td>NaN</td>\n",
       "      <td>NaN</td>\n",
       "      <td>NaN</td>\n",
       "      <td>NaN</td>\n",
       "      <td>NaN</td>\n",
       "      <td>NaN</td>\n",
       "      <td>NaN</td>\n",
       "      <td>...</td>\n",
       "      <td>NaN</td>\n",
       "      <td>NaN</td>\n",
       "      <td>NaN</td>\n",
       "      <td>NaN</td>\n",
       "      <td>NaN</td>\n",
       "      <td>NaN</td>\n",
       "      <td>NaN</td>\n",
       "      <td>Afghanistan</td>\n",
       "      <td>2.1</td>\n",
       "      <td>Achieve universal primary education</td>\n",
       "    </tr>\n",
       "    <tr>\n",
       "      <td>243</td>\n",
       "      <td>NaN</td>\n",
       "      <td>NaN</td>\n",
       "      <td>NaN</td>\n",
       "      <td>NaN</td>\n",
       "      <td>NaN</td>\n",
       "      <td>NaN</td>\n",
       "      <td>NaN</td>\n",
       "      <td>NaN</td>\n",
       "      <td>NaN</td>\n",
       "      <td>NaN</td>\n",
       "      <td>...</td>\n",
       "      <td>NaN</td>\n",
       "      <td>NaN</td>\n",
       "      <td>NaN</td>\n",
       "      <td>52.800000</td>\n",
       "      <td>75.200000</td>\n",
       "      <td>67.400000</td>\n",
       "      <td>84.600</td>\n",
       "      <td>Afghanistan</td>\n",
       "      <td>IC.REG.COST.PC.ZS</td>\n",
       "      <td>Cost of business start-up procedures (% of GNI...</td>\n",
       "    </tr>\n",
       "    <tr>\n",
       "      <td>559</td>\n",
       "      <td>NaN</td>\n",
       "      <td>NaN</td>\n",
       "      <td>NaN</td>\n",
       "      <td>NaN</td>\n",
       "      <td>NaN</td>\n",
       "      <td>NaN</td>\n",
       "      <td>NaN</td>\n",
       "      <td>NaN</td>\n",
       "      <td>NaN</td>\n",
       "      <td>NaN</td>\n",
       "      <td>...</td>\n",
       "      <td>0.256000</td>\n",
       "      <td>0.291000</td>\n",
       "      <td>0.325000</td>\n",
       "      <td>0.360000</td>\n",
       "      <td>0.395000</td>\n",
       "      <td>0.430000</td>\n",
       "      <td>0.465</td>\n",
       "      <td>Afghanistan</td>\n",
       "      <td>7.8</td>\n",
       "      <td>Ensure environmental sustainability</td>\n",
       "    </tr>\n",
       "    <tr>\n",
       "      <td>618</td>\n",
       "      <td>NaN</td>\n",
       "      <td>NaN</td>\n",
       "      <td>NaN</td>\n",
       "      <td>NaN</td>\n",
       "      <td>NaN</td>\n",
       "      <td>NaN</td>\n",
       "      <td>NaN</td>\n",
       "      <td>NaN</td>\n",
       "      <td>NaN</td>\n",
       "      <td>NaN</td>\n",
       "      <td>...</td>\n",
       "      <td>0.000047</td>\n",
       "      <td>0.000046</td>\n",
       "      <td>0.000879</td>\n",
       "      <td>0.001058</td>\n",
       "      <td>0.012241</td>\n",
       "      <td>0.021071</td>\n",
       "      <td>0.019</td>\n",
       "      <td>Afghanistan</td>\n",
       "      <td>8.16</td>\n",
       "      <td>Develop a global partnership for development: ...</td>\n",
       "    </tr>\n",
       "    <tr>\n",
       "      <td>660</td>\n",
       "      <td>NaN</td>\n",
       "      <td>NaN</td>\n",
       "      <td>NaN</td>\n",
       "      <td>NaN</td>\n",
       "      <td>NaN</td>\n",
       "      <td>NaN</td>\n",
       "      <td>NaN</td>\n",
       "      <td>NaN</td>\n",
       "      <td>NaN</td>\n",
       "      <td>NaN</td>\n",
       "      <td>...</td>\n",
       "      <td>NaN</td>\n",
       "      <td>NaN</td>\n",
       "      <td>NaN</td>\n",
       "      <td>NaN</td>\n",
       "      <td>20.000000</td>\n",
       "      <td>NaN</td>\n",
       "      <td>NaN</td>\n",
       "      <td>Afghanistan</td>\n",
       "      <td>SH.MMR.RISK</td>\n",
       "      <td>Lifetime risk of maternal death (1 in: rate va...</td>\n",
       "    </tr>\n",
       "  </tbody>\n",
       "</table>\n",
       "<p>5 rows × 39 columns</p>\n",
       "</div>"
      ],
      "text/plain": [
       "     1972  1973      1974  1975  1976  1977  1978  1979  1980  1981  ...  \\\n",
       "16    NaN   NaN  0.267007   NaN   NaN   NaN   NaN   NaN   NaN   NaN  ...   \n",
       "243   NaN   NaN       NaN   NaN   NaN   NaN   NaN   NaN   NaN   NaN  ...   \n",
       "559   NaN   NaN       NaN   NaN   NaN   NaN   NaN   NaN   NaN   NaN  ...   \n",
       "618   NaN   NaN       NaN   NaN   NaN   NaN   NaN   NaN   NaN   NaN  ...   \n",
       "660   NaN   NaN       NaN   NaN   NaN   NaN   NaN   NaN   NaN   NaN  ...   \n",
       "\n",
       "         2001      2002      2003       2004       2005       2006    2007  \\\n",
       "16        NaN       NaN       NaN        NaN        NaN        NaN     NaN   \n",
       "243       NaN       NaN       NaN  52.800000  75.200000  67.400000  84.600   \n",
       "559  0.256000  0.291000  0.325000   0.360000   0.395000   0.430000   0.465   \n",
       "618  0.000047  0.000046  0.000879   0.001058   0.012241   0.021071   0.019   \n",
       "660       NaN       NaN       NaN        NaN  20.000000        NaN     NaN   \n",
       "\n",
       "     Country_Name        Series_Code  \\\n",
       "16    Afghanistan                2.1   \n",
       "243   Afghanistan  IC.REG.COST.PC.ZS   \n",
       "559   Afghanistan                7.8   \n",
       "618   Afghanistan               8.16   \n",
       "660   Afghanistan        SH.MMR.RISK   \n",
       "\n",
       "                                           Series_Name  \n",
       "16                 Achieve universal primary education  \n",
       "243  Cost of business start-up procedures (% of GNI...  \n",
       "559                Ensure environmental sustainability  \n",
       "618  Develop a global partnership for development: ...  \n",
       "660  Lifetime risk of maternal death (1 in: rate va...  \n",
       "\n",
       "[5 rows x 39 columns]"
      ]
     },
     "execution_count": 122,
     "metadata": {},
     "output_type": "execute_result"
    }
   ],
   "source": [
    "# Combine the required codes\n",
    "s_codes = list(s_code_keep) + list(submission_s_code)\n",
    "\n",
    "# Filter train data (frame which removed unwanted countries):\n",
    "train_subset = train_countries[train_countries['Series_Code'].isin(s_codes)]\n",
    "train_subset.head()"
   ]
  },
  {
   "cell_type": "markdown",
   "metadata": {},
   "source": [
    "### Strategy 2:\n",
    "\n",
    "- Inspect distribution of Non NAN values\n",
    "\n",
    "- Take advantage of other statistical techniques such as interpolation (Linear/Polynomial is yet to be decided)\n",
    "\n",
    "- Apply Interpolation"
   ]
  },
  {
   "cell_type": "code",
   "execution_count": 123,
   "metadata": {},
   "outputs": [
    {
     "data": {
      "text/plain": [
       "Text(0, 0.5, 'Volume')"
      ]
     },
     "execution_count": 123,
     "metadata": {},
     "output_type": "execute_result"
    },
    {
     "data": {
      "image/png": "[encoded data removed]",
      "text/plain": [
       "<Figure size 432x288 with 1 Axes>"
      ]
     },
     "metadata": {
      "needs_background": "light"
     },
     "output_type": "display_data"
    }
   ],
   "source": [
    "# Inspection: \n",
    "train_subset.count().plot()\n",
    "plt.title('Non Nan Values')\n",
    "plt.xlabel('Years')\n",
    "plt.ylabel('Volume')"
   ]
  },
  {
   "cell_type": "markdown",
   "metadata": {},
   "source": [
    "We see from the above that we can capitalize by introducing interpolation to fill in the 'gaps' for years > 1990!"
   ]
  },
  {
   "cell_type": "code",
   "execution_count": 124,
   "metadata": {},
   "outputs": [],
   "source": [
    "train_int = train_subset.loc[:,:'2007']\n",
    "\n",
    "# Interpolate: Linear:\n",
    "train_int = train_int.interpolate(axis=1)"
   ]
  },
  {
   "cell_type": "markdown",
   "metadata": {},
   "source": [
    "#### View Before vs After Interpolation:\n",
    "\n",
    "Taking a small sample, we see that the benefits are clearly visible."
   ]
  },
  {
   "cell_type": "code",
   "execution_count": 127,
   "metadata": {},
   "outputs": [
    {
     "data": {
      "text/plain": [
       "<matplotlib.axes._subplots.AxesSubplot at 0x136fd68d0>"
      ]
     },
     "execution_count": 127,
     "metadata": {},
     "output_type": "execute_result"
    },
    {
     "data": {
      "image/png": "[encoded data removed]",
      "text/plain": [
       "<Figure size 432x288 with 1 Axes>"
      ]
     },
     "metadata": {
      "needs_background": "light"
     },
     "output_type": "display_data"
    }
   ],
   "source": [
    "# Before:\n",
    "train_subset.T.iloc[:36,20:30].plot(marker='o',legend=False)"
   ]
  },
  {
   "cell_type": "code",
   "execution_count": 128,
   "metadata": {},
   "outputs": [
    {
     "data": {
      "text/plain": [
       "<matplotlib.axes._subplots.AxesSubplot at 0x11b8e4400>"
      ]
     },
     "execution_count": 128,
     "metadata": {},
     "output_type": "execute_result"
    },
    {
     "data": {
      "image/png": "[encoded data removed]",
      "text/plain": [
       "<Figure size 432x288 with 1 Axes>"
      ]
     },
     "metadata": {
      "needs_background": "light"
     },
     "output_type": "display_data"
    }
   ],
   "source": [
    "# After\n",
    "train_int.T.iloc[:,20:30].plot(marker='o',legend=False)"
   ]
  },
  {
   "cell_type": "code",
   "execution_count": 129,
   "metadata": {},
   "outputs": [
    {
     "data": {
      "text/plain": [
       "Text(0, 0.5, 'Volume')"
      ]
     },
     "execution_count": 129,
     "metadata": {},
     "output_type": "execute_result"
    },
    {
     "data": {
      "image/png": "[encoded data removed]",
      "text/plain": [
       "<Figure size 432x288 with 1 Axes>"
      ]
     },
     "metadata": {
      "needs_background": "light"
     },
     "output_type": "display_data"
    }
   ],
   "source": [
    "# Now we have a larger period to play with:\n",
    "train_int.count().plot()\n",
    "plt.title('Non Nan Values')\n",
    "plt.xlabel('Years')\n",
    "plt.ylabel('Volume')"
   ]
  },
  {
   "cell_type": "markdown",
   "metadata": {},
   "source": [
    "### Strategy 3:\n",
    "\n",
    "- Export .csv"
   ]
  },
  {
   "cell_type": "code",
   "execution_count": 130,
   "metadata": {},
   "outputs": [],
   "source": [
    "train_int.to_csv('data/TrainingSet_Cleaned.csv')"
   ]
  },
  {
   "cell_type": "code",
   "execution_count": null,
   "metadata": {},
   "outputs": [],
   "source": []
  }
 ],
 "metadata": {
  "kernelspec": {
   "display_name": "Python 3",
   "language": "python",
   "name": "python3"
  },
  "language_info": {
   "codemirror_mode": {
    "name": "ipython",
    "version": 3
   },
   "file_extension": ".py",
   "mimetype": "text/x-python",
   "name": "python",
   "nbconvert_exporter": "python",
   "pygments_lexer": "ipython3",
   "version": "3.7.3"
  }
 },
 "nbformat": 4,
 "nbformat_minor": 4
}
