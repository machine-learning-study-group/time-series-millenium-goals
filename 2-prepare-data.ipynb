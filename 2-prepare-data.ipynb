{
 "cells": [
  {
   "cell_type": "markdown",
   "metadata": {},
   "source": [
    "# 2. Prepare Data\n",
    "\n",
    "From https://machinelearningmastery.com/process-for-working-through-machine-learning-problems/\n",
    "\n",
    "I preface data preparation with a data analysis phase that involves summarizing the attributes and visualizing them using scatter plots and histograms. I also like to describe in detail each attribute and relationships between attributes. This grunt work forces me to think about the data in the context of the problem before it is lost to the algorithms\n",
    "\n",
    "The actual data preparation process is three step as follows:\n",
    "\n",
    "* Step 1: Data Selection: Consider what data is available, what data is missing and what data can be removed.\n",
    "* Step 2: Data Preprocessing: Organize your selected data by formatting, cleaning and sampling from it.\n",
    "* Step 3: Data Transformation: Transform preprocessed data ready for machine learning by engineering features using scaling, attribute decomposition and attribute aggregation.\n"
   ]
  },
  {
   "cell_type": "markdown",
   "metadata": {},
   "source": [
    "## Update 15/5/2019\n",
    "\n",
    "### Changes from last session:\n",
    "\n",
    "Currently working on 2-prepare-data.ipynb.\n",
    "\n",
    "We have been working on finding correlations between 1 target indicator for a country and other indicators in that same country.\n",
    "* Plotting one target indicator [Environmental Sustainability (7.8)] for Afghanistan.\n",
    "* Plotting all indicators except Environmental Sustainability (7.8) for Afghanistan.\n",
    "* Plotting all indicators except Environmental Sustainability (7.8) for Afghanistan for 2001 to 2007.\n",
    "* Enlisting top correlated features against target feature [Environmental Sustainability (7.8)].\n",
    "* Plotting the top correlated indicators for Afghanisthan between 2000 to 2007.\n",
    "\n",
    "### Next steps\n",
    "\n",
    "* To predict one indicator, we can maybe use indicators on the similar goal, or the indicators from close countries (can use our continent column that we added). This needs to be determined.\n",
    "* Improve our model training, by testing it on the training data and evaluating the accuracy of the model.\n",
    "* Rerun predictions using correlations explored above and see if they improve our results.\n",
    "* We could use a more sophisticated model than linear regression to improve the accuracy of our model. Should we try polynomial for a start?\n",
    "* Find out what to do with missing data. Should we drop them or fill them?\n",
    "\n",
    "### What we have learned so far\n",
    "\n",
    "* We can problem frame this as a regression problem. Given N years of data for a metric, predict next year.\n",
    "* The series name and series code are perfectly correlated, we can drop the series name with no loss of data.\n",
    "* The series codes show a hierarchy and we can use sub codes to filter series by common goal.\n",
    "* The first column in the training and submission sets is a row ID that we can use to join the two datasets.\n",
    "* If we consider only the joined dataset then we have a much higher proportion of year data for series than the dataset as a whole. We also only need to predict values for 737 series/country combinations out of the 195402 present in the training set.\n",
    "* By applying linear regression to our series, we can already get some reasonable results for some indicators."
   ]
  },
  {
   "cell_type": "code",
   "execution_count": 1,
   "metadata": {},
   "outputs": [],
   "source": [
    "import pandas as pd\n",
    "import numpy as np\n",
    "import matplotlib.pyplot as plt\n",
    "from matplotlib.cm import get_cmap\n",
    "from sklearn.linear_model import LinearRegression\n",
    "%matplotlib inline"
   ]
  },
  {
   "cell_type": "code",
   "execution_count": 2,
   "metadata": {},
   "outputs": [],
   "source": [
    "# expands columns to maximum width\n",
    "pd.set_option('display.max_colwidth', -1)"
   ]
  },
  {
   "cell_type": "code",
   "execution_count": 3,
   "metadata": {},
   "outputs": [],
   "source": [
    "from sklearn.linear_model import LinearRegression"
   ]
  },
  {
   "cell_type": "markdown",
   "metadata": {},
   "source": [
    "## Retrieve resources\n",
    "\n",
    "The data directory will be ignored by `git` and you will need to retrieve manually the resources.\n",
    "\n",
    "You can retrieve the contents of [the zip file from the AWS link](https://s3.amazonaws.com/drivendata/data/1/public/cd238763-ed29-4a46-8584-f9334d57ec94.zip) and place them into the data subdirectory. You should have `data/TrainingSet.csv` and `data/SubmissionRows.csv`.\n",
    "\n",
    "You will need to put the `countryinfo.py` file in the data / folder  as well. Here is the [link to retrieve country info data](https://gist.githubusercontent.com/pamelafox/986163/raw/f5f9db4f1b287804fd07ffb3296ed0036292bc7a/countryinfo.py)."
   ]
  },
  {
   "cell_type": "markdown",
   "metadata": {},
   "source": [
    "## Training Set"
   ]
  },
  {
   "cell_type": "code",
   "execution_count": 4,
   "metadata": {},
   "outputs": [],
   "source": [
    "df = pd.read_csv(\"data/TrainingSet.csv\")"
   ]
  },
  {
   "cell_type": "code",
   "execution_count": 5,
   "metadata": {},
   "outputs": [
    {
     "data": {
      "text/html": [
       "<div>\n",
       "<style scoped>\n",
       "    .dataframe tbody tr th:only-of-type {\n",
       "        vertical-align: middle;\n",
       "    }\n",
       "\n",
       "    .dataframe tbody tr th {\n",
       "        vertical-align: top;\n",
       "    }\n",
       "\n",
       "    .dataframe thead th {\n",
       "        text-align: right;\n",
       "    }\n",
       "</style>\n",
       "<table border=\"1\" class=\"dataframe\">\n",
       "  <thead>\n",
       "    <tr style=\"text-align: right;\">\n",
       "      <th></th>\n",
       "      <th>Unnamed: 0</th>\n",
       "      <th>1972 [YR1972]</th>\n",
       "      <th>1973 [YR1973]</th>\n",
       "      <th>1974 [YR1974]</th>\n",
       "      <th>1975 [YR1975]</th>\n",
       "      <th>1976 [YR1976]</th>\n",
       "      <th>1977 [YR1977]</th>\n",
       "      <th>1978 [YR1978]</th>\n",
       "      <th>1979 [YR1979]</th>\n",
       "      <th>1980 [YR1980]</th>\n",
       "      <th>...</th>\n",
       "      <th>2001 [YR2001]</th>\n",
       "      <th>2002 [YR2002]</th>\n",
       "      <th>2003 [YR2003]</th>\n",
       "      <th>2004 [YR2004]</th>\n",
       "      <th>2005 [YR2005]</th>\n",
       "      <th>2006 [YR2006]</th>\n",
       "      <th>2007 [YR2007]</th>\n",
       "      <th>Country Name</th>\n",
       "      <th>Series Code</th>\n",
       "      <th>Series Name</th>\n",
       "    </tr>\n",
       "  </thead>\n",
       "  <tbody>\n",
       "    <tr>\n",
       "      <th>0</th>\n",
       "      <td>0</td>\n",
       "      <td>NaN</td>\n",
       "      <td>NaN</td>\n",
       "      <td>NaN</td>\n",
       "      <td>NaN</td>\n",
       "      <td>NaN</td>\n",
       "      <td>NaN</td>\n",
       "      <td>NaN</td>\n",
       "      <td>NaN</td>\n",
       "      <td>NaN</td>\n",
       "      <td>...</td>\n",
       "      <td>NaN</td>\n",
       "      <td>NaN</td>\n",
       "      <td>NaN</td>\n",
       "      <td>NaN</td>\n",
       "      <td>NaN</td>\n",
       "      <td>NaN</td>\n",
       "      <td>3.769214</td>\n",
       "      <td>Afghanistan</td>\n",
       "      <td>allsi.bi_q1</td>\n",
       "      <td>(%) Benefits held by 1st 20% population - All Social Insurance</td>\n",
       "    </tr>\n",
       "    <tr>\n",
       "      <th>1</th>\n",
       "      <td>1</td>\n",
       "      <td>NaN</td>\n",
       "      <td>NaN</td>\n",
       "      <td>NaN</td>\n",
       "      <td>NaN</td>\n",
       "      <td>NaN</td>\n",
       "      <td>NaN</td>\n",
       "      <td>NaN</td>\n",
       "      <td>NaN</td>\n",
       "      <td>NaN</td>\n",
       "      <td>...</td>\n",
       "      <td>NaN</td>\n",
       "      <td>NaN</td>\n",
       "      <td>NaN</td>\n",
       "      <td>NaN</td>\n",
       "      <td>NaN</td>\n",
       "      <td>NaN</td>\n",
       "      <td>7.027746</td>\n",
       "      <td>Afghanistan</td>\n",
       "      <td>allsp.bi_q1</td>\n",
       "      <td>(%) Benefits held by 1st 20% population - All Social Protection</td>\n",
       "    </tr>\n",
       "  </tbody>\n",
       "</table>\n",
       "<p>2 rows × 40 columns</p>\n",
       "</div>"
      ],
      "text/plain": [
       "   Unnamed: 0  1972 [YR1972]  1973 [YR1973]  1974 [YR1974]  1975 [YR1975]  \\\n",
       "0  0          NaN            NaN            NaN            NaN              \n",
       "1  1          NaN            NaN            NaN            NaN              \n",
       "\n",
       "   1976 [YR1976]  1977 [YR1977]  1978 [YR1978]  1979 [YR1979]  1980 [YR1980]  \\\n",
       "0 NaN            NaN            NaN            NaN            NaN              \n",
       "1 NaN            NaN            NaN            NaN            NaN              \n",
       "\n",
       "   ...  2001 [YR2001]  2002 [YR2002]  2003 [YR2003]  2004 [YR2004]  \\\n",
       "0  ... NaN            NaN            NaN            NaN              \n",
       "1  ... NaN            NaN            NaN            NaN              \n",
       "\n",
       "   2005 [YR2005]  2006 [YR2006]  2007 [YR2007]  Country Name  Series Code  \\\n",
       "0 NaN            NaN             3.769214       Afghanistan   allsi.bi_q1   \n",
       "1 NaN            NaN             7.027746       Afghanistan   allsp.bi_q1   \n",
       "\n",
       "                                                       Series Name  \n",
       "0  (%) Benefits held by 1st 20% population - All Social Insurance   \n",
       "1  (%) Benefits held by 1st 20% population - All Social Protection  \n",
       "\n",
       "[2 rows x 40 columns]"
      ]
     },
     "execution_count": 5,
     "metadata": {},
     "output_type": "execute_result"
    }
   ],
   "source": [
    "# look at the first few lines to get an idea what the actual data look like\n",
    "df.head(2)"
   ]
  },
  {
   "cell_type": "code",
   "execution_count": 6,
   "metadata": {},
   "outputs": [
    {
     "data": {
      "text/html": [
       "<div>\n",
       "<style scoped>\n",
       "    .dataframe tbody tr th:only-of-type {\n",
       "        vertical-align: middle;\n",
       "    }\n",
       "\n",
       "    .dataframe tbody tr th {\n",
       "        vertical-align: top;\n",
       "    }\n",
       "\n",
       "    .dataframe thead th {\n",
       "        text-align: right;\n",
       "    }\n",
       "</style>\n",
       "<table border=\"1\" class=\"dataframe\">\n",
       "  <thead>\n",
       "    <tr style=\"text-align: right;\">\n",
       "      <th></th>\n",
       "      <th>Unnamed: 0</th>\n",
       "      <th>1972 [YR1972]</th>\n",
       "      <th>1973 [YR1973]</th>\n",
       "      <th>1974 [YR1974]</th>\n",
       "      <th>1975 [YR1975]</th>\n",
       "      <th>1976 [YR1976]</th>\n",
       "      <th>1977 [YR1977]</th>\n",
       "      <th>1978 [YR1978]</th>\n",
       "      <th>1979 [YR1979]</th>\n",
       "      <th>1980 [YR1980]</th>\n",
       "      <th>...</th>\n",
       "      <th>2001 [YR2001]</th>\n",
       "      <th>2002 [YR2002]</th>\n",
       "      <th>2003 [YR2003]</th>\n",
       "      <th>2004 [YR2004]</th>\n",
       "      <th>2005 [YR2005]</th>\n",
       "      <th>2006 [YR2006]</th>\n",
       "      <th>2007 [YR2007]</th>\n",
       "      <th>Country Name</th>\n",
       "      <th>Series Code</th>\n",
       "      <th>Series Name</th>\n",
       "    </tr>\n",
       "  </thead>\n",
       "  <tbody>\n",
       "    <tr>\n",
       "      <th>195400</th>\n",
       "      <td>286116</td>\n",
       "      <td>NaN</td>\n",
       "      <td>NaN</td>\n",
       "      <td>NaN</td>\n",
       "      <td>NaN</td>\n",
       "      <td>NaN</td>\n",
       "      <td>NaN</td>\n",
       "      <td>NaN</td>\n",
       "      <td>NaN</td>\n",
       "      <td>NaN</td>\n",
       "      <td>...</td>\n",
       "      <td>NaN</td>\n",
       "      <td>NaN</td>\n",
       "      <td>NaN</td>\n",
       "      <td>NaN</td>\n",
       "      <td>NaN</td>\n",
       "      <td>24.3</td>\n",
       "      <td>NaN</td>\n",
       "      <td>Zimbabwe</td>\n",
       "      <td>SG.VAW.REFU.ZS</td>\n",
       "      <td>Women who believe a husband is justified in beating his wife when she refuses sex with him (%)</td>\n",
       "    </tr>\n",
       "    <tr>\n",
       "      <th>195401</th>\n",
       "      <td>286117</td>\n",
       "      <td>NaN</td>\n",
       "      <td>NaN</td>\n",
       "      <td>NaN</td>\n",
       "      <td>NaN</td>\n",
       "      <td>NaN</td>\n",
       "      <td>NaN</td>\n",
       "      <td>NaN</td>\n",
       "      <td>NaN</td>\n",
       "      <td>NaN</td>\n",
       "      <td>...</td>\n",
       "      <td>57.0</td>\n",
       "      <td>57.2</td>\n",
       "      <td>57.5</td>\n",
       "      <td>57.7</td>\n",
       "      <td>57.9</td>\n",
       "      <td>58.1</td>\n",
       "      <td>58.3</td>\n",
       "      <td>Zimbabwe</td>\n",
       "      <td>SH.DYN.AIDS.FE.ZS</td>\n",
       "      <td>Women's share of population ages 15+ living with HIV (%)</td>\n",
       "    </tr>\n",
       "  </tbody>\n",
       "</table>\n",
       "<p>2 rows × 40 columns</p>\n",
       "</div>"
      ],
      "text/plain": [
       "        Unnamed: 0  1972 [YR1972]  1973 [YR1973]  1974 [YR1974]  \\\n",
       "195400  286116     NaN            NaN            NaN              \n",
       "195401  286117     NaN            NaN            NaN              \n",
       "\n",
       "        1975 [YR1975]  1976 [YR1976]  1977 [YR1977]  1978 [YR1978]  \\\n",
       "195400 NaN            NaN            NaN            NaN              \n",
       "195401 NaN            NaN            NaN            NaN              \n",
       "\n",
       "        1979 [YR1979]  1980 [YR1980]  ...  2001 [YR2001]  2002 [YR2002]  \\\n",
       "195400 NaN            NaN             ... NaN            NaN              \n",
       "195401 NaN            NaN             ...  57.0           57.2            \n",
       "\n",
       "        2003 [YR2003]  2004 [YR2004]  2005 [YR2005]  2006 [YR2006]  \\\n",
       "195400 NaN            NaN            NaN             24.3            \n",
       "195401  57.5           57.7           57.9           58.1            \n",
       "\n",
       "        2007 [YR2007]  Country Name        Series Code  \\\n",
       "195400 NaN             Zimbabwe      SG.VAW.REFU.ZS      \n",
       "195401  58.3           Zimbabwe      SH.DYN.AIDS.FE.ZS   \n",
       "\n",
       "                                                                                           Series Name  \n",
       "195400  Women who believe a husband is justified in beating his wife when she refuses sex with him (%)  \n",
       "195401  Women's share of population ages 15+ living with HIV (%)                                        \n",
       "\n",
       "[2 rows x 40 columns]"
      ]
     },
     "execution_count": 6,
     "metadata": {},
     "output_type": "execute_result"
    }
   ],
   "source": [
    "# last few lines\n",
    "df.tail(2)"
   ]
  },
  {
   "cell_type": "markdown",
   "metadata": {},
   "source": [
    "The first column looks like a row ID, let's double check to see if that's the case."
   ]
  },
  {
   "cell_type": "code",
   "execution_count": 7,
   "metadata": {},
   "outputs": [
    {
     "data": {
      "text/plain": [
       "True"
      ]
     },
     "execution_count": 7,
     "metadata": {},
     "output_type": "execute_result"
    }
   ],
   "source": [
    "df.iloc[:,0].nunique() == df.shape[0]"
   ]
  },
  {
   "cell_type": "markdown",
   "metadata": {},
   "source": [
    "There are as many unique rows in the index column as in the row dataframe dimension, so I'm going to use `index_col=0`."
   ]
  },
  {
   "cell_type": "code",
   "execution_count": 8,
   "metadata": {},
   "outputs": [],
   "source": [
    "df = pd.read_csv('data/TrainingSet.csv', index_col=0)"
   ]
  },
  {
   "cell_type": "code",
   "execution_count": 9,
   "metadata": {},
   "outputs": [
    {
     "data": {
      "text/html": [
       "<div>\n",
       "<style scoped>\n",
       "    .dataframe tbody tr th:only-of-type {\n",
       "        vertical-align: middle;\n",
       "    }\n",
       "\n",
       "    .dataframe tbody tr th {\n",
       "        vertical-align: top;\n",
       "    }\n",
       "\n",
       "    .dataframe thead th {\n",
       "        text-align: right;\n",
       "    }\n",
       "</style>\n",
       "<table border=\"1\" class=\"dataframe\">\n",
       "  <thead>\n",
       "    <tr style=\"text-align: right;\">\n",
       "      <th></th>\n",
       "      <th>1972 [YR1972]</th>\n",
       "      <th>1973 [YR1973]</th>\n",
       "      <th>1974 [YR1974]</th>\n",
       "      <th>1975 [YR1975]</th>\n",
       "      <th>1976 [YR1976]</th>\n",
       "      <th>1977 [YR1977]</th>\n",
       "      <th>1978 [YR1978]</th>\n",
       "      <th>1979 [YR1979]</th>\n",
       "      <th>1980 [YR1980]</th>\n",
       "      <th>1981 [YR1981]</th>\n",
       "      <th>...</th>\n",
       "      <th>2001 [YR2001]</th>\n",
       "      <th>2002 [YR2002]</th>\n",
       "      <th>2003 [YR2003]</th>\n",
       "      <th>2004 [YR2004]</th>\n",
       "      <th>2005 [YR2005]</th>\n",
       "      <th>2006 [YR2006]</th>\n",
       "      <th>2007 [YR2007]</th>\n",
       "      <th>Country Name</th>\n",
       "      <th>Series Code</th>\n",
       "      <th>Series Name</th>\n",
       "    </tr>\n",
       "  </thead>\n",
       "  <tbody>\n",
       "    <tr>\n",
       "      <th>0</th>\n",
       "      <td>NaN</td>\n",
       "      <td>NaN</td>\n",
       "      <td>NaN</td>\n",
       "      <td>NaN</td>\n",
       "      <td>NaN</td>\n",
       "      <td>NaN</td>\n",
       "      <td>NaN</td>\n",
       "      <td>NaN</td>\n",
       "      <td>NaN</td>\n",
       "      <td>NaN</td>\n",
       "      <td>...</td>\n",
       "      <td>NaN</td>\n",
       "      <td>NaN</td>\n",
       "      <td>NaN</td>\n",
       "      <td>NaN</td>\n",
       "      <td>NaN</td>\n",
       "      <td>NaN</td>\n",
       "      <td>3.769214</td>\n",
       "      <td>Afghanistan</td>\n",
       "      <td>allsi.bi_q1</td>\n",
       "      <td>(%) Benefits held by 1st 20% population - All Social Insurance</td>\n",
       "    </tr>\n",
       "    <tr>\n",
       "      <th>1</th>\n",
       "      <td>NaN</td>\n",
       "      <td>NaN</td>\n",
       "      <td>NaN</td>\n",
       "      <td>NaN</td>\n",
       "      <td>NaN</td>\n",
       "      <td>NaN</td>\n",
       "      <td>NaN</td>\n",
       "      <td>NaN</td>\n",
       "      <td>NaN</td>\n",
       "      <td>NaN</td>\n",
       "      <td>...</td>\n",
       "      <td>NaN</td>\n",
       "      <td>NaN</td>\n",
       "      <td>NaN</td>\n",
       "      <td>NaN</td>\n",
       "      <td>NaN</td>\n",
       "      <td>NaN</td>\n",
       "      <td>7.027746</td>\n",
       "      <td>Afghanistan</td>\n",
       "      <td>allsp.bi_q1</td>\n",
       "      <td>(%) Benefits held by 1st 20% population - All Social Protection</td>\n",
       "    </tr>\n",
       "    <tr>\n",
       "      <th>2</th>\n",
       "      <td>NaN</td>\n",
       "      <td>NaN</td>\n",
       "      <td>NaN</td>\n",
       "      <td>NaN</td>\n",
       "      <td>NaN</td>\n",
       "      <td>NaN</td>\n",
       "      <td>NaN</td>\n",
       "      <td>NaN</td>\n",
       "      <td>NaN</td>\n",
       "      <td>NaN</td>\n",
       "      <td>...</td>\n",
       "      <td>NaN</td>\n",
       "      <td>NaN</td>\n",
       "      <td>NaN</td>\n",
       "      <td>NaN</td>\n",
       "      <td>NaN</td>\n",
       "      <td>NaN</td>\n",
       "      <td>8.244887</td>\n",
       "      <td>Afghanistan</td>\n",
       "      <td>allsa.bi_q1</td>\n",
       "      <td>(%) Benefits held by 1st 20% population - All Social Safety Nets</td>\n",
       "    </tr>\n",
       "  </tbody>\n",
       "</table>\n",
       "<p>3 rows × 39 columns</p>\n",
       "</div>"
      ],
      "text/plain": [
       "   1972 [YR1972]  1973 [YR1973]  1974 [YR1974]  1975 [YR1975]  1976 [YR1976]  \\\n",
       "0 NaN            NaN            NaN            NaN            NaN              \n",
       "1 NaN            NaN            NaN            NaN            NaN              \n",
       "2 NaN            NaN            NaN            NaN            NaN              \n",
       "\n",
       "   1977 [YR1977]  1978 [YR1978]  1979 [YR1979]  1980 [YR1980]  1981 [YR1981]  \\\n",
       "0 NaN            NaN            NaN            NaN            NaN              \n",
       "1 NaN            NaN            NaN            NaN            NaN              \n",
       "2 NaN            NaN            NaN            NaN            NaN              \n",
       "\n",
       "   ...  2001 [YR2001]  2002 [YR2002]  2003 [YR2003]  2004 [YR2004]  \\\n",
       "0  ... NaN            NaN            NaN            NaN              \n",
       "1  ... NaN            NaN            NaN            NaN              \n",
       "2  ... NaN            NaN            NaN            NaN              \n",
       "\n",
       "   2005 [YR2005]  2006 [YR2006]  2007 [YR2007]  Country Name  Series Code  \\\n",
       "0 NaN            NaN             3.769214       Afghanistan   allsi.bi_q1   \n",
       "1 NaN            NaN             7.027746       Afghanistan   allsp.bi_q1   \n",
       "2 NaN            NaN             8.244887       Afghanistan   allsa.bi_q1   \n",
       "\n",
       "                                                        Series Name  \n",
       "0  (%) Benefits held by 1st 20% population - All Social Insurance    \n",
       "1  (%) Benefits held by 1st 20% population - All Social Protection   \n",
       "2  (%) Benefits held by 1st 20% population - All Social Safety Nets  \n",
       "\n",
       "[3 rows x 39 columns]"
      ]
     },
     "execution_count": 9,
     "metadata": {},
     "output_type": "execute_result"
    }
   ],
   "source": [
    "df.head(3)"
   ]
  },
  {
   "cell_type": "code",
   "execution_count": 10,
   "metadata": {},
   "outputs": [
    {
     "data": {
      "text/plain": [
       "Index(['1972 [YR1972]', '1973 [YR1973]', '1974 [YR1974]', '1975 [YR1975]',\n",
       "       '1976 [YR1976]', '1977 [YR1977]', '1978 [YR1978]', '1979 [YR1979]',\n",
       "       '1980 [YR1980]', '1981 [YR1981]', '1982 [YR1982]', '1983 [YR1983]',\n",
       "       '1984 [YR1984]', '1985 [YR1985]', '1986 [YR1986]', '1987 [YR1987]',\n",
       "       '1988 [YR1988]', '1989 [YR1989]', '1990 [YR1990]', '1991 [YR1991]',\n",
       "       '1992 [YR1992]', '1993 [YR1993]', '1994 [YR1994]', '1995 [YR1995]',\n",
       "       '1996 [YR1996]', '1997 [YR1997]', '1998 [YR1998]', '1999 [YR1999]',\n",
       "       '2000 [YR2000]', '2001 [YR2001]', '2002 [YR2002]', '2003 [YR2003]',\n",
       "       '2004 [YR2004]', '2005 [YR2005]', '2006 [YR2006]', '2007 [YR2007]',\n",
       "       'Country Name', 'Series Code', 'Series Name'],\n",
       "      dtype='object')"
      ]
     },
     "execution_count": 10,
     "metadata": {},
     "output_type": "execute_result"
    }
   ],
   "source": [
    "# what are the column names?\n",
    "df.columns"
   ]
  },
  {
   "cell_type": "markdown",
   "metadata": {},
   "source": [
    "Let's rename the columns to remove gaps and unnecessary info and to ease further coding when selecting the sets of columns."
   ]
  },
  {
   "cell_type": "code",
   "execution_count": 11,
   "metadata": {},
   "outputs": [],
   "source": [
    "df.columns = [year[:4] for year in df.columns][:-3] + [col.replace(' ', '_') for col in df.columns.values[-3:]]"
   ]
  },
  {
   "cell_type": "code",
   "execution_count": 12,
   "metadata": {},
   "outputs": [
    {
     "data": {
      "text/html": [
       "<div>\n",
       "<style scoped>\n",
       "    .dataframe tbody tr th:only-of-type {\n",
       "        vertical-align: middle;\n",
       "    }\n",
       "\n",
       "    .dataframe tbody tr th {\n",
       "        vertical-align: top;\n",
       "    }\n",
       "\n",
       "    .dataframe thead th {\n",
       "        text-align: right;\n",
       "    }\n",
       "</style>\n",
       "<table border=\"1\" class=\"dataframe\">\n",
       "  <thead>\n",
       "    <tr style=\"text-align: right;\">\n",
       "      <th></th>\n",
       "      <th>count</th>\n",
       "      <th>mean</th>\n",
       "      <th>std</th>\n",
       "      <th>min</th>\n",
       "      <th>25%</th>\n",
       "      <th>50%</th>\n",
       "      <th>75%</th>\n",
       "      <th>max</th>\n",
       "    </tr>\n",
       "  </thead>\n",
       "  <tbody>\n",
       "    <tr>\n",
       "      <th>1972</th>\n",
       "      <td>64945.0</td>\n",
       "      <td>1.630638e+11</td>\n",
       "      <td>4.261616e+12</td>\n",
       "      <td>-1.047939e+14</td>\n",
       "      <td>3.176702</td>\n",
       "      <td>63.940000</td>\n",
       "      <td>5.007000e+06</td>\n",
       "      <td>2.681335e+14</td>\n",
       "    </tr>\n",
       "    <tr>\n",
       "      <th>1973</th>\n",
       "      <td>64443.0</td>\n",
       "      <td>1.839488e+11</td>\n",
       "      <td>4.749746e+12</td>\n",
       "      <td>-1.128889e+14</td>\n",
       "      <td>3.550009</td>\n",
       "      <td>66.317365</td>\n",
       "      <td>7.131000e+06</td>\n",
       "      <td>2.943467e+14</td>\n",
       "    </tr>\n",
       "    <tr>\n",
       "      <th>1974</th>\n",
       "      <td>64966.0</td>\n",
       "      <td>2.089534e+11</td>\n",
       "      <td>5.378336e+12</td>\n",
       "      <td>-7.134161e+13</td>\n",
       "      <td>4.000000</td>\n",
       "      <td>70.485627</td>\n",
       "      <td>9.250000e+06</td>\n",
       "      <td>3.186506e+14</td>\n",
       "    </tr>\n",
       "    <tr>\n",
       "      <th>1975</th>\n",
       "      <td>66973.0</td>\n",
       "      <td>2.148826e+11</td>\n",
       "      <td>5.647070e+12</td>\n",
       "      <td>-8.269588e+13</td>\n",
       "      <td>3.671917</td>\n",
       "      <td>71.886131</td>\n",
       "      <td>1.108200e+07</td>\n",
       "      <td>3.383541e+14</td>\n",
       "    </tr>\n",
       "    <tr>\n",
       "      <th>1976</th>\n",
       "      <td>67717.0</td>\n",
       "      <td>2.321517e+11</td>\n",
       "      <td>6.120314e+12</td>\n",
       "      <td>-9.735652e+13</td>\n",
       "      <td>4.595300</td>\n",
       "      <td>74.563536</td>\n",
       "      <td>1.290000e+07</td>\n",
       "      <td>3.586152e+14</td>\n",
       "    </tr>\n",
       "    <tr>\n",
       "      <th>1977</th>\n",
       "      <td>69735.0</td>\n",
       "      <td>2.413682e+11</td>\n",
       "      <td>6.398377e+12</td>\n",
       "      <td>-9.433422e+13</td>\n",
       "      <td>5.000000</td>\n",
       "      <td>78.944621</td>\n",
       "      <td>1.540950e+07</td>\n",
       "      <td>3.895869e+14</td>\n",
       "    </tr>\n",
       "    <tr>\n",
       "      <th>1978</th>\n",
       "      <td>69763.0</td>\n",
       "      <td>2.540583e+11</td>\n",
       "      <td>6.710724e+12</td>\n",
       "      <td>-9.495898e+13</td>\n",
       "      <td>4.901495</td>\n",
       "      <td>78.638080</td>\n",
       "      <td>1.922850e+07</td>\n",
       "      <td>4.254506e+14</td>\n",
       "    </tr>\n",
       "    <tr>\n",
       "      <th>1979</th>\n",
       "      <td>69906.0</td>\n",
       "      <td>2.742810e+11</td>\n",
       "      <td>7.213662e+12</td>\n",
       "      <td>-5.362479e+13</td>\n",
       "      <td>5.000000</td>\n",
       "      <td>81.408655</td>\n",
       "      <td>2.409375e+07</td>\n",
       "      <td>4.556262e+14</td>\n",
       "    </tr>\n",
       "    <tr>\n",
       "      <th>1980</th>\n",
       "      <td>75250.0</td>\n",
       "      <td>2.674858e+11</td>\n",
       "      <td>7.381164e+12</td>\n",
       "      <td>-5.649790e+13</td>\n",
       "      <td>5.682373</td>\n",
       "      <td>81.829695</td>\n",
       "      <td>2.419225e+07</td>\n",
       "      <td>5.039050e+14</td>\n",
       "    </tr>\n",
       "    <tr>\n",
       "      <th>1981</th>\n",
       "      <td>78034.0</td>\n",
       "      <td>2.774415e+11</td>\n",
       "      <td>7.942777e+12</td>\n",
       "      <td>-5.437839e+13</td>\n",
       "      <td>5.000000</td>\n",
       "      <td>78.137173</td>\n",
       "      <td>2.317875e+07</td>\n",
       "      <td>5.815794e+14</td>\n",
       "    </tr>\n",
       "    <tr>\n",
       "      <th>1982</th>\n",
       "      <td>79016.0</td>\n",
       "      <td>2.855765e+11</td>\n",
       "      <td>8.172645e+12</td>\n",
       "      <td>-3.426626e+13</td>\n",
       "      <td>4.960081</td>\n",
       "      <td>80.318724</td>\n",
       "      <td>2.256215e+07</td>\n",
       "      <td>5.758716e+14</td>\n",
       "    </tr>\n",
       "    <tr>\n",
       "      <th>1983</th>\n",
       "      <td>78982.0</td>\n",
       "      <td>3.044762e+11</td>\n",
       "      <td>8.692754e+12</td>\n",
       "      <td>-5.200444e+13</td>\n",
       "      <td>5.000000</td>\n",
       "      <td>79.300002</td>\n",
       "      <td>2.350450e+07</td>\n",
       "      <td>6.003113e+14</td>\n",
       "    </tr>\n",
       "    <tr>\n",
       "      <th>1984</th>\n",
       "      <td>79532.0</td>\n",
       "      <td>3.245888e+11</td>\n",
       "      <td>9.276417e+12</td>\n",
       "      <td>-3.946788e+13</td>\n",
       "      <td>5.196830</td>\n",
       "      <td>79.811320</td>\n",
       "      <td>2.427000e+07</td>\n",
       "      <td>6.447141e+14</td>\n",
       "    </tr>\n",
       "    <tr>\n",
       "      <th>1985</th>\n",
       "      <td>81017.0</td>\n",
       "      <td>3.427618e+11</td>\n",
       "      <td>9.772436e+12</td>\n",
       "      <td>-3.687346e+13</td>\n",
       "      <td>5.065000</td>\n",
       "      <td>79.066896</td>\n",
       "      <td>2.448900e+07</td>\n",
       "      <td>6.806750e+14</td>\n",
       "    </tr>\n",
       "    <tr>\n",
       "      <th>1986</th>\n",
       "      <td>81455.0</td>\n",
       "      <td>3.562208e+11</td>\n",
       "      <td>1.013773e+13</td>\n",
       "      <td>-3.562521e+13</td>\n",
       "      <td>5.228311</td>\n",
       "      <td>78.127934</td>\n",
       "      <td>2.689850e+07</td>\n",
       "      <td>7.329650e+14</td>\n",
       "    </tr>\n",
       "    <tr>\n",
       "      <th>1987</th>\n",
       "      <td>82752.0</td>\n",
       "      <td>3.756705e+11</td>\n",
       "      <td>1.065710e+13</td>\n",
       "      <td>-3.890910e+13</td>\n",
       "      <td>5.006363</td>\n",
       "      <td>76.738150</td>\n",
       "      <td>2.689311e+07</td>\n",
       "      <td>8.034300e+14</td>\n",
       "    </tr>\n",
       "    <tr>\n",
       "      <th>1988</th>\n",
       "      <td>83242.0</td>\n",
       "      <td>4.052722e+11</td>\n",
       "      <td>1.146437e+13</td>\n",
       "      <td>-6.349069e+13</td>\n",
       "      <td>5.077723</td>\n",
       "      <td>74.985556</td>\n",
       "      <td>2.981823e+07</td>\n",
       "      <td>8.865110e+14</td>\n",
       "    </tr>\n",
       "    <tr>\n",
       "      <th>1989</th>\n",
       "      <td>86331.0</td>\n",
       "      <td>4.554388e+11</td>\n",
       "      <td>1.279491e+13</td>\n",
       "      <td>-5.612962e+13</td>\n",
       "      <td>4.595098</td>\n",
       "      <td>75.668400</td>\n",
       "      <td>2.869550e+07</td>\n",
       "      <td>9.735230e+14</td>\n",
       "    </tr>\n",
       "    <tr>\n",
       "      <th>1990</th>\n",
       "      <td>106955.0</td>\n",
       "      <td>4.132816e+11</td>\n",
       "      <td>1.255151e+13</td>\n",
       "      <td>-4.287495e+13</td>\n",
       "      <td>5.045321</td>\n",
       "      <td>69.400000</td>\n",
       "      <td>1.332700e+07</td>\n",
       "      <td>1.047622e+15</td>\n",
       "    </tr>\n",
       "    <tr>\n",
       "      <th>1991</th>\n",
       "      <td>106991.0</td>\n",
       "      <td>4.546238e+11</td>\n",
       "      <td>1.344050e+13</td>\n",
       "      <td>-5.221512e+13</td>\n",
       "      <td>5.050660</td>\n",
       "      <td>66.542463</td>\n",
       "      <td>1.692168e+07</td>\n",
       "      <td>1.097263e+15</td>\n",
       "    </tr>\n",
       "    <tr>\n",
       "      <th>1992</th>\n",
       "      <td>112243.0</td>\n",
       "      <td>4.662766e+11</td>\n",
       "      <td>1.389502e+13</td>\n",
       "      <td>-5.054790e+13</td>\n",
       "      <td>4.708118</td>\n",
       "      <td>65.160000</td>\n",
       "      <td>1.414500e+07</td>\n",
       "      <td>1.153124e+15</td>\n",
       "    </tr>\n",
       "    <tr>\n",
       "      <th>1993</th>\n",
       "      <td>114553.0</td>\n",
       "      <td>4.939287e+11</td>\n",
       "      <td>1.466769e+13</td>\n",
       "      <td>-7.303608e+13</td>\n",
       "      <td>4.570544</td>\n",
       "      <td>64.571959</td>\n",
       "      <td>1.545200e+07</td>\n",
       "      <td>1.192591e+15</td>\n",
       "    </tr>\n",
       "    <tr>\n",
       "      <th>1994</th>\n",
       "      <td>116823.0</td>\n",
       "      <td>5.562240e+11</td>\n",
       "      <td>1.599025e+13</td>\n",
       "      <td>-6.360371e+13</td>\n",
       "      <td>4.860058</td>\n",
       "      <td>65.900002</td>\n",
       "      <td>1.827500e+07</td>\n",
       "      <td>1.238312e+15</td>\n",
       "    </tr>\n",
       "    <tr>\n",
       "      <th>1995</th>\n",
       "      <td>124468.0</td>\n",
       "      <td>5.777780e+11</td>\n",
       "      <td>1.681787e+13</td>\n",
       "      <td>-7.682327e+13</td>\n",
       "      <td>5.181426</td>\n",
       "      <td>65.699997</td>\n",
       "      <td>1.779400e+07</td>\n",
       "      <td>1.342285e+15</td>\n",
       "    </tr>\n",
       "    <tr>\n",
       "      <th>1996</th>\n",
       "      <td>124374.0</td>\n",
       "      <td>6.334248e+11</td>\n",
       "      <td>1.817110e+13</td>\n",
       "      <td>-9.040236e+13</td>\n",
       "      <td>5.254441</td>\n",
       "      <td>65.534551</td>\n",
       "      <td>1.917926e+07</td>\n",
       "      <td>1.444873e+15</td>\n",
       "    </tr>\n",
       "    <tr>\n",
       "      <th>1997</th>\n",
       "      <td>125686.0</td>\n",
       "      <td>6.777829e+11</td>\n",
       "      <td>1.919710e+13</td>\n",
       "      <td>-7.724689e+13</td>\n",
       "      <td>5.200000</td>\n",
       "      <td>65.400002</td>\n",
       "      <td>1.900300e+07</td>\n",
       "      <td>1.517223e+15</td>\n",
       "    </tr>\n",
       "    <tr>\n",
       "      <th>1998</th>\n",
       "      <td>125944.0</td>\n",
       "      <td>7.079045e+11</td>\n",
       "      <td>1.927225e+13</td>\n",
       "      <td>-1.014742e+14</td>\n",
       "      <td>4.902281</td>\n",
       "      <td>64.235994</td>\n",
       "      <td>1.870445e+07</td>\n",
       "      <td>1.348416e+15</td>\n",
       "    </tr>\n",
       "    <tr>\n",
       "      <th>1999</th>\n",
       "      <td>130880.0</td>\n",
       "      <td>7.214590e+11</td>\n",
       "      <td>1.975110e+13</td>\n",
       "      <td>-9.646140e+13</td>\n",
       "      <td>5.264969</td>\n",
       "      <td>65.699997</td>\n",
       "      <td>1.300000e+07</td>\n",
       "      <td>1.324599e+15</td>\n",
       "    </tr>\n",
       "    <tr>\n",
       "      <th>2000</th>\n",
       "      <td>140547.0</td>\n",
       "      <td>7.396189e+11</td>\n",
       "      <td>2.055262e+13</td>\n",
       "      <td>-9.216180e+13</td>\n",
       "      <td>5.304083</td>\n",
       "      <td>62.707958</td>\n",
       "      <td>6.544000e+06</td>\n",
       "      <td>1.389770e+15</td>\n",
       "    </tr>\n",
       "    <tr>\n",
       "      <th>2001</th>\n",
       "      <td>136783.0</td>\n",
       "      <td>8.236331e+11</td>\n",
       "      <td>2.240717e+13</td>\n",
       "      <td>-6.621060e+13</td>\n",
       "      <td>5.249579</td>\n",
       "      <td>63.916000</td>\n",
       "      <td>1.038850e+07</td>\n",
       "      <td>1.646322e+15</td>\n",
       "    </tr>\n",
       "    <tr>\n",
       "      <th>2002</th>\n",
       "      <td>140315.0</td>\n",
       "      <td>8.834342e+11</td>\n",
       "      <td>2.412411e+13</td>\n",
       "      <td>-5.635700e+13</td>\n",
       "      <td>5.269189</td>\n",
       "      <td>63.299999</td>\n",
       "      <td>9.278000e+06</td>\n",
       "      <td>1.821833e+15</td>\n",
       "    </tr>\n",
       "    <tr>\n",
       "      <th>2003</th>\n",
       "      <td>139159.0</td>\n",
       "      <td>9.691983e+11</td>\n",
       "      <td>2.612031e+13</td>\n",
       "      <td>-1.853552e+14</td>\n",
       "      <td>5.500000</td>\n",
       "      <td>64.522871</td>\n",
       "      <td>1.200000e+07</td>\n",
       "      <td>2.013675e+15</td>\n",
       "    </tr>\n",
       "    <tr>\n",
       "      <th>2004</th>\n",
       "      <td>142379.0</td>\n",
       "      <td>1.054572e+12</td>\n",
       "      <td>2.874833e+13</td>\n",
       "      <td>-1.515222e+14</td>\n",
       "      <td>5.460000</td>\n",
       "      <td>62.906202</td>\n",
       "      <td>1.066050e+07</td>\n",
       "      <td>2.295826e+15</td>\n",
       "    </tr>\n",
       "    <tr>\n",
       "      <th>2005</th>\n",
       "      <td>161544.0</td>\n",
       "      <td>1.057680e+12</td>\n",
       "      <td>3.047457e+13</td>\n",
       "      <td>-1.350005e+14</td>\n",
       "      <td>5.206670</td>\n",
       "      <td>57.378561</td>\n",
       "      <td>8.484250e+06</td>\n",
       "      <td>2.774281e+15</td>\n",
       "    </tr>\n",
       "    <tr>\n",
       "      <th>2006</th>\n",
       "      <td>158888.0</td>\n",
       "      <td>1.203163e+12</td>\n",
       "      <td>3.469590e+13</td>\n",
       "      <td>-1.422689e+14</td>\n",
       "      <td>5.206982</td>\n",
       "      <td>55.474170</td>\n",
       "      <td>1.025022e+07</td>\n",
       "      <td>3.339217e+15</td>\n",
       "    </tr>\n",
       "    <tr>\n",
       "      <th>2007</th>\n",
       "      <td>161596.0</td>\n",
       "      <td>1.353147e+12</td>\n",
       "      <td>4.002108e+13</td>\n",
       "      <td>-1.691820e+14</td>\n",
       "      <td>5.000000</td>\n",
       "      <td>55.043033</td>\n",
       "      <td>8.599101e+06</td>\n",
       "      <td>3.950893e+15</td>\n",
       "    </tr>\n",
       "  </tbody>\n",
       "</table>\n",
       "</div>"
      ],
      "text/plain": [
       "         count          mean           std           min       25%        50%  \\\n",
       "1972  64945.0   1.630638e+11  4.261616e+12 -1.047939e+14  3.176702  63.940000   \n",
       "1973  64443.0   1.839488e+11  4.749746e+12 -1.128889e+14  3.550009  66.317365   \n",
       "1974  64966.0   2.089534e+11  5.378336e+12 -7.134161e+13  4.000000  70.485627   \n",
       "1975  66973.0   2.148826e+11  5.647070e+12 -8.269588e+13  3.671917  71.886131   \n",
       "1976  67717.0   2.321517e+11  6.120314e+12 -9.735652e+13  4.595300  74.563536   \n",
       "1977  69735.0   2.413682e+11  6.398377e+12 -9.433422e+13  5.000000  78.944621   \n",
       "1978  69763.0   2.540583e+11  6.710724e+12 -9.495898e+13  4.901495  78.638080   \n",
       "1979  69906.0   2.742810e+11  7.213662e+12 -5.362479e+13  5.000000  81.408655   \n",
       "1980  75250.0   2.674858e+11  7.381164e+12 -5.649790e+13  5.682373  81.829695   \n",
       "1981  78034.0   2.774415e+11  7.942777e+12 -5.437839e+13  5.000000  78.137173   \n",
       "1982  79016.0   2.855765e+11  8.172645e+12 -3.426626e+13  4.960081  80.318724   \n",
       "1983  78982.0   3.044762e+11  8.692754e+12 -5.200444e+13  5.000000  79.300002   \n",
       "1984  79532.0   3.245888e+11  9.276417e+12 -3.946788e+13  5.196830  79.811320   \n",
       "1985  81017.0   3.427618e+11  9.772436e+12 -3.687346e+13  5.065000  79.066896   \n",
       "1986  81455.0   3.562208e+11  1.013773e+13 -3.562521e+13  5.228311  78.127934   \n",
       "1987  82752.0   3.756705e+11  1.065710e+13 -3.890910e+13  5.006363  76.738150   \n",
       "1988  83242.0   4.052722e+11  1.146437e+13 -6.349069e+13  5.077723  74.985556   \n",
       "1989  86331.0   4.554388e+11  1.279491e+13 -5.612962e+13  4.595098  75.668400   \n",
       "1990  106955.0  4.132816e+11  1.255151e+13 -4.287495e+13  5.045321  69.400000   \n",
       "1991  106991.0  4.546238e+11  1.344050e+13 -5.221512e+13  5.050660  66.542463   \n",
       "1992  112243.0  4.662766e+11  1.389502e+13 -5.054790e+13  4.708118  65.160000   \n",
       "1993  114553.0  4.939287e+11  1.466769e+13 -7.303608e+13  4.570544  64.571959   \n",
       "1994  116823.0  5.562240e+11  1.599025e+13 -6.360371e+13  4.860058  65.900002   \n",
       "1995  124468.0  5.777780e+11  1.681787e+13 -7.682327e+13  5.181426  65.699997   \n",
       "1996  124374.0  6.334248e+11  1.817110e+13 -9.040236e+13  5.254441  65.534551   \n",
       "1997  125686.0  6.777829e+11  1.919710e+13 -7.724689e+13  5.200000  65.400002   \n",
       "1998  125944.0  7.079045e+11  1.927225e+13 -1.014742e+14  4.902281  64.235994   \n",
       "1999  130880.0  7.214590e+11  1.975110e+13 -9.646140e+13  5.264969  65.699997   \n",
       "2000  140547.0  7.396189e+11  2.055262e+13 -9.216180e+13  5.304083  62.707958   \n",
       "2001  136783.0  8.236331e+11  2.240717e+13 -6.621060e+13  5.249579  63.916000   \n",
       "2002  140315.0  8.834342e+11  2.412411e+13 -5.635700e+13  5.269189  63.299999   \n",
       "2003  139159.0  9.691983e+11  2.612031e+13 -1.853552e+14  5.500000  64.522871   \n",
       "2004  142379.0  1.054572e+12  2.874833e+13 -1.515222e+14  5.460000  62.906202   \n",
       "2005  161544.0  1.057680e+12  3.047457e+13 -1.350005e+14  5.206670  57.378561   \n",
       "2006  158888.0  1.203163e+12  3.469590e+13 -1.422689e+14  5.206982  55.474170   \n",
       "2007  161596.0  1.353147e+12  4.002108e+13 -1.691820e+14  5.000000  55.043033   \n",
       "\n",
       "               75%           max  \n",
       "1972  5.007000e+06  2.681335e+14  \n",
       "1973  7.131000e+06  2.943467e+14  \n",
       "1974  9.250000e+06  3.186506e+14  \n",
       "1975  1.108200e+07  3.383541e+14  \n",
       "1976  1.290000e+07  3.586152e+14  \n",
       "1977  1.540950e+07  3.895869e+14  \n",
       "1978  1.922850e+07  4.254506e+14  \n",
       "1979  2.409375e+07  4.556262e+14  \n",
       "1980  2.419225e+07  5.039050e+14  \n",
       "1981  2.317875e+07  5.815794e+14  \n",
       "1982  2.256215e+07  5.758716e+14  \n",
       "1983  2.350450e+07  6.003113e+14  \n",
       "1984  2.427000e+07  6.447141e+14  \n",
       "1985  2.448900e+07  6.806750e+14  \n",
       "1986  2.689850e+07  7.329650e+14  \n",
       "1987  2.689311e+07  8.034300e+14  \n",
       "1988  2.981823e+07  8.865110e+14  \n",
       "1989  2.869550e+07  9.735230e+14  \n",
       "1990  1.332700e+07  1.047622e+15  \n",
       "1991  1.692168e+07  1.097263e+15  \n",
       "1992  1.414500e+07  1.153124e+15  \n",
       "1993  1.545200e+07  1.192591e+15  \n",
       "1994  1.827500e+07  1.238312e+15  \n",
       "1995  1.779400e+07  1.342285e+15  \n",
       "1996  1.917926e+07  1.444873e+15  \n",
       "1997  1.900300e+07  1.517223e+15  \n",
       "1998  1.870445e+07  1.348416e+15  \n",
       "1999  1.300000e+07  1.324599e+15  \n",
       "2000  6.544000e+06  1.389770e+15  \n",
       "2001  1.038850e+07  1.646322e+15  \n",
       "2002  9.278000e+06  1.821833e+15  \n",
       "2003  1.200000e+07  2.013675e+15  \n",
       "2004  1.066050e+07  2.295826e+15  \n",
       "2005  8.484250e+06  2.774281e+15  \n",
       "2006  1.025022e+07  3.339217e+15  \n",
       "2007  8.599101e+06  3.950893e+15  "
      ]
     },
     "execution_count": 12,
     "metadata": {},
     "output_type": "execute_result"
    }
   ],
   "source": [
    "# some basic stats about the training data\n",
    "df.describe().T"
   ]
  },
  {
   "cell_type": "code",
   "execution_count": 13,
   "metadata": {},
   "outputs": [
    {
     "data": {
      "text/plain": [
       "array(['Afghanistan', 'Albania', 'Algeria', 'American Samoa', 'Andorra',\n",
       "       'Angola', 'Antigua and Barbuda', 'Argentina', 'Armenia', 'Aruba',\n",
       "       'Australia', 'Austria', 'Azerbaijan', 'Bahamas, The', 'Bahrain',\n",
       "       'Bangladesh', 'Barbados', 'Belarus', 'Belgium', 'Belize', 'Benin',\n",
       "       'Bermuda', 'Bhutan', 'Bolivia', 'Bosnia and Herzegovina',\n",
       "       'Botswana', 'Brazil', 'Brunei Darussalam', 'Bulgaria',\n",
       "       'Burkina Faso', 'Burundi', 'Cabo Verde', 'Cambodia', 'Cameroon',\n",
       "       'Canada', 'Cayman Islands', 'Central African Republic', 'Chad',\n",
       "       'Channel Islands', 'Chile', 'China', 'Colombia', 'Comoros',\n",
       "       'Congo, Dem. Rep.', 'Congo, Rep.', 'Costa Rica', \"Cote d'Ivoire\",\n",
       "       'Croatia', 'Cuba', 'Curacao', 'Cyprus', 'Czech Republic',\n",
       "       'Denmark', 'Djibouti', 'Dominica', 'Dominican Republic', 'Ecuador',\n",
       "       'Egypt, Arab Rep.', 'El Salvador', 'Equatorial Guinea', 'Eritrea',\n",
       "       'Estonia', 'Ethiopia', 'Faeroe Islands', 'Fiji', 'Finland',\n",
       "       'France', 'French Polynesia', 'Gabon', 'Gambia, The', 'Georgia',\n",
       "       'Germany', 'Ghana', 'Greece', 'Greenland', 'Grenada', 'Guam',\n",
       "       'Guatemala', 'Guinea', 'Guinea-Bissau', 'Guyana', 'Haiti',\n",
       "       'Honduras', 'Hong Kong SAR, China', 'Hungary', 'Iceland', 'India',\n",
       "       'Indonesia', 'Iran, Islamic Rep.', 'Iraq', 'Ireland',\n",
       "       'Isle of Man', 'Israel', 'Italy', 'Jamaica', 'Japan', 'Jordan',\n",
       "       'Kazakhstan', 'Kenya', 'Kiribati', 'Korea, Dem. Rep.',\n",
       "       'Korea, Rep.', 'Kosovo', 'Kuwait', 'Kyrgyz Republic', 'Lao PDR',\n",
       "       'Latvia', 'Lebanon', 'Lesotho', 'Liberia', 'Libya',\n",
       "       'Liechtenstein', 'Lithuania', 'Luxembourg', 'Macao SAR, China',\n",
       "       'Macedonia, FYR', 'Madagascar', 'Malawi', 'Malaysia', 'Maldives',\n",
       "       'Mali', 'Malta', 'Marshall Islands', 'Mauritania', 'Mauritius',\n",
       "       'Mexico', 'Micronesia, Fed. Sts.', 'Moldova', 'Monaco', 'Mongolia',\n",
       "       'Montenegro', 'Morocco', 'Mozambique', 'Myanmar', 'Namibia',\n",
       "       'Nepal', 'Netherlands', 'New Caledonia', 'New Zealand',\n",
       "       'Nicaragua', 'Niger', 'Nigeria', 'Northern Mariana Islands',\n",
       "       'Norway', 'Oman', 'Pakistan', 'Palau', 'Panama',\n",
       "       'Papua New Guinea', 'Paraguay', 'Peru', 'Philippines', 'Poland',\n",
       "       'Portugal', 'Puerto Rico', 'Qatar', 'Romania',\n",
       "       'Russian Federation', 'Rwanda', 'Samoa', 'San Marino',\n",
       "       'Sao Tome and Principe', 'Saudi Arabia', 'Senegal', 'Serbia',\n",
       "       'Seychelles', 'Sierra Leone', 'Singapore',\n",
       "       'Sint Maarten (Dutch part)', 'Slovak Republic', 'Slovenia',\n",
       "       'Solomon Islands', 'Somalia', 'South Africa', 'South Sudan',\n",
       "       'Spain', 'Sri Lanka', 'St. Kitts and Nevis', 'St. Lucia',\n",
       "       'St. Martin (French part)', 'St. Vincent and the Grenadines',\n",
       "       'Sudan', 'Suriname', 'Swaziland', 'Sweden', 'Switzerland',\n",
       "       'Syrian Arab Republic', 'Tajikistan', 'Tanzania', 'Thailand',\n",
       "       'Timor-Leste', 'Togo', 'Tonga', 'Trinidad and Tobago', 'Tunisia',\n",
       "       'Turkey', 'Turkmenistan', 'Turks and Caicos Islands', 'Tuvalu',\n",
       "       'Uganda', 'Ukraine', 'United Arab Emirates', 'United Kingdom',\n",
       "       'United States', 'Uruguay', 'Uzbekistan', 'Vanuatu',\n",
       "       'Venezuela, RB', 'Vietnam', 'Virgin Islands (U.S.)',\n",
       "       'West Bank and Gaza', 'Yemen, Rep.', 'Zambia', 'Zimbabwe'],\n",
       "      dtype=object)"
      ]
     },
     "execution_count": 13,
     "metadata": {},
     "output_type": "execute_result"
    }
   ],
   "source": [
    "# list of unique countries\n",
    "df.Country_Name.unique()"
   ]
  },
  {
   "cell_type": "code",
   "execution_count": 14,
   "metadata": {},
   "outputs": [
    {
     "name": "stdout",
     "output_type": "stream",
     "text": [
      "Number of distinct countries: 214\n"
     ]
    }
   ],
   "source": [
    "print(f'Number of distinct countries: {df.Country_Name.nunique()}')"
   ]
  },
  {
   "cell_type": "code",
   "execution_count": 15,
   "metadata": {},
   "outputs": [
    {
     "data": {
      "text/plain": [
       "1972            47534 \n",
       "1973            47677 \n",
       "1974            48521 \n",
       "1975            50269 \n",
       "1976            51279 \n",
       "1977            53185 \n",
       "1978            53578 \n",
       "1979            53882 \n",
       "1980            58032 \n",
       "1981            59693 \n",
       "1982            60516 \n",
       "1983            60615 \n",
       "1984            61088 \n",
       "1985            62170 \n",
       "1986            62726 \n",
       "1987            63482 \n",
       "1988            63814 \n",
       "1989            65248 \n",
       "1990            78732 \n",
       "1991            77506 \n",
       "1992            80642 \n",
       "1993            81969 \n",
       "1994            83600 \n",
       "1995            88951 \n",
       "1996            89206 \n",
       "1997            90177 \n",
       "1998            90256 \n",
       "1999            94957 \n",
       "2000            99186 \n",
       "2001            99397 \n",
       "2002            102167\n",
       "2003            101224\n",
       "2004            102863\n",
       "2005            111682\n",
       "2006            112989\n",
       "2007            115182\n",
       "Country_Name    214   \n",
       "Series_Code     1305  \n",
       "Series_Name     1305  \n",
       "dtype: int64"
      ]
     },
     "execution_count": 15,
     "metadata": {},
     "output_type": "execute_result"
    }
   ],
   "source": [
    "# number of unique values in each column\n",
    "df.nunique()"
   ]
  },
  {
   "cell_type": "code",
   "execution_count": 16,
   "metadata": {},
   "outputs": [
    {
     "data": {
      "text/plain": [
       "1972            33.2% \n",
       "1973            33.0% \n",
       "1974            33.2% \n",
       "1975            34.3% \n",
       "1976            34.7% \n",
       "1977            35.7% \n",
       "1978            35.7% \n",
       "1979            35.8% \n",
       "1980            38.5% \n",
       "1981            39.9% \n",
       "1982            40.4% \n",
       "1983            40.4% \n",
       "1984            40.7% \n",
       "1985            41.5% \n",
       "1986            41.7% \n",
       "1987            42.3% \n",
       "1988            42.6% \n",
       "1989            44.2% \n",
       "1990            54.7% \n",
       "1991            54.8% \n",
       "1992            57.4% \n",
       "1993            58.6% \n",
       "1994            59.8% \n",
       "1995            63.7% \n",
       "1996            63.7% \n",
       "1997            64.3% \n",
       "1998            64.5% \n",
       "1999            67.0% \n",
       "2000            71.9% \n",
       "2001            70.0% \n",
       "2002            71.8% \n",
       "2003            71.2% \n",
       "2004            72.9% \n",
       "2005            82.7% \n",
       "2006            81.3% \n",
       "2007            82.7% \n",
       "Country_Name    100.0%\n",
       "Series_Code     100.0%\n",
       "Series_Name     100.0%\n",
       "dtype: object"
      ]
     },
     "execution_count": 16,
     "metadata": {},
     "output_type": "execute_result"
    }
   ],
   "source": [
    "# percentage of non-nul data in each column\n",
    "(df.count() / df.shape[0] * 100).map('{:.1f}%'.format)"
   ]
  },
  {
   "cell_type": "markdown",
   "metadata": {},
   "source": [
    "## Submission data"
   ]
  },
  {
   "cell_type": "code",
   "execution_count": 17,
   "metadata": {},
   "outputs": [],
   "source": [
    "# read the data containing the rows we need to predict\n",
    "df_submission = pd.read_csv('data/SubmissionRows.csv', index_col=0)"
   ]
  },
  {
   "cell_type": "code",
   "execution_count": 18,
   "metadata": {},
   "outputs": [
    {
     "data": {
      "text/html": [
       "<div>\n",
       "<style scoped>\n",
       "    .dataframe tbody tr th:only-of-type {\n",
       "        vertical-align: middle;\n",
       "    }\n",
       "\n",
       "    .dataframe tbody tr th {\n",
       "        vertical-align: top;\n",
       "    }\n",
       "\n",
       "    .dataframe thead th {\n",
       "        text-align: right;\n",
       "    }\n",
       "</style>\n",
       "<table border=\"1\" class=\"dataframe\">\n",
       "  <thead>\n",
       "    <tr style=\"text-align: right;\">\n",
       "      <th></th>\n",
       "      <th>2008 [YR2008]</th>\n",
       "      <th>2012 [YR2012]</th>\n",
       "    </tr>\n",
       "  </thead>\n",
       "  <tbody>\n",
       "    <tr>\n",
       "      <th>559</th>\n",
       "      <td>NaN</td>\n",
       "      <td>NaN</td>\n",
       "    </tr>\n",
       "    <tr>\n",
       "      <th>618</th>\n",
       "      <td>NaN</td>\n",
       "      <td>NaN</td>\n",
       "    </tr>\n",
       "    <tr>\n",
       "      <th>753</th>\n",
       "      <td>NaN</td>\n",
       "      <td>NaN</td>\n",
       "    </tr>\n",
       "    <tr>\n",
       "      <th>1030</th>\n",
       "      <td>NaN</td>\n",
       "      <td>NaN</td>\n",
       "    </tr>\n",
       "    <tr>\n",
       "      <th>1896</th>\n",
       "      <td>NaN</td>\n",
       "      <td>NaN</td>\n",
       "    </tr>\n",
       "    <tr>\n",
       "      <th>1955</th>\n",
       "      <td>NaN</td>\n",
       "      <td>NaN</td>\n",
       "    </tr>\n",
       "    <tr>\n",
       "      <th>2090</th>\n",
       "      <td>NaN</td>\n",
       "      <td>NaN</td>\n",
       "    </tr>\n",
       "    <tr>\n",
       "      <th>2690</th>\n",
       "      <td>NaN</td>\n",
       "      <td>NaN</td>\n",
       "    </tr>\n",
       "    <tr>\n",
       "      <th>3233</th>\n",
       "      <td>NaN</td>\n",
       "      <td>NaN</td>\n",
       "    </tr>\n",
       "    <tr>\n",
       "      <th>3292</th>\n",
       "      <td>NaN</td>\n",
       "      <td>NaN</td>\n",
       "    </tr>\n",
       "  </tbody>\n",
       "</table>\n",
       "</div>"
      ],
      "text/plain": [
       "      2008 [YR2008]  2012 [YR2012]\n",
       "559  NaN            NaN           \n",
       "618  NaN            NaN           \n",
       "753  NaN            NaN           \n",
       "1030 NaN            NaN           \n",
       "1896 NaN            NaN           \n",
       "1955 NaN            NaN           \n",
       "2090 NaN            NaN           \n",
       "2690 NaN            NaN           \n",
       "3233 NaN            NaN           \n",
       "3292 NaN            NaN           "
      ]
     },
     "execution_count": 18,
     "metadata": {},
     "output_type": "execute_result"
    }
   ],
   "source": [
    "df_submission.head(10)"
   ]
  },
  {
   "cell_type": "code",
   "execution_count": 19,
   "metadata": {},
   "outputs": [
    {
     "data": {
      "text/plain": [
       "(737, 2)"
      ]
     },
     "execution_count": 19,
     "metadata": {},
     "output_type": "execute_result"
    }
   ],
   "source": [
    "df_submission.shape"
   ]
  },
  {
   "cell_type": "markdown",
   "metadata": {},
   "source": [
    "As we have the row ID as an index for both the training (df) and the submission data, we can directly extract the data related to the submission index."
   ]
  },
  {
   "cell_type": "code",
   "execution_count": 20,
   "metadata": {},
   "outputs": [],
   "source": [
    "df_submission_in_data = df.loc[df_submission.index]"
   ]
  },
  {
   "cell_type": "code",
   "execution_count": 21,
   "metadata": {},
   "outputs": [
    {
     "data": {
      "text/plain": [
       "206"
      ]
     },
     "execution_count": 21,
     "metadata": {},
     "output_type": "execute_result"
    }
   ],
   "source": [
    "df_submission_in_data.Country_Name.nunique()"
   ]
  },
  {
   "cell_type": "markdown",
   "metadata": {},
   "source": [
    "Let's have a look at the Series Codes in the submission data."
   ]
  },
  {
   "cell_type": "code",
   "execution_count": 22,
   "metadata": {},
   "outputs": [],
   "source": [
    "submission_codes = df_submission_in_data.Series_Code.unique()"
   ]
  },
  {
   "cell_type": "code",
   "execution_count": 23,
   "metadata": {},
   "outputs": [
    {
     "name": "stdout",
     "output_type": "stream",
     "text": [
      "List of unique submission codes: ['7.8', '8.16', '4.1', '6.1', '2.1', '5.1', '6.7']\n",
      "Number of unique submission codes: 7\n"
     ]
    }
   ],
   "source": [
    "print(f'List of unique submission codes: {list(submission_codes)}')\n",
    "print(f'Number of unique submission codes: {len(submission_codes)}')"
   ]
  },
  {
   "cell_type": "code",
   "execution_count": 24,
   "metadata": {},
   "outputs": [
    {
     "name": "stdout",
     "output_type": "stream",
     "text": [
      "Number of submission codes in Series Code column: 1118\n"
     ]
    }
   ],
   "source": [
    "print(f'Number of submission codes in Series Code column: {df.Series_Code.isin(submission_codes).sum()}')"
   ]
  },
  {
   "cell_type": "code",
   "execution_count": 25,
   "metadata": {},
   "outputs": [
    {
     "data": {
      "image/png": "[encoded data removed]",
      "text/plain": [
       "<Figure size 432x288 with 1 Axes>"
      ]
     },
     "metadata": {
      "needs_background": "light"
     },
     "output_type": "display_data"
    }
   ],
   "source": [
    "# plots of the percentage of non-null data in each column\n",
    "(df.count() / df.shape[0] * 100).iloc[:-4].plot(label='training')\n",
    "(df_submission_in_data.count() / df_submission_in_data.shape[0] * 100).iloc[:-4].plot(label='submission')\n",
    "plt.legend();"
   ]
  },
  {
   "cell_type": "markdown",
   "metadata": {},
   "source": [
    "We have learned from the analysis of the submission data that:\n",
    "1. Most countries are represented in the submission data, 206 out of 214.\n",
    "2. Only 7 codes are used and we have 1118 data points in the training data with these codes.\n",
    "3. The amount of missing data is fairly similar between the training and submission data."
   ]
  },
  {
   "cell_type": "markdown",
   "metadata": {},
   "source": [
    "# What are we trying to achieve?\n",
    "\n",
    " * We have 737 indicators from 206 countries with data from 1972 to 2007. We would like to predict what these indicators will be in 2008 and 2012.\n",
    "\n",
    " * A very simplistic way of predicting the future values of these indicators would be to do a simple linear regression for indicators with more than 1 data point in the last 35 years or use the only data point we have for indicators with a single value.\n",
    "\n",
    " * **Let's try to code this simplistic version.**"
   ]
  },
  {
   "cell_type": "code",
   "execution_count": 26,
   "metadata": {},
   "outputs": [],
   "source": [
    "# calculates linear regression on non-null values and produces predictions for 2008 and 2012\n",
    "def calculate_prediction(row):\n",
    "    data = row.loc['1972':'2007']\n",
    "    if data.count() < 2:\n",
    "        pred_2008 = data.dropna().values\n",
    "        pred_2012 = pred_2008\n",
    "    else:\n",
    "        years = data.dropna().index.values.astype(np.int).reshape(-1, 1)\n",
    "        values = data.dropna().values.reshape(-1, 1)\n",
    "\n",
    "        regr = LinearRegression()\n",
    "        regr.fit(years, values)\n",
    "\n",
    "        years_pred = np.array((2008, 2012)).reshape(-1, 1)\n",
    "        pred_2008, pred_2012 = regr.predict(years_pred)\n",
    "\n",
    "    return pred_2008[0], pred_2012[0]"
   ]
  },
  {
   "cell_type": "code",
   "execution_count": 27,
   "metadata": {},
   "outputs": [],
   "source": [
    "df_simple_preds = pd.DataFrame(df_submission_in_data.apply(calculate_prediction, axis=1).tolist(), \\\n",
    "                               index=df_submission_in_data.index, columns=['2008','2012'])"
   ]
  },
  {
   "cell_type": "code",
   "execution_count": 28,
   "metadata": {},
   "outputs": [
    {
     "data": {
      "text/html": [
       "<div>\n",
       "<style scoped>\n",
       "    .dataframe tbody tr th:only-of-type {\n",
       "        vertical-align: middle;\n",
       "    }\n",
       "\n",
       "    .dataframe tbody tr th {\n",
       "        vertical-align: top;\n",
       "    }\n",
       "\n",
       "    .dataframe thead th {\n",
       "        text-align: right;\n",
       "    }\n",
       "</style>\n",
       "<table border=\"1\" class=\"dataframe\">\n",
       "  <thead>\n",
       "    <tr style=\"text-align: right;\">\n",
       "      <th></th>\n",
       "      <th>2008</th>\n",
       "      <th>2012</th>\n",
       "    </tr>\n",
       "  </thead>\n",
       "  <tbody>\n",
       "    <tr>\n",
       "      <th>559</th>\n",
       "      <td>0.465706</td>\n",
       "      <td>0.580451</td>\n",
       "    </tr>\n",
       "    <tr>\n",
       "      <th>618</th>\n",
       "      <td>0.012712</td>\n",
       "      <td>0.016830</td>\n",
       "    </tr>\n",
       "    <tr>\n",
       "      <th>753</th>\n",
       "      <td>0.087664</td>\n",
       "      <td>0.065155</td>\n",
       "    </tr>\n",
       "    <tr>\n",
       "      <th>1030</th>\n",
       "      <td>0.001000</td>\n",
       "      <td>0.001000</td>\n",
       "    </tr>\n",
       "    <tr>\n",
       "      <th>1896</th>\n",
       "      <td>0.961802</td>\n",
       "      <td>0.960782</td>\n",
       "    </tr>\n",
       "  </tbody>\n",
       "</table>\n",
       "</div>"
      ],
      "text/plain": [
       "          2008      2012\n",
       "559   0.465706  0.580451\n",
       "618   0.012712  0.016830\n",
       "753   0.087664  0.065155\n",
       "1030  0.001000  0.001000\n",
       "1896  0.961802  0.960782"
      ]
     },
     "execution_count": 28,
     "metadata": {},
     "output_type": "execute_result"
    }
   ],
   "source": [
    "df_simple_preds.head()"
   ]
  },
  {
   "cell_type": "markdown",
   "metadata": {},
   "source": [
    "Let's visualise the results:"
   ]
  },
  {
   "cell_type": "code",
   "execution_count": 29,
   "metadata": {},
   "outputs": [],
   "source": [
    "def plot_predictions(df_train, df_pred, nrows):\n",
    "    rows_to_plot = np.random.choice(df_train.index.values, nrows, replace=False)\n",
    "    \n",
    "    cmap = get_cmap('Set2')\n",
    "    colors = cmap.colors\n",
    "        \n",
    "    fig, ax = plt.subplots(figsize=(12,10))\n",
    "    for i, j in zip(rows_to_plot, range(nrows)):\n",
    "        j = j % len(colors)  # allows rotation through color map\n",
    "        ax.plot(df_train.loc[i, '1972':'2007'].dropna().index.astype(int), \n",
    "                df_train.loc[i, '1972':'2007'].dropna().values, \n",
    "                label=df_train.loc[i, 'Country_Name']+ ' / ' + df_train.loc[i, 'Series_Name'],\n",
    "                marker='o',\n",
    "                linewidth=4,\n",
    "                alpha=0.5,\n",
    "                color=colors[j])\n",
    "                \n",
    "        ax.plot(df_pred.loc[i].index.astype(int), \n",
    "                df_pred.loc[i].values,\n",
    "                marker='s',\n",
    "                linewidth=4,\n",
    "                markersize=10,\n",
    "                color=colors[j])\n",
    "\n",
    "    plt.legend(loc='best')"
   ]
  },
  {
   "cell_type": "code",
   "execution_count": 30,
   "metadata": {},
   "outputs": [
    {
     "data": {
      "image/png": "[encoded data removed]",
      "text/plain": [
       "<Figure size 864x720 with 1 Axes>"
      ]
     },
     "metadata": {
      "needs_background": "light"
     },
     "output_type": "display_data"
    }
   ],
   "source": [
    "plot_predictions(df_submission_in_data, df_simple_preds, 10)"
   ]
  },
  {
   "cell_type": "markdown",
   "metadata": {},
   "source": [
    "These results are simplistic but not too bad for most indicators. We could improve easily the results by doing a polynomial regression or another type of more sophisticated regression.  \n",
    "\n",
    "What we are trying to achieve is finding correlation between these indicators and all the other indicators present in the dataset to improve our predictions as we have a lot of missing data.\n",
    "\n",
    "These predictions using correlations are where the difficulty of this exercise lies."
   ]
  },
  {
   "cell_type": "markdown",
   "metadata": {},
   "source": [
    "## Separating sub codes from the main code values"
   ]
  },
  {
   "cell_type": "markdown",
   "metadata": {},
   "source": [
    "Let's first make all values upper case to make sure we compare correctly the codes"
   ]
  },
  {
   "cell_type": "code",
   "execution_count": 31,
   "metadata": {},
   "outputs": [],
   "source": [
    "df.Series_Code = df.Series_Code.str.upper()"
   ]
  },
  {
   "cell_type": "code",
   "execution_count": 32,
   "metadata": {},
   "outputs": [
    {
     "data": {
      "text/plain": [
       "1305"
      ]
     },
     "execution_count": 32,
     "metadata": {},
     "output_type": "execute_result"
    }
   ],
   "source": [
    "df.Series_Code.nunique()"
   ]
  },
  {
   "cell_type": "markdown",
   "metadata": {},
   "source": [
    " * We have 1305 different code names but most of them include similar codes which might be helpful when trying to find similarity within the data to help with our predictions.  \n",
    " * We will create a function that extract each of the subcodes and save them in separate column in function of their order in the code serie."
   ]
  },
  {
   "cell_type": "code",
   "execution_count": 33,
   "metadata": {},
   "outputs": [
    {
     "data": {
      "image/png": "[encoded data removed]",
      "text/plain": [
       "<Figure size 432x288 with 1 Axes>"
      ]
     },
     "metadata": {
      "needs_background": "light"
     },
     "output_type": "display_data"
    }
   ],
   "source": [
    "# Exploring the code structure\n",
    "df.Series_Code.apply(lambda x: len(x.split('.'))).plot(kind='hist');"
   ]
  },
  {
   "cell_type": "code",
   "execution_count": 34,
   "metadata": {},
   "outputs": [
    {
     "data": {
      "text/plain": [
       "[SP, POP, TOTL]            214\n",
       "[SP, POP, GROW]            214\n",
       "[NY, ADJ, DNGY, CD]        214\n",
       "[NY, ADJ, DMIN, CD]        214\n",
       "[AG, LND, TOTL, K2]        213\n",
       "[AG, SRF, TOTL, K2]        213\n",
       "[EN, POP, DNST]            213\n",
       "[SP, URB, GROW]            210\n",
       "[SP, URB, TOTL, IN, ZS]    210\n",
       "[SP, RUR, TOTL]            210\n",
       "Name: Series_Code, dtype: int64"
      ]
     },
     "execution_count": 34,
     "metadata": {},
     "output_type": "execute_result"
    }
   ],
   "source": [
    "# what are the most common series codes in the 'Series Code' column\n",
    "df.Series_Code.str.split('.').value_counts(ascending=False)[:10]"
   ]
  },
  {
   "cell_type": "code",
   "execution_count": 35,
   "metadata": {},
   "outputs": [
    {
     "data": {
      "text/plain": [
       "'SL.EMP.TOTL.SP.FE.NE.ZS'"
      ]
     },
     "execution_count": 35,
     "metadata": {},
     "output_type": "execute_result"
    }
   ],
   "source": [
    "row_longest_code_serie = df.Series_Code.apply(lambda x: len(x.split('.'))).idxmax()\n",
    "df.loc[row_longest_code_serie, 'Series_Code']"
   ]
  },
  {
   "cell_type": "code",
   "execution_count": 36,
   "metadata": {},
   "outputs": [
    {
     "data": {
      "text/plain": [
       "7"
      ]
     },
     "execution_count": 36,
     "metadata": {},
     "output_type": "execute_result"
    }
   ],
   "source": [
    "len(df.loc[row_longest_code_serie, 'Series_Code'].split('.'))"
   ]
  },
  {
   "cell_type": "markdown",
   "metadata": {},
   "source": [
    "We have a maximum of 7 separate elements in the code structure"
   ]
  },
  {
   "cell_type": "code",
   "execution_count": 37,
   "metadata": {},
   "outputs": [],
   "source": [
    "def explode_code(s):\n",
    "    # split the code name using the '.'\n",
    "    s_split = s.split('.')\n",
    "    \n",
    "    # save the first and last value of the serie\n",
    "    last = s_split[-1]\n",
    "    first = s_split[0]\n",
    "    \n",
    "    # reverse the order of the code series to keep the last code as first and first as last\n",
    "    #s_split = s_split[::-1]\n",
    "    \n",
    "    # add NaN values until the list has 7 items in it\n",
    "    s_split += [np.NaN] * (7 - len(s_split))\n",
    "    \n",
    "    # add the first and last value to the list\n",
    "    s_split += [first, last]\n",
    "    \n",
    "    return s_split"
   ]
  },
  {
   "cell_type": "code",
   "execution_count": 38,
   "metadata": {},
   "outputs": [],
   "source": [
    "# We first create 9 new columns for each output of the function explode_code. We then\n",
    "# fill these columns with the ouput of the explode_code function by converting its\n",
    "# ouput to a list and then to a dataframe using the orginal dataframe index.\n",
    "\n",
    "df[['Series_Code_'+ str(i) for i in range(7)] + ['Series_Code_First', 'Series_Code_Last']] =\\\n",
    "    pd.DataFrame(df.Series_Code.apply(explode_code).tolist(), index=df.index)"
   ]
  },
  {
   "cell_type": "code",
   "execution_count": 39,
   "metadata": {},
   "outputs": [
    {
     "data": {
      "text/html": [
       "<div>\n",
       "<style scoped>\n",
       "    .dataframe tbody tr th:only-of-type {\n",
       "        vertical-align: middle;\n",
       "    }\n",
       "\n",
       "    .dataframe tbody tr th {\n",
       "        vertical-align: top;\n",
       "    }\n",
       "\n",
       "    .dataframe thead th {\n",
       "        text-align: right;\n",
       "    }\n",
       "</style>\n",
       "<table border=\"1\" class=\"dataframe\">\n",
       "  <thead>\n",
       "    <tr style=\"text-align: right;\">\n",
       "      <th></th>\n",
       "      <th>Series_Code</th>\n",
       "      <th>Series_Name</th>\n",
       "      <th>Series_Code_0</th>\n",
       "      <th>Series_Code_1</th>\n",
       "      <th>Series_Code_2</th>\n",
       "      <th>Series_Code_3</th>\n",
       "      <th>Series_Code_4</th>\n",
       "      <th>Series_Code_5</th>\n",
       "      <th>Series_Code_6</th>\n",
       "      <th>Series_Code_First</th>\n",
       "      <th>Series_Code_Last</th>\n",
       "    </tr>\n",
       "  </thead>\n",
       "  <tbody>\n",
       "    <tr>\n",
       "      <th>0</th>\n",
       "      <td>ALLSI.BI_Q1</td>\n",
       "      <td>(%) Benefits held by 1st 20% population - All Social Insurance</td>\n",
       "      <td>ALLSI</td>\n",
       "      <td>BI_Q1</td>\n",
       "      <td>NaN</td>\n",
       "      <td>NaN</td>\n",
       "      <td>NaN</td>\n",
       "      <td>NaN</td>\n",
       "      <td>NaN</td>\n",
       "      <td>ALLSI</td>\n",
       "      <td>BI_Q1</td>\n",
       "    </tr>\n",
       "    <tr>\n",
       "      <th>1</th>\n",
       "      <td>ALLSP.BI_Q1</td>\n",
       "      <td>(%) Benefits held by 1st 20% population - All Social Protection</td>\n",
       "      <td>ALLSP</td>\n",
       "      <td>BI_Q1</td>\n",
       "      <td>NaN</td>\n",
       "      <td>NaN</td>\n",
       "      <td>NaN</td>\n",
       "      <td>NaN</td>\n",
       "      <td>NaN</td>\n",
       "      <td>ALLSP</td>\n",
       "      <td>BI_Q1</td>\n",
       "    </tr>\n",
       "    <tr>\n",
       "      <th>2</th>\n",
       "      <td>ALLSA.BI_Q1</td>\n",
       "      <td>(%) Benefits held by 1st 20% population - All Social Safety Nets</td>\n",
       "      <td>ALLSA</td>\n",
       "      <td>BI_Q1</td>\n",
       "      <td>NaN</td>\n",
       "      <td>NaN</td>\n",
       "      <td>NaN</td>\n",
       "      <td>NaN</td>\n",
       "      <td>NaN</td>\n",
       "      <td>ALLSA</td>\n",
       "      <td>BI_Q1</td>\n",
       "    </tr>\n",
       "    <tr>\n",
       "      <th>4</th>\n",
       "      <td>ALLSI.GEN_POP</td>\n",
       "      <td>(%) Generosity of All Social Insurance</td>\n",
       "      <td>ALLSI</td>\n",
       "      <td>GEN_POP</td>\n",
       "      <td>NaN</td>\n",
       "      <td>NaN</td>\n",
       "      <td>NaN</td>\n",
       "      <td>NaN</td>\n",
       "      <td>NaN</td>\n",
       "      <td>ALLSI</td>\n",
       "      <td>GEN_POP</td>\n",
       "    </tr>\n",
       "    <tr>\n",
       "      <th>5</th>\n",
       "      <td>ALLSP.GEN_POP</td>\n",
       "      <td>(%) Generosity of All Social Protection</td>\n",
       "      <td>ALLSP</td>\n",
       "      <td>GEN_POP</td>\n",
       "      <td>NaN</td>\n",
       "      <td>NaN</td>\n",
       "      <td>NaN</td>\n",
       "      <td>NaN</td>\n",
       "      <td>NaN</td>\n",
       "      <td>ALLSP</td>\n",
       "      <td>GEN_POP</td>\n",
       "    </tr>\n",
       "  </tbody>\n",
       "</table>\n",
       "</div>"
      ],
      "text/plain": [
       "     Series_Code  \\\n",
       "0  ALLSI.BI_Q1     \n",
       "1  ALLSP.BI_Q1     \n",
       "2  ALLSA.BI_Q1     \n",
       "4  ALLSI.GEN_POP   \n",
       "5  ALLSP.GEN_POP   \n",
       "\n",
       "                                                        Series_Name  \\\n",
       "0  (%) Benefits held by 1st 20% population - All Social Insurance     \n",
       "1  (%) Benefits held by 1st 20% population - All Social Protection    \n",
       "2  (%) Benefits held by 1st 20% population - All Social Safety Nets   \n",
       "4  (%) Generosity of All Social Insurance                             \n",
       "5  (%) Generosity of All Social Protection                            \n",
       "\n",
       "  Series_Code_0 Series_Code_1 Series_Code_2 Series_Code_3 Series_Code_4  \\\n",
       "0  ALLSI         BI_Q1         NaN           NaN           NaN            \n",
       "1  ALLSP         BI_Q1         NaN           NaN           NaN            \n",
       "2  ALLSA         BI_Q1         NaN           NaN           NaN            \n",
       "4  ALLSI         GEN_POP       NaN           NaN           NaN            \n",
       "5  ALLSP         GEN_POP       NaN           NaN           NaN            \n",
       "\n",
       "  Series_Code_5 Series_Code_6 Series_Code_First Series_Code_Last  \n",
       "0  NaN           NaN           ALLSI             BI_Q1            \n",
       "1  NaN           NaN           ALLSP             BI_Q1            \n",
       "2  NaN           NaN           ALLSA             BI_Q1            \n",
       "4  NaN           NaN           ALLSI             GEN_POP          \n",
       "5  NaN           NaN           ALLSP             GEN_POP          "
      ]
     },
     "execution_count": 39,
     "metadata": {},
     "output_type": "execute_result"
    }
   ],
   "source": [
    "df.iloc[:5,-11:]"
   ]
  },
  {
   "cell_type": "code",
   "execution_count": 40,
   "metadata": {},
   "outputs": [
    {
     "data": {
      "text/html": [
       "<div>\n",
       "<style scoped>\n",
       "    .dataframe tbody tr th:only-of-type {\n",
       "        vertical-align: middle;\n",
       "    }\n",
       "\n",
       "    .dataframe tbody tr th {\n",
       "        vertical-align: top;\n",
       "    }\n",
       "\n",
       "    .dataframe thead th {\n",
       "        text-align: right;\n",
       "    }\n",
       "</style>\n",
       "<table border=\"1\" class=\"dataframe\">\n",
       "  <thead>\n",
       "    <tr style=\"text-align: right;\">\n",
       "      <th></th>\n",
       "      <th>Series_Code</th>\n",
       "      <th>Series_Name</th>\n",
       "      <th>Series_Code_0</th>\n",
       "      <th>Series_Code_1</th>\n",
       "      <th>Series_Code_2</th>\n",
       "      <th>Series_Code_3</th>\n",
       "      <th>Series_Code_4</th>\n",
       "      <th>Series_Code_5</th>\n",
       "      <th>Series_Code_6</th>\n",
       "      <th>Series_Code_First</th>\n",
       "      <th>Series_Code_Last</th>\n",
       "    </tr>\n",
       "  </thead>\n",
       "  <tbody>\n",
       "    <tr>\n",
       "      <th>286113</th>\n",
       "      <td>SG.VAW.BURN.ZS</td>\n",
       "      <td>Women who believe a husband is justified in beating his wife when she burns the food (%)</td>\n",
       "      <td>SG</td>\n",
       "      <td>VAW</td>\n",
       "      <td>BURN</td>\n",
       "      <td>ZS</td>\n",
       "      <td>NaN</td>\n",
       "      <td>NaN</td>\n",
       "      <td>NaN</td>\n",
       "      <td>SG</td>\n",
       "      <td>ZS</td>\n",
       "    </tr>\n",
       "    <tr>\n",
       "      <th>286114</th>\n",
       "      <td>SG.VAW.GOES.ZS</td>\n",
       "      <td>Women who believe a husband is justified in beating his wife when she goes out without telling him (%)</td>\n",
       "      <td>SG</td>\n",
       "      <td>VAW</td>\n",
       "      <td>GOES</td>\n",
       "      <td>ZS</td>\n",
       "      <td>NaN</td>\n",
       "      <td>NaN</td>\n",
       "      <td>NaN</td>\n",
       "      <td>SG</td>\n",
       "      <td>ZS</td>\n",
       "    </tr>\n",
       "    <tr>\n",
       "      <th>286115</th>\n",
       "      <td>SG.VAW.NEGL.ZS</td>\n",
       "      <td>Women who believe a husband is justified in beating his wife when she neglects the children (%)</td>\n",
       "      <td>SG</td>\n",
       "      <td>VAW</td>\n",
       "      <td>NEGL</td>\n",
       "      <td>ZS</td>\n",
       "      <td>NaN</td>\n",
       "      <td>NaN</td>\n",
       "      <td>NaN</td>\n",
       "      <td>SG</td>\n",
       "      <td>ZS</td>\n",
       "    </tr>\n",
       "    <tr>\n",
       "      <th>286116</th>\n",
       "      <td>SG.VAW.REFU.ZS</td>\n",
       "      <td>Women who believe a husband is justified in beating his wife when she refuses sex with him (%)</td>\n",
       "      <td>SG</td>\n",
       "      <td>VAW</td>\n",
       "      <td>REFU</td>\n",
       "      <td>ZS</td>\n",
       "      <td>NaN</td>\n",
       "      <td>NaN</td>\n",
       "      <td>NaN</td>\n",
       "      <td>SG</td>\n",
       "      <td>ZS</td>\n",
       "    </tr>\n",
       "    <tr>\n",
       "      <th>286117</th>\n",
       "      <td>SH.DYN.AIDS.FE.ZS</td>\n",
       "      <td>Women's share of population ages 15+ living with HIV (%)</td>\n",
       "      <td>SH</td>\n",
       "      <td>DYN</td>\n",
       "      <td>AIDS</td>\n",
       "      <td>FE</td>\n",
       "      <td>ZS</td>\n",
       "      <td>NaN</td>\n",
       "      <td>NaN</td>\n",
       "      <td>SH</td>\n",
       "      <td>ZS</td>\n",
       "    </tr>\n",
       "  </tbody>\n",
       "</table>\n",
       "</div>"
      ],
      "text/plain": [
       "              Series_Code  \\\n",
       "286113  SG.VAW.BURN.ZS      \n",
       "286114  SG.VAW.GOES.ZS      \n",
       "286115  SG.VAW.NEGL.ZS      \n",
       "286116  SG.VAW.REFU.ZS      \n",
       "286117  SH.DYN.AIDS.FE.ZS   \n",
       "\n",
       "                                                                                                   Series_Name  \\\n",
       "286113  Women who believe a husband is justified in beating his wife when she burns the food (%)                 \n",
       "286114  Women who believe a husband is justified in beating his wife when she goes out without telling him (%)   \n",
       "286115  Women who believe a husband is justified in beating his wife when she neglects the children (%)          \n",
       "286116  Women who believe a husband is justified in beating his wife when she refuses sex with him (%)           \n",
       "286117  Women's share of population ages 15+ living with HIV (%)                                                 \n",
       "\n",
       "       Series_Code_0 Series_Code_1 Series_Code_2 Series_Code_3 Series_Code_4  \\\n",
       "286113  SG            VAW           BURN          ZS            NaN            \n",
       "286114  SG            VAW           GOES          ZS            NaN            \n",
       "286115  SG            VAW           NEGL          ZS            NaN            \n",
       "286116  SG            VAW           REFU          ZS            NaN            \n",
       "286117  SH            DYN           AIDS          FE            ZS             \n",
       "\n",
       "       Series_Code_5 Series_Code_6 Series_Code_First Series_Code_Last  \n",
       "286113  NaN           NaN           SG                ZS               \n",
       "286114  NaN           NaN           SG                ZS               \n",
       "286115  NaN           NaN           SG                ZS               \n",
       "286116  NaN           NaN           SG                ZS               \n",
       "286117  NaN           NaN           SH                ZS               "
      ]
     },
     "execution_count": 40,
     "metadata": {},
     "output_type": "execute_result"
    }
   ],
   "source": [
    "df.iloc[-5:,-11:]"
   ]
  },
  {
   "cell_type": "markdown",
   "metadata": {},
   "source": [
    "## Adding the continent related to each country"
   ]
  },
  {
   "cell_type": "code",
   "execution_count": 41,
   "metadata": {},
   "outputs": [],
   "source": [
    "from data import countryinfo"
   ]
  },
  {
   "cell_type": "code",
   "execution_count": 42,
   "metadata": {},
   "outputs": [],
   "source": [
    "df_continent = pd.DataFrame(countryinfo.countries)"
   ]
  },
  {
   "cell_type": "code",
   "execution_count": 43,
   "metadata": {},
   "outputs": [
    {
     "data": {
      "text/html": [
       "<div>\n",
       "<style scoped>\n",
       "    .dataframe tbody tr th:only-of-type {\n",
       "        vertical-align: middle;\n",
       "    }\n",
       "\n",
       "    .dataframe tbody tr th {\n",
       "        vertical-align: top;\n",
       "    }\n",
       "\n",
       "    .dataframe thead th {\n",
       "        text-align: right;\n",
       "    }\n",
       "</style>\n",
       "<table border=\"1\" class=\"dataframe\">\n",
       "  <thead>\n",
       "    <tr style=\"text-align: right;\">\n",
       "      <th></th>\n",
       "      <th>capital</th>\n",
       "      <th>code</th>\n",
       "      <th>continent</th>\n",
       "      <th>name</th>\n",
       "      <th>timezones</th>\n",
       "    </tr>\n",
       "  </thead>\n",
       "  <tbody>\n",
       "    <tr>\n",
       "      <th>0</th>\n",
       "      <td>Andorra la Vella</td>\n",
       "      <td>AD</td>\n",
       "      <td>Europe</td>\n",
       "      <td>Andorra</td>\n",
       "      <td>[Europe/Andorra]</td>\n",
       "    </tr>\n",
       "    <tr>\n",
       "      <th>1</th>\n",
       "      <td>Kabul</td>\n",
       "      <td>AF</td>\n",
       "      <td>Asia</td>\n",
       "      <td>Afghanistan</td>\n",
       "      <td>[Asia/Kabul]</td>\n",
       "    </tr>\n",
       "    <tr>\n",
       "      <th>2</th>\n",
       "      <td>St. John's</td>\n",
       "      <td>AG</td>\n",
       "      <td>North America</td>\n",
       "      <td>Antigua and Barbuda</td>\n",
       "      <td>[America/Antigua]</td>\n",
       "    </tr>\n",
       "    <tr>\n",
       "      <th>3</th>\n",
       "      <td>Tirana</td>\n",
       "      <td>AL</td>\n",
       "      <td>Europe</td>\n",
       "      <td>Albania</td>\n",
       "      <td>[Europe/Tirane]</td>\n",
       "    </tr>\n",
       "    <tr>\n",
       "      <th>4</th>\n",
       "      <td>Yerevan</td>\n",
       "      <td>AM</td>\n",
       "      <td>Asia</td>\n",
       "      <td>Armenia</td>\n",
       "      <td>[Asia/Yerevan]</td>\n",
       "    </tr>\n",
       "  </tbody>\n",
       "</table>\n",
       "</div>"
      ],
      "text/plain": [
       "            capital code      continent                 name  \\\n",
       "0  Andorra la Vella  AD   Europe         Andorra               \n",
       "1  Kabul             AF   Asia           Afghanistan           \n",
       "2  St. John's        AG   North America  Antigua and Barbuda   \n",
       "3  Tirana            AL   Europe         Albania               \n",
       "4  Yerevan           AM   Asia           Armenia               \n",
       "\n",
       "           timezones  \n",
       "0  [Europe/Andorra]   \n",
       "1  [Asia/Kabul]       \n",
       "2  [America/Antigua]  \n",
       "3  [Europe/Tirane]    \n",
       "4  [Asia/Yerevan]     "
      ]
     },
     "execution_count": 43,
     "metadata": {},
     "output_type": "execute_result"
    }
   ],
   "source": [
    "df_continent.head()"
   ]
  },
  {
   "cell_type": "code",
   "execution_count": 44,
   "metadata": {},
   "outputs": [
    {
     "data": {
      "text/plain": [
       "(193, 5)"
      ]
     },
     "execution_count": 44,
     "metadata": {},
     "output_type": "execute_result"
    }
   ],
   "source": [
    "df_continent.shape"
   ]
  },
  {
   "cell_type": "code",
   "execution_count": 45,
   "metadata": {},
   "outputs": [
    {
     "data": {
      "text/plain": [
       "Index(['capital', 'code', 'continent', 'name', 'timezones'], dtype='object')"
      ]
     },
     "execution_count": 45,
     "metadata": {},
     "output_type": "execute_result"
    }
   ],
   "source": [
    "df_continent.columns"
   ]
  },
  {
   "cell_type": "markdown",
   "metadata": {},
   "source": [
    "We copy the continent information from the dataframe using the country names as index."
   ]
  },
  {
   "cell_type": "code",
   "execution_count": 46,
   "metadata": {},
   "outputs": [],
   "source": [
    "# We use the map function in pandas to look for the country name in \n",
    "# the index of the second df and output the continent information.\n",
    "df['Continent'] = df.Country_Name.map(df_continent.set_index('name').continent)"
   ]
  },
  {
   "cell_type": "code",
   "execution_count": 47,
   "metadata": {},
   "outputs": [
    {
     "data": {
      "text/html": [
       "<div>\n",
       "<style scoped>\n",
       "    .dataframe tbody tr th:only-of-type {\n",
       "        vertical-align: middle;\n",
       "    }\n",
       "\n",
       "    .dataframe tbody tr th {\n",
       "        vertical-align: top;\n",
       "    }\n",
       "\n",
       "    .dataframe thead th {\n",
       "        text-align: right;\n",
       "    }\n",
       "</style>\n",
       "<table border=\"1\" class=\"dataframe\">\n",
       "  <thead>\n",
       "    <tr style=\"text-align: right;\">\n",
       "      <th></th>\n",
       "      <th>Continent</th>\n",
       "      <th>Country_Name</th>\n",
       "    </tr>\n",
       "  </thead>\n",
       "  <tbody>\n",
       "    <tr>\n",
       "      <th>0</th>\n",
       "      <td>Asia</td>\n",
       "      <td>Afghanistan</td>\n",
       "    </tr>\n",
       "    <tr>\n",
       "      <th>22951</th>\n",
       "      <td>Europe</td>\n",
       "      <td>Belarus</td>\n",
       "    </tr>\n",
       "    <tr>\n",
       "      <th>42230</th>\n",
       "      <td>NaN</td>\n",
       "      <td>Cabo Verde</td>\n",
       "    </tr>\n",
       "    <tr>\n",
       "      <th>63269</th>\n",
       "      <td>Europe</td>\n",
       "      <td>Croatia</td>\n",
       "    </tr>\n",
       "    <tr>\n",
       "      <th>85989</th>\n",
       "      <td>Oceania</td>\n",
       "      <td>Fiji</td>\n",
       "    </tr>\n",
       "    <tr>\n",
       "      <th>108623</th>\n",
       "      <td>North America</td>\n",
       "      <td>Haiti</td>\n",
       "    </tr>\n",
       "    <tr>\n",
       "      <th>129577</th>\n",
       "      <td>Asia</td>\n",
       "      <td>Jordan</td>\n",
       "    </tr>\n",
       "    <tr>\n",
       "      <th>153088</th>\n",
       "      <td>NaN</td>\n",
       "      <td>Macao SAR, China</td>\n",
       "    </tr>\n",
       "    <tr>\n",
       "      <th>174444</th>\n",
       "      <td>Europe</td>\n",
       "      <td>Montenegro</td>\n",
       "    </tr>\n",
       "    <tr>\n",
       "      <th>196608</th>\n",
       "      <td>North America</td>\n",
       "      <td>Panama</td>\n",
       "    </tr>\n",
       "    <tr>\n",
       "      <th>218025</th>\n",
       "      <td>Africa</td>\n",
       "      <td>Senegal</td>\n",
       "    </tr>\n",
       "    <tr>\n",
       "      <th>242548</th>\n",
       "      <td>Africa</td>\n",
       "      <td>Sudan</td>\n",
       "    </tr>\n",
       "    <tr>\n",
       "      <th>262305</th>\n",
       "      <td>Asia</td>\n",
       "      <td>Turkmenistan</td>\n",
       "    </tr>\n",
       "    <tr>\n",
       "      <th>285638</th>\n",
       "      <td>Africa</td>\n",
       "      <td>Zimbabwe</td>\n",
       "    </tr>\n",
       "  </tbody>\n",
       "</table>\n",
       "</div>"
      ],
      "text/plain": [
       "            Continent      Country_Name\n",
       "0       Asia           Afghanistan     \n",
       "22951   Europe         Belarus         \n",
       "42230   NaN            Cabo Verde      \n",
       "63269   Europe         Croatia         \n",
       "85989   Oceania        Fiji            \n",
       "108623  North America  Haiti           \n",
       "129577  Asia           Jordan          \n",
       "153088  NaN            Macao SAR, China\n",
       "174444  Europe         Montenegro      \n",
       "196608  North America  Panama          \n",
       "218025  Africa         Senegal         \n",
       "242548  Africa         Sudan           \n",
       "262305  Asia           Turkmenistan    \n",
       "285638  Africa         Zimbabwe        "
      ]
     },
     "execution_count": 47,
     "metadata": {},
     "output_type": "execute_result"
    }
   ],
   "source": [
    "df[['Continent','Country_Name']].iloc[::15000]"
   ]
  },
  {
   "cell_type": "markdown",
   "metadata": {},
   "source": [
    "We have some countries with names that are different from our list of country/continent"
   ]
  },
  {
   "cell_type": "code",
   "execution_count": 48,
   "metadata": {},
   "outputs": [
    {
     "data": {
      "text/plain": [
       "array(['American Samoa', 'Aruba', 'Bahamas, The', 'Bermuda', 'Cabo Verde',\n",
       "       'Cayman Islands', 'Channel Islands', 'China', 'Congo, Dem. Rep.',\n",
       "       'Congo, Rep.', \"Cote d'Ivoire\", 'Curacao', 'Egypt, Arab Rep.',\n",
       "       'Faeroe Islands', 'French Polynesia', 'Gambia, The', 'Greenland',\n",
       "       'Guam', 'Hong Kong SAR, China', 'Iran, Islamic Rep.', 'Ireland',\n",
       "       'Isle of Man', 'Korea, Dem. Rep.', 'Korea, Rep.', 'Kosovo',\n",
       "       'Kyrgyz Republic', 'Lao PDR', 'Macao SAR, China', 'Macedonia, FYR',\n",
       "       'Micronesia, Fed. Sts.', 'Netherlands', 'New Caledonia',\n",
       "       'Northern Mariana Islands', 'Puerto Rico', 'Russian Federation',\n",
       "       'Sao Tome and Principe', 'Sint Maarten (Dutch part)',\n",
       "       'Slovak Republic', 'South Sudan', 'St. Kitts and Nevis',\n",
       "       'St. Lucia', 'St. Martin (French part)',\n",
       "       'St. Vincent and the Grenadines', 'Syrian Arab Republic',\n",
       "       'Timor-Leste', 'Turks and Caicos Islands', 'Venezuela, RB',\n",
       "       'Virgin Islands (U.S.)', 'West Bank and Gaza', 'Yemen, Rep.'],\n",
       "      dtype=object)"
      ]
     },
     "execution_count": 48,
     "metadata": {},
     "output_type": "execute_result"
    }
   ],
   "source": [
    "df[df.Continent.isna()].Country_Name.unique()"
   ]
  },
  {
   "cell_type": "code",
   "execution_count": 49,
   "metadata": {},
   "outputs": [
    {
     "data": {
      "text/plain": [
       "array(['Bahamas, The'], dtype=object)"
      ]
     },
     "execution_count": 49,
     "metadata": {},
     "output_type": "execute_result"
    }
   ],
   "source": [
    "df[df.Country_Name.str.contains('Bahamas', case=False)].Country_Name.unique()"
   ]
  },
  {
   "cell_type": "code",
   "execution_count": 50,
   "metadata": {},
   "outputs": [
    {
     "data": {
      "text/html": [
       "<div>\n",
       "<style scoped>\n",
       "    .dataframe tbody tr th:only-of-type {\n",
       "        vertical-align: middle;\n",
       "    }\n",
       "\n",
       "    .dataframe tbody tr th {\n",
       "        vertical-align: top;\n",
       "    }\n",
       "\n",
       "    .dataframe thead th {\n",
       "        text-align: right;\n",
       "    }\n",
       "</style>\n",
       "<table border=\"1\" class=\"dataframe\">\n",
       "  <thead>\n",
       "    <tr style=\"text-align: right;\">\n",
       "      <th></th>\n",
       "      <th>capital</th>\n",
       "      <th>code</th>\n",
       "      <th>continent</th>\n",
       "      <th>name</th>\n",
       "      <th>timezones</th>\n",
       "    </tr>\n",
       "  </thead>\n",
       "  <tbody>\n",
       "    <tr>\n",
       "      <th>21</th>\n",
       "      <td>Nassau</td>\n",
       "      <td>BS</td>\n",
       "      <td>North America</td>\n",
       "      <td>Bahamas</td>\n",
       "      <td>[America/Nassau]</td>\n",
       "    </tr>\n",
       "  </tbody>\n",
       "</table>\n",
       "</div>"
      ],
      "text/plain": [
       "   capital code      continent     name         timezones\n",
       "21  Nassau  BS   North America  Bahamas  [America/Nassau]"
      ]
     },
     "execution_count": 50,
     "metadata": {},
     "output_type": "execute_result"
    }
   ],
   "source": [
    "df_continent[df_continent.name.str.contains('Bahamas', case=False)]"
   ]
  },
  {
   "cell_type": "markdown",
   "metadata": {},
   "source": [
    "### Missing continent values"
   ]
  },
  {
   "cell_type": "markdown",
   "metadata": {},
   "source": [
    "Let's do some fuzzy matching to find the most likely candidate for the country listed in our database."
   ]
  },
  {
   "cell_type": "code",
   "execution_count": 51,
   "metadata": {},
   "outputs": [],
   "source": [
    "from fuzzywuzzy import fuzz, process"
   ]
  },
  {
   "cell_type": "code",
   "execution_count": 52,
   "metadata": {},
   "outputs": [],
   "source": [
    "country_bad_name = df[df.Continent.isna()].Country_Name.unique()\n",
    "countries = df_continent.name.values"
   ]
  },
  {
   "cell_type": "code",
   "execution_count": 53,
   "metadata": {},
   "outputs": [
    {
     "name": "stdout",
     "output_type": "stream",
     "text": [
      "American Samoa\n"
     ]
    },
    {
     "data": {
      "text/plain": [
       "('Samoa', 90)"
      ]
     },
     "execution_count": 53,
     "metadata": {},
     "output_type": "execute_result"
    }
   ],
   "source": [
    "country = country_bad_name[0]\n",
    "print(country)\n",
    "process.extractOne(country, countries)"
   ]
  },
  {
   "cell_type": "code",
   "execution_count": 54,
   "metadata": {},
   "outputs": [],
   "source": [
    "df_fuzzy = pd.DataFrame([[country]+list(process.extractOne(country, countries)) for country in country_bad_name], \n",
    "                        columns=['training_name', 'replacement_name', 'score'])"
   ]
  },
  {
   "cell_type": "code",
   "execution_count": 55,
   "metadata": {},
   "outputs": [
    {
     "data": {
      "text/html": [
       "<div>\n",
       "<style scoped>\n",
       "    .dataframe tbody tr th:only-of-type {\n",
       "        vertical-align: middle;\n",
       "    }\n",
       "\n",
       "    .dataframe tbody tr th {\n",
       "        vertical-align: top;\n",
       "    }\n",
       "\n",
       "    .dataframe thead th {\n",
       "        text-align: right;\n",
       "    }\n",
       "</style>\n",
       "<table border=\"1\" class=\"dataframe\">\n",
       "  <thead>\n",
       "    <tr style=\"text-align: right;\">\n",
       "      <th></th>\n",
       "      <th>training_name</th>\n",
       "      <th>replacement_name</th>\n",
       "      <th>score</th>\n",
       "    </tr>\n",
       "  </thead>\n",
       "  <tbody>\n",
       "    <tr>\n",
       "      <th>0</th>\n",
       "      <td>American Samoa</td>\n",
       "      <td>Samoa</td>\n",
       "      <td>90</td>\n",
       "    </tr>\n",
       "    <tr>\n",
       "      <th>1</th>\n",
       "      <td>Aruba</td>\n",
       "      <td>Barbados</td>\n",
       "      <td>72</td>\n",
       "    </tr>\n",
       "    <tr>\n",
       "      <th>2</th>\n",
       "      <td>Bahamas, The</td>\n",
       "      <td>Bahamas</td>\n",
       "      <td>90</td>\n",
       "    </tr>\n",
       "    <tr>\n",
       "      <th>3</th>\n",
       "      <td>Bermuda</td>\n",
       "      <td>Peru</td>\n",
       "      <td>68</td>\n",
       "    </tr>\n",
       "    <tr>\n",
       "      <th>4</th>\n",
       "      <td>Cabo Verde</td>\n",
       "      <td>Cape Verde</td>\n",
       "      <td>80</td>\n",
       "    </tr>\n",
       "  </tbody>\n",
       "</table>\n",
       "</div>"
      ],
      "text/plain": [
       "    training_name replacement_name  score\n",
       "0  American Samoa  Samoa            90   \n",
       "1  Aruba           Barbados         72   \n",
       "2  Bahamas, The    Bahamas          90   \n",
       "3  Bermuda         Peru             68   \n",
       "4  Cabo Verde      Cape Verde       80   "
      ]
     },
     "execution_count": 55,
     "metadata": {},
     "output_type": "execute_result"
    }
   ],
   "source": [
    "df_fuzzy.head()"
   ]
  },
  {
   "cell_type": "code",
   "execution_count": 56,
   "metadata": {},
   "outputs": [],
   "source": [
    "# Let's add the continent to this dataframe\n",
    "df_fuzzy['Continent'] = df_fuzzy.replacement_name.map(df_continent.set_index('name').continent)"
   ]
  },
  {
   "cell_type": "code",
   "execution_count": 57,
   "metadata": {},
   "outputs": [
    {
     "data": {
      "text/html": [
       "<div>\n",
       "<style scoped>\n",
       "    .dataframe tbody tr th:only-of-type {\n",
       "        vertical-align: middle;\n",
       "    }\n",
       "\n",
       "    .dataframe tbody tr th {\n",
       "        vertical-align: top;\n",
       "    }\n",
       "\n",
       "    .dataframe thead th {\n",
       "        text-align: right;\n",
       "    }\n",
       "</style>\n",
       "<table border=\"1\" class=\"dataframe\">\n",
       "  <thead>\n",
       "    <tr style=\"text-align: right;\">\n",
       "      <th></th>\n",
       "      <th>training_name</th>\n",
       "      <th>replacement_name</th>\n",
       "      <th>score</th>\n",
       "      <th>Continent</th>\n",
       "    </tr>\n",
       "  </thead>\n",
       "  <tbody>\n",
       "    <tr>\n",
       "      <th>0</th>\n",
       "      <td>American Samoa</td>\n",
       "      <td>Samoa</td>\n",
       "      <td>90</td>\n",
       "      <td>Oceania</td>\n",
       "    </tr>\n",
       "    <tr>\n",
       "      <th>1</th>\n",
       "      <td>Aruba</td>\n",
       "      <td>Barbados</td>\n",
       "      <td>72</td>\n",
       "      <td>North America</td>\n",
       "    </tr>\n",
       "    <tr>\n",
       "      <th>2</th>\n",
       "      <td>Bahamas, The</td>\n",
       "      <td>Bahamas</td>\n",
       "      <td>90</td>\n",
       "      <td>North America</td>\n",
       "    </tr>\n",
       "    <tr>\n",
       "      <th>3</th>\n",
       "      <td>Bermuda</td>\n",
       "      <td>Peru</td>\n",
       "      <td>68</td>\n",
       "      <td>South America</td>\n",
       "    </tr>\n",
       "    <tr>\n",
       "      <th>4</th>\n",
       "      <td>Cabo Verde</td>\n",
       "      <td>Cape Verde</td>\n",
       "      <td>80</td>\n",
       "      <td>Africa</td>\n",
       "    </tr>\n",
       "  </tbody>\n",
       "</table>\n",
       "</div>"
      ],
      "text/plain": [
       "    training_name replacement_name  score      Continent\n",
       "0  American Samoa  Samoa            90     Oceania      \n",
       "1  Aruba           Barbados         72     North America\n",
       "2  Bahamas, The    Bahamas          90     North America\n",
       "3  Bermuda         Peru             68     South America\n",
       "4  Cabo Verde      Cape Verde       80     Africa       "
      ]
     },
     "execution_count": 57,
     "metadata": {},
     "output_type": "execute_result"
    }
   ],
   "source": [
    "df_fuzzy.head()"
   ]
  },
  {
   "cell_type": "code",
   "execution_count": 58,
   "metadata": {},
   "outputs": [
    {
     "data": {
      "text/html": [
       "<div>\n",
       "<style scoped>\n",
       "    .dataframe tbody tr th:only-of-type {\n",
       "        vertical-align: middle;\n",
       "    }\n",
       "\n",
       "    .dataframe tbody tr th {\n",
       "        vertical-align: top;\n",
       "    }\n",
       "\n",
       "    .dataframe thead th {\n",
       "        text-align: right;\n",
       "    }\n",
       "</style>\n",
       "<table border=\"1\" class=\"dataframe\">\n",
       "  <thead>\n",
       "    <tr style=\"text-align: right;\">\n",
       "      <th></th>\n",
       "      <th>training_name</th>\n",
       "      <th>replacement_name</th>\n",
       "      <th>score</th>\n",
       "      <th>Continent</th>\n",
       "    </tr>\n",
       "  </thead>\n",
       "  <tbody>\n",
       "    <tr>\n",
       "      <th>0</th>\n",
       "      <td>American Samoa</td>\n",
       "      <td>Samoa</td>\n",
       "      <td>90</td>\n",
       "      <td>Oceania</td>\n",
       "    </tr>\n",
       "    <tr>\n",
       "      <th>2</th>\n",
       "      <td>Bahamas, The</td>\n",
       "      <td>Bahamas</td>\n",
       "      <td>90</td>\n",
       "      <td>North America</td>\n",
       "    </tr>\n",
       "    <tr>\n",
       "      <th>7</th>\n",
       "      <td>China</td>\n",
       "      <td>People's Republic of China</td>\n",
       "      <td>90</td>\n",
       "      <td>Asia</td>\n",
       "    </tr>\n",
       "    <tr>\n",
       "      <th>10</th>\n",
       "      <td>Cote d'Ivoire</td>\n",
       "      <td>CÃ´te d'Ivoire</td>\n",
       "      <td>96</td>\n",
       "      <td>Africa</td>\n",
       "    </tr>\n",
       "    <tr>\n",
       "      <th>12</th>\n",
       "      <td>Egypt, Arab Rep.</td>\n",
       "      <td>Egypt</td>\n",
       "      <td>90</td>\n",
       "      <td>Africa</td>\n",
       "    </tr>\n",
       "    <tr>\n",
       "      <th>15</th>\n",
       "      <td>Gambia, The</td>\n",
       "      <td>The Gambia</td>\n",
       "      <td>95</td>\n",
       "      <td>Africa</td>\n",
       "    </tr>\n",
       "    <tr>\n",
       "      <th>19</th>\n",
       "      <td>Iran, Islamic Rep.</td>\n",
       "      <td>Iran</td>\n",
       "      <td>90</td>\n",
       "      <td>Asia</td>\n",
       "    </tr>\n",
       "    <tr>\n",
       "      <th>20</th>\n",
       "      <td>Ireland</td>\n",
       "      <td>Republic of Ireland</td>\n",
       "      <td>90</td>\n",
       "      <td>Europe</td>\n",
       "    </tr>\n",
       "    <tr>\n",
       "      <th>28</th>\n",
       "      <td>Macedonia, FYR</td>\n",
       "      <td>Macedonia</td>\n",
       "      <td>90</td>\n",
       "      <td>Europe</td>\n",
       "    </tr>\n",
       "    <tr>\n",
       "      <th>30</th>\n",
       "      <td>Netherlands</td>\n",
       "      <td>Kingdom of the Netherlands</td>\n",
       "      <td>90</td>\n",
       "      <td>Europe</td>\n",
       "    </tr>\n",
       "    <tr>\n",
       "      <th>34</th>\n",
       "      <td>Russian Federation</td>\n",
       "      <td>Russia</td>\n",
       "      <td>90</td>\n",
       "      <td>Europe</td>\n",
       "    </tr>\n",
       "    <tr>\n",
       "      <th>35</th>\n",
       "      <td>Sao Tome and Principe</td>\n",
       "      <td>SÃ£o TomÃ© and PrÃ­ncipe</td>\n",
       "      <td>92</td>\n",
       "      <td>Africa</td>\n",
       "    </tr>\n",
       "    <tr>\n",
       "      <th>38</th>\n",
       "      <td>South Sudan</td>\n",
       "      <td>Sudan</td>\n",
       "      <td>90</td>\n",
       "      <td>Africa</td>\n",
       "    </tr>\n",
       "    <tr>\n",
       "      <th>39</th>\n",
       "      <td>St. Kitts and Nevis</td>\n",
       "      <td>Saint Kitts and Nevis</td>\n",
       "      <td>90</td>\n",
       "      <td>North America</td>\n",
       "    </tr>\n",
       "    <tr>\n",
       "      <th>42</th>\n",
       "      <td>St. Vincent and the Grenadines</td>\n",
       "      <td>Saint Vincent and the Grenadines</td>\n",
       "      <td>94</td>\n",
       "      <td>North America</td>\n",
       "    </tr>\n",
       "    <tr>\n",
       "      <th>43</th>\n",
       "      <td>Syrian Arab Republic</td>\n",
       "      <td>Syria</td>\n",
       "      <td>90</td>\n",
       "      <td>Asia</td>\n",
       "    </tr>\n",
       "    <tr>\n",
       "      <th>46</th>\n",
       "      <td>Venezuela, RB</td>\n",
       "      <td>Venezuela</td>\n",
       "      <td>95</td>\n",
       "      <td>South America</td>\n",
       "    </tr>\n",
       "    <tr>\n",
       "      <th>49</th>\n",
       "      <td>Yemen, Rep.</td>\n",
       "      <td>Yemen</td>\n",
       "      <td>90</td>\n",
       "      <td>Asia</td>\n",
       "    </tr>\n",
       "  </tbody>\n",
       "</table>\n",
       "</div>"
      ],
      "text/plain": [
       "                     training_name                  replacement_name  score  \\\n",
       "0   American Samoa                  Samoa                             90      \n",
       "2   Bahamas, The                    Bahamas                           90      \n",
       "7   China                           People's Republic of China        90      \n",
       "10  Cote d'Ivoire                   CÃ´te d'Ivoire                    96      \n",
       "12  Egypt, Arab Rep.                Egypt                             90      \n",
       "15  Gambia, The                     The Gambia                        95      \n",
       "19  Iran, Islamic Rep.              Iran                              90      \n",
       "20  Ireland                         Republic of Ireland               90      \n",
       "28  Macedonia, FYR                  Macedonia                         90      \n",
       "30  Netherlands                     Kingdom of the Netherlands        90      \n",
       "34  Russian Federation              Russia                            90      \n",
       "35  Sao Tome and Principe           SÃ£o TomÃ© and PrÃ­ncipe          92      \n",
       "38  South Sudan                     Sudan                             90      \n",
       "39  St. Kitts and Nevis             Saint Kitts and Nevis             90      \n",
       "42  St. Vincent and the Grenadines  Saint Vincent and the Grenadines  94      \n",
       "43  Syrian Arab Republic            Syria                             90      \n",
       "46  Venezuela, RB                   Venezuela                         95      \n",
       "49  Yemen, Rep.                     Yemen                             90      \n",
       "\n",
       "        Continent  \n",
       "0   Oceania        \n",
       "2   North America  \n",
       "7   Asia           \n",
       "10  Africa         \n",
       "12  Africa         \n",
       "15  Africa         \n",
       "19  Asia           \n",
       "20  Europe         \n",
       "28  Europe         \n",
       "30  Europe         \n",
       "34  Europe         \n",
       "35  Africa         \n",
       "38  Africa         \n",
       "39  North America  \n",
       "42  North America  \n",
       "43  Asia           \n",
       "46  South America  \n",
       "49  Asia           "
      ]
     },
     "execution_count": 58,
     "metadata": {},
     "output_type": "execute_result"
    }
   ],
   "source": [
    "# Replacement_name that we are most sure about\n",
    "df_fuzzy[df_fuzzy.score > 86]"
   ]
  },
  {
   "cell_type": "code",
   "execution_count": 59,
   "metadata": {},
   "outputs": [
    {
     "data": {
      "text/html": [
       "<div>\n",
       "<style scoped>\n",
       "    .dataframe tbody tr th:only-of-type {\n",
       "        vertical-align: middle;\n",
       "    }\n",
       "\n",
       "    .dataframe tbody tr th {\n",
       "        vertical-align: top;\n",
       "    }\n",
       "\n",
       "    .dataframe thead th {\n",
       "        text-align: right;\n",
       "    }\n",
       "</style>\n",
       "<table border=\"1\" class=\"dataframe\">\n",
       "  <thead>\n",
       "    <tr style=\"text-align: right;\">\n",
       "      <th></th>\n",
       "      <th>training_name</th>\n",
       "      <th>replacement_name</th>\n",
       "      <th>score</th>\n",
       "      <th>Continent</th>\n",
       "    </tr>\n",
       "  </thead>\n",
       "  <tbody>\n",
       "    <tr>\n",
       "      <th>1</th>\n",
       "      <td>Aruba</td>\n",
       "      <td>Barbados</td>\n",
       "      <td>72</td>\n",
       "      <td>North America</td>\n",
       "    </tr>\n",
       "    <tr>\n",
       "      <th>3</th>\n",
       "      <td>Bermuda</td>\n",
       "      <td>Peru</td>\n",
       "      <td>68</td>\n",
       "      <td>South America</td>\n",
       "    </tr>\n",
       "    <tr>\n",
       "      <th>4</th>\n",
       "      <td>Cabo Verde</td>\n",
       "      <td>Cape Verde</td>\n",
       "      <td>80</td>\n",
       "      <td>Africa</td>\n",
       "    </tr>\n",
       "    <tr>\n",
       "      <th>5</th>\n",
       "      <td>Cayman Islands</td>\n",
       "      <td>Solomon Islands</td>\n",
       "      <td>69</td>\n",
       "      <td>Oceania</td>\n",
       "    </tr>\n",
       "    <tr>\n",
       "      <th>6</th>\n",
       "      <td>Channel Islands</td>\n",
       "      <td>Marshall Islands</td>\n",
       "      <td>71</td>\n",
       "      <td>Oceania</td>\n",
       "    </tr>\n",
       "    <tr>\n",
       "      <th>11</th>\n",
       "      <td>Curacao</td>\n",
       "      <td>Cuba</td>\n",
       "      <td>68</td>\n",
       "      <td>North America</td>\n",
       "    </tr>\n",
       "    <tr>\n",
       "      <th>13</th>\n",
       "      <td>Faeroe Islands</td>\n",
       "      <td>Marshall Islands</td>\n",
       "      <td>67</td>\n",
       "      <td>Oceania</td>\n",
       "    </tr>\n",
       "    <tr>\n",
       "      <th>14</th>\n",
       "      <td>French Polynesia</td>\n",
       "      <td>France</td>\n",
       "      <td>60</td>\n",
       "      <td>Europe</td>\n",
       "    </tr>\n",
       "    <tr>\n",
       "      <th>16</th>\n",
       "      <td>Greenland</td>\n",
       "      <td>Grenada</td>\n",
       "      <td>75</td>\n",
       "      <td>North America</td>\n",
       "    </tr>\n",
       "    <tr>\n",
       "      <th>17</th>\n",
       "      <td>Guam</td>\n",
       "      <td>Nicaragua</td>\n",
       "      <td>77</td>\n",
       "      <td>North America</td>\n",
       "    </tr>\n",
       "    <tr>\n",
       "      <th>18</th>\n",
       "      <td>Hong Kong SAR, China</td>\n",
       "      <td>Chile</td>\n",
       "      <td>54</td>\n",
       "      <td>South America</td>\n",
       "    </tr>\n",
       "    <tr>\n",
       "      <th>22</th>\n",
       "      <td>Korea, Dem. Rep.</td>\n",
       "      <td>North Korea</td>\n",
       "      <td>59</td>\n",
       "      <td>Asia</td>\n",
       "    </tr>\n",
       "    <tr>\n",
       "      <th>23</th>\n",
       "      <td>Korea, Rep.</td>\n",
       "      <td>North Korea</td>\n",
       "      <td>67</td>\n",
       "      <td>Asia</td>\n",
       "    </tr>\n",
       "    <tr>\n",
       "      <th>24</th>\n",
       "      <td>Kosovo</td>\n",
       "      <td>Lesotho</td>\n",
       "      <td>46</td>\n",
       "      <td>Africa</td>\n",
       "    </tr>\n",
       "    <tr>\n",
       "      <th>26</th>\n",
       "      <td>Lao PDR</td>\n",
       "      <td>Laos</td>\n",
       "      <td>68</td>\n",
       "      <td>Asia</td>\n",
       "    </tr>\n",
       "    <tr>\n",
       "      <th>31</th>\n",
       "      <td>New Caledonia</td>\n",
       "      <td>Estonia</td>\n",
       "      <td>64</td>\n",
       "      <td>Europe</td>\n",
       "    </tr>\n",
       "    <tr>\n",
       "      <th>33</th>\n",
       "      <td>Puerto Rico</td>\n",
       "      <td>Peru</td>\n",
       "      <td>68</td>\n",
       "      <td>South America</td>\n",
       "    </tr>\n",
       "    <tr>\n",
       "      <th>36</th>\n",
       "      <td>Sint Maarten (Dutch part)</td>\n",
       "      <td>Malta</td>\n",
       "      <td>54</td>\n",
       "      <td>Europe</td>\n",
       "    </tr>\n",
       "    <tr>\n",
       "      <th>40</th>\n",
       "      <td>St. Lucia</td>\n",
       "      <td>Saint Lucia</td>\n",
       "      <td>80</td>\n",
       "      <td>North America</td>\n",
       "    </tr>\n",
       "    <tr>\n",
       "      <th>41</th>\n",
       "      <td>St. Martin (French part)</td>\n",
       "      <td>San Marino</td>\n",
       "      <td>63</td>\n",
       "      <td>Europe</td>\n",
       "    </tr>\n",
       "    <tr>\n",
       "      <th>44</th>\n",
       "      <td>Timor-Leste</td>\n",
       "      <td>East Timor</td>\n",
       "      <td>82</td>\n",
       "      <td>Asia</td>\n",
       "    </tr>\n",
       "    <tr>\n",
       "      <th>47</th>\n",
       "      <td>Virgin Islands (U.S.)</td>\n",
       "      <td>Finland</td>\n",
       "      <td>64</td>\n",
       "      <td>Europe</td>\n",
       "    </tr>\n",
       "  </tbody>\n",
       "</table>\n",
       "</div>"
      ],
      "text/plain": [
       "                training_name  replacement_name  score      Continent\n",
       "1   Aruba                      Barbados          72     North America\n",
       "3   Bermuda                    Peru              68     South America\n",
       "4   Cabo Verde                 Cape Verde        80     Africa       \n",
       "5   Cayman Islands             Solomon Islands   69     Oceania      \n",
       "6   Channel Islands            Marshall Islands  71     Oceania      \n",
       "11  Curacao                    Cuba              68     North America\n",
       "13  Faeroe Islands             Marshall Islands  67     Oceania      \n",
       "14  French Polynesia           France            60     Europe       \n",
       "16  Greenland                  Grenada           75     North America\n",
       "17  Guam                       Nicaragua         77     North America\n",
       "18  Hong Kong SAR, China       Chile             54     South America\n",
       "22  Korea, Dem. Rep.           North Korea       59     Asia         \n",
       "23  Korea, Rep.                North Korea       67     Asia         \n",
       "24  Kosovo                     Lesotho           46     Africa       \n",
       "26  Lao PDR                    Laos              68     Asia         \n",
       "31  New Caledonia              Estonia           64     Europe       \n",
       "33  Puerto Rico                Peru              68     South America\n",
       "36  Sint Maarten (Dutch part)  Malta             54     Europe       \n",
       "40  St. Lucia                  Saint Lucia       80     North America\n",
       "41  St. Martin (French part)   San Marino        63     Europe       \n",
       "44  Timor-Leste                East Timor        82     Asia         \n",
       "47  Virgin Islands (U.S.)      Finland           64     Europe       "
      ]
     },
     "execution_count": 59,
     "metadata": {},
     "output_type": "execute_result"
    }
   ],
   "source": [
    "# Replacement_name that we are not too sure about\n",
    "df_fuzzy[df_fuzzy.score < 86]"
   ]
  },
  {
   "cell_type": "markdown",
   "metadata": {},
   "source": [
    "We are missing a few easy fixes like Congo and Korea."
   ]
  },
  {
   "cell_type": "markdown",
   "metadata": {},
   "source": [
    "Let's fill in the missing continents using the above rule."
   ]
  },
  {
   "cell_type": "code",
   "execution_count": 60,
   "metadata": {},
   "outputs": [],
   "source": [
    "countries_to_correct = df.Country_Name.isin(df_fuzzy[df_fuzzy.score > 86].training_name)\n",
    "\n",
    "df.loc[countries_to_correct, 'Continent'] =\\\n",
    "    df.loc[countries_to_correct, 'Country_Name'].map(\n",
    "        df_fuzzy[df_fuzzy.score > 86].set_index('training_name').Continent)"
   ]
  },
  {
   "cell_type": "markdown",
   "metadata": {},
   "source": [
    "#### Let's redo the above fuzzy matching but trying a different metric to catch more missing values"
   ]
  },
  {
   "cell_type": "code",
   "execution_count": 61,
   "metadata": {},
   "outputs": [],
   "source": [
    "country_bad_name = df[df.Continent.isna()].Country_Name.unique()\n",
    "countries = df_continent.name.values"
   ]
  },
  {
   "cell_type": "code",
   "execution_count": 62,
   "metadata": {},
   "outputs": [
    {
     "name": "stdout",
     "output_type": "stream",
     "text": [
      "Congo, Dem. Rep.\n",
      "('Democratic Republic of the Congo', 86)\n",
      "(\"CÃ´te d'Ivoire\", 48)\n",
      "('Togo', 75)\n",
      "('Republic of the Congo', 59)\n",
      "('Republic of the Congo', 59)\n",
      "('Democratic Republic of the Congo', 100)\n"
     ]
    }
   ],
   "source": [
    "country = country_bad_name[5]\n",
    "print(country)\n",
    "print(process.extractOne(country, countries))\n",
    "print(process.extractOne(country, countries, scorer=fuzz.ratio))\n",
    "print(process.extractOne(country, countries, scorer=fuzz.partial_ratio))\n",
    "print(process.extractOne(country, countries, scorer=fuzz.token_sort_ratio))\n",
    "print(process.extractOne(country, countries, scorer=fuzz.token_set_ratio))\n",
    "print(process.extractOne(country, countries, scorer=fuzz.partial_token_set_ratio))"
   ]
  },
  {
   "cell_type": "code",
   "execution_count": 63,
   "metadata": {},
   "outputs": [],
   "source": [
    "df_fuzzy = pd.DataFrame([[country]+list(process.extractOne(country, \n",
    "                                                           countries, \n",
    "                                                           scorer=fuzz.ratio\n",
    "                                                          )) for country in country_bad_name], \n",
    "                        columns=['training_name', 'replacement_name', 'score'])"
   ]
  },
  {
   "cell_type": "code",
   "execution_count": 64,
   "metadata": {},
   "outputs": [],
   "source": [
    "# Let's add the continent to this dataframe\n",
    "df_fuzzy['Continent'] = df_fuzzy.replacement_name.map(df_continent.set_index('name').continent)"
   ]
  },
  {
   "cell_type": "code",
   "execution_count": 65,
   "metadata": {},
   "outputs": [
    {
     "data": {
      "text/html": [
       "<div>\n",
       "<style scoped>\n",
       "    .dataframe tbody tr th:only-of-type {\n",
       "        vertical-align: middle;\n",
       "    }\n",
       "\n",
       "    .dataframe tbody tr th {\n",
       "        vertical-align: top;\n",
       "    }\n",
       "\n",
       "    .dataframe thead th {\n",
       "        text-align: right;\n",
       "    }\n",
       "</style>\n",
       "<table border=\"1\" class=\"dataframe\">\n",
       "  <thead>\n",
       "    <tr style=\"text-align: right;\">\n",
       "      <th></th>\n",
       "      <th>training_name</th>\n",
       "      <th>replacement_name</th>\n",
       "      <th>score</th>\n",
       "      <th>Continent</th>\n",
       "    </tr>\n",
       "  </thead>\n",
       "  <tbody>\n",
       "    <tr>\n",
       "      <th>2</th>\n",
       "      <td>Cabo Verde</td>\n",
       "      <td>Cape Verde</td>\n",
       "      <td>80</td>\n",
       "      <td>Africa</td>\n",
       "    </tr>\n",
       "    <tr>\n",
       "      <th>26</th>\n",
       "      <td>St. Lucia</td>\n",
       "      <td>Saint Lucia</td>\n",
       "      <td>80</td>\n",
       "      <td>North America</td>\n",
       "    </tr>\n",
       "  </tbody>\n",
       "</table>\n",
       "</div>"
      ],
      "text/plain": [
       "   training_name replacement_name  score      Continent\n",
       "2   Cabo Verde    Cape Verde       80     Africa       \n",
       "26  St. Lucia     Saint Lucia      80     North America"
      ]
     },
     "execution_count": 65,
     "metadata": {},
     "output_type": "execute_result"
    }
   ],
   "source": [
    "# Replacement_name that we are most sure about\n",
    "df_fuzzy[df_fuzzy.score > 79]"
   ]
  },
  {
   "cell_type": "markdown",
   "metadata": {},
   "source": [
    "Let's fill in the missing continents using the rule above."
   ]
  },
  {
   "cell_type": "code",
   "execution_count": 66,
   "metadata": {},
   "outputs": [],
   "source": [
    "countries_to_correct = df.Country_Name.isin(df_fuzzy[df_fuzzy.score > 79].training_name)\n",
    "\n",
    "df.loc[countries_to_correct, 'Continent'] =\\\n",
    "    df.loc[countries_to_correct, 'Country_Name'].map(\n",
    "        df_fuzzy[df_fuzzy.score > 79].set_index('training_name').Continent)"
   ]
  },
  {
   "cell_type": "markdown",
   "metadata": {},
   "source": [
    "#### Manual corrections for Korea, Congo and China"
   ]
  },
  {
   "cell_type": "code",
   "execution_count": 67,
   "metadata": {},
   "outputs": [
    {
     "data": {
      "text/html": [
       "<div>\n",
       "<style scoped>\n",
       "    .dataframe tbody tr th:only-of-type {\n",
       "        vertical-align: middle;\n",
       "    }\n",
       "\n",
       "    .dataframe tbody tr th {\n",
       "        vertical-align: top;\n",
       "    }\n",
       "\n",
       "    .dataframe thead th {\n",
       "        text-align: right;\n",
       "    }\n",
       "</style>\n",
       "<table border=\"1\" class=\"dataframe\">\n",
       "  <thead>\n",
       "    <tr style=\"text-align: right;\">\n",
       "      <th></th>\n",
       "      <th>capital</th>\n",
       "      <th>code</th>\n",
       "      <th>continent</th>\n",
       "      <th>name</th>\n",
       "      <th>timezones</th>\n",
       "    </tr>\n",
       "  </thead>\n",
       "  <tbody>\n",
       "    <tr>\n",
       "      <th>27</th>\n",
       "      <td>Kinshasa</td>\n",
       "      <td>CD</td>\n",
       "      <td>Africa</td>\n",
       "      <td>Democratic Republic of the Congo</td>\n",
       "      <td>[Africa/Kinshasa, Africa/Lubumbashi]</td>\n",
       "    </tr>\n",
       "    <tr>\n",
       "      <th>28</th>\n",
       "      <td>Brazzaville</td>\n",
       "      <td>CG</td>\n",
       "      <td>Africa</td>\n",
       "      <td>Republic of the Congo</td>\n",
       "      <td>[Africa/Brazzaville]</td>\n",
       "    </tr>\n",
       "  </tbody>\n",
       "</table>\n",
       "</div>"
      ],
      "text/plain": [
       "        capital code continent                              name  \\\n",
       "27  Kinshasa     CD   Africa    Democratic Republic of the Congo   \n",
       "28  Brazzaville  CG   Africa    Republic of the Congo              \n",
       "\n",
       "                               timezones  \n",
       "27  [Africa/Kinshasa, Africa/Lubumbashi]  \n",
       "28  [Africa/Brazzaville]                  "
      ]
     },
     "execution_count": 67,
     "metadata": {},
     "output_type": "execute_result"
    }
   ],
   "source": [
    "df_continent[df_continent.name.str.contains('congo', case=False)]"
   ]
  },
  {
   "cell_type": "code",
   "execution_count": 68,
   "metadata": {},
   "outputs": [
    {
     "data": {
      "text/html": [
       "<div>\n",
       "<style scoped>\n",
       "    .dataframe tbody tr th:only-of-type {\n",
       "        vertical-align: middle;\n",
       "    }\n",
       "\n",
       "    .dataframe tbody tr th {\n",
       "        vertical-align: top;\n",
       "    }\n",
       "\n",
       "    .dataframe thead th {\n",
       "        text-align: right;\n",
       "    }\n",
       "</style>\n",
       "<table border=\"1\" class=\"dataframe\">\n",
       "  <thead>\n",
       "    <tr style=\"text-align: right;\">\n",
       "      <th></th>\n",
       "      <th>capital</th>\n",
       "      <th>code</th>\n",
       "      <th>continent</th>\n",
       "      <th>name</th>\n",
       "      <th>timezones</th>\n",
       "    </tr>\n",
       "  </thead>\n",
       "  <tbody>\n",
       "    <tr>\n",
       "      <th>78</th>\n",
       "      <td>Pyongyang</td>\n",
       "      <td>KP</td>\n",
       "      <td>Asia</td>\n",
       "      <td>North Korea</td>\n",
       "      <td>[Asia/Pyongyang]</td>\n",
       "    </tr>\n",
       "    <tr>\n",
       "      <th>79</th>\n",
       "      <td>Seoul</td>\n",
       "      <td>KR</td>\n",
       "      <td>Asia</td>\n",
       "      <td>South Korea</td>\n",
       "      <td>[Asia/Seoul]</td>\n",
       "    </tr>\n",
       "  </tbody>\n",
       "</table>\n",
       "</div>"
      ],
      "text/plain": [
       "      capital code continent         name         timezones\n",
       "78  Pyongyang  KP   Asia      North Korea  [Asia/Pyongyang]\n",
       "79  Seoul      KR   Asia      South Korea  [Asia/Seoul]    "
      ]
     },
     "execution_count": 68,
     "metadata": {},
     "output_type": "execute_result"
    }
   ],
   "source": [
    "df_continent[df_continent.name.str.contains('korea', case=False)]"
   ]
  },
  {
   "cell_type": "code",
   "execution_count": 69,
   "metadata": {},
   "outputs": [],
   "source": [
    "df.loc[df.Country_Name.str.contains('congo', case=False), 'Continent'] = 'Africa'\n",
    "df.loc[df.Country_Name.str.contains('korea', case=False), 'Continent'] = 'Asia'\n",
    "df.loc[df.Country_Name.str.contains('china', case=False), 'Continent'] = 'Asia'"
   ]
  },
  {
   "cell_type": "markdown",
   "metadata": {},
   "source": [
    "What is left in our missing continent?"
   ]
  },
  {
   "cell_type": "code",
   "execution_count": 70,
   "metadata": {},
   "outputs": [
    {
     "data": {
      "text/plain": [
       "array(['Aruba', 'Bermuda', 'Cayman Islands', 'Channel Islands', 'Curacao',\n",
       "       'Faeroe Islands', 'French Polynesia', 'Greenland', 'Guam',\n",
       "       'Isle of Man', 'Kosovo', 'Kyrgyz Republic', 'Lao PDR',\n",
       "       'Micronesia, Fed. Sts.', 'New Caledonia',\n",
       "       'Northern Mariana Islands', 'Puerto Rico',\n",
       "       'Sint Maarten (Dutch part)', 'Slovak Republic',\n",
       "       'St. Martin (French part)', 'Timor-Leste',\n",
       "       'Turks and Caicos Islands', 'Virgin Islands (U.S.)',\n",
       "       'West Bank and Gaza'], dtype=object)"
      ]
     },
     "execution_count": 70,
     "metadata": {},
     "output_type": "execute_result"
    }
   ],
   "source": [
    "country_bad_name = df[df.Continent.isna()].Country_Name.unique()\n",
    "country_bad_name"
   ]
  },
  {
   "cell_type": "code",
   "execution_count": 71,
   "metadata": {},
   "outputs": [
    {
     "data": {
      "text/plain": [
       "24"
      ]
     },
     "execution_count": 71,
     "metadata": {},
     "output_type": "execute_result"
    }
   ],
   "source": [
    "len(country_bad_name)"
   ]
  },
  {
   "cell_type": "code",
   "execution_count": 72,
   "metadata": {},
   "outputs": [
    {
     "name": "stdout",
     "output_type": "stream",
     "text": [
      "Countries with missing continents from initial training set: 4.55%\n"
     ]
    }
   ],
   "source": [
    "print(f'Countries with missing continents from initial training set: \\\n",
    "{df.Country_Name.isin(country_bad_name).sum() / df.shape[0] * 100:.2f}%')"
   ]
  },
  {
   "cell_type": "code",
   "execution_count": 73,
   "metadata": {},
   "outputs": [
    {
     "name": "stdout",
     "output_type": "stream",
     "text": [
      "Countries with missing continents from submission set: 5.02%\n"
     ]
    }
   ],
   "source": [
    "print(f'Countries with missing continents from submission set: \\\n",
    "{df_submission_in_data.Country_Name.isin(country_bad_name).sum() / df_submission_in_data.shape[0] * 100:.2f}%')"
   ]
  },
  {
   "cell_type": "markdown",
   "metadata": {},
   "source": [
    "We have less than 5% of the data with a missing continent in the training and submission data so we can probably leave it as it is and just replace it with 'Missing'."
   ]
  },
  {
   "cell_type": "code",
   "execution_count": 74,
   "metadata": {},
   "outputs": [],
   "source": [
    "df.loc[df.Country_Name.isin(country_bad_name), 'Continent'] = 'Missing'"
   ]
  },
  {
   "cell_type": "code",
   "execution_count": 75,
   "metadata": {},
   "outputs": [
    {
     "data": {
      "text/html": [
       "<div>\n",
       "<style scoped>\n",
       "    .dataframe tbody tr th:only-of-type {\n",
       "        vertical-align: middle;\n",
       "    }\n",
       "\n",
       "    .dataframe tbody tr th {\n",
       "        vertical-align: top;\n",
       "    }\n",
       "\n",
       "    .dataframe thead th {\n",
       "        text-align: right;\n",
       "    }\n",
       "</style>\n",
       "<table border=\"1\" class=\"dataframe\">\n",
       "  <thead>\n",
       "    <tr style=\"text-align: right;\">\n",
       "      <th></th>\n",
       "      <th>1972</th>\n",
       "      <th>1973</th>\n",
       "      <th>1974</th>\n",
       "      <th>1975</th>\n",
       "      <th>1976</th>\n",
       "      <th>1977</th>\n",
       "      <th>1978</th>\n",
       "      <th>1979</th>\n",
       "      <th>1980</th>\n",
       "      <th>1981</th>\n",
       "      <th>...</th>\n",
       "      <th>Series_Code_0</th>\n",
       "      <th>Series_Code_1</th>\n",
       "      <th>Series_Code_2</th>\n",
       "      <th>Series_Code_3</th>\n",
       "      <th>Series_Code_4</th>\n",
       "      <th>Series_Code_5</th>\n",
       "      <th>Series_Code_6</th>\n",
       "      <th>Series_Code_First</th>\n",
       "      <th>Series_Code_Last</th>\n",
       "      <th>Continent</th>\n",
       "    </tr>\n",
       "  </thead>\n",
       "  <tbody>\n",
       "    <tr>\n",
       "      <th>0</th>\n",
       "      <td>NaN</td>\n",
       "      <td>NaN</td>\n",
       "      <td>NaN</td>\n",
       "      <td>NaN</td>\n",
       "      <td>NaN</td>\n",
       "      <td>NaN</td>\n",
       "      <td>NaN</td>\n",
       "      <td>NaN</td>\n",
       "      <td>NaN</td>\n",
       "      <td>NaN</td>\n",
       "      <td>...</td>\n",
       "      <td>ALLSI</td>\n",
       "      <td>BI_Q1</td>\n",
       "      <td>NaN</td>\n",
       "      <td>NaN</td>\n",
       "      <td>NaN</td>\n",
       "      <td>NaN</td>\n",
       "      <td>NaN</td>\n",
       "      <td>ALLSI</td>\n",
       "      <td>BI_Q1</td>\n",
       "      <td>Asia</td>\n",
       "    </tr>\n",
       "    <tr>\n",
       "      <th>1</th>\n",
       "      <td>NaN</td>\n",
       "      <td>NaN</td>\n",
       "      <td>NaN</td>\n",
       "      <td>NaN</td>\n",
       "      <td>NaN</td>\n",
       "      <td>NaN</td>\n",
       "      <td>NaN</td>\n",
       "      <td>NaN</td>\n",
       "      <td>NaN</td>\n",
       "      <td>NaN</td>\n",
       "      <td>...</td>\n",
       "      <td>ALLSP</td>\n",
       "      <td>BI_Q1</td>\n",
       "      <td>NaN</td>\n",
       "      <td>NaN</td>\n",
       "      <td>NaN</td>\n",
       "      <td>NaN</td>\n",
       "      <td>NaN</td>\n",
       "      <td>ALLSP</td>\n",
       "      <td>BI_Q1</td>\n",
       "      <td>Asia</td>\n",
       "    </tr>\n",
       "    <tr>\n",
       "      <th>2</th>\n",
       "      <td>NaN</td>\n",
       "      <td>NaN</td>\n",
       "      <td>NaN</td>\n",
       "      <td>NaN</td>\n",
       "      <td>NaN</td>\n",
       "      <td>NaN</td>\n",
       "      <td>NaN</td>\n",
       "      <td>NaN</td>\n",
       "      <td>NaN</td>\n",
       "      <td>NaN</td>\n",
       "      <td>...</td>\n",
       "      <td>ALLSA</td>\n",
       "      <td>BI_Q1</td>\n",
       "      <td>NaN</td>\n",
       "      <td>NaN</td>\n",
       "      <td>NaN</td>\n",
       "      <td>NaN</td>\n",
       "      <td>NaN</td>\n",
       "      <td>ALLSA</td>\n",
       "      <td>BI_Q1</td>\n",
       "      <td>Asia</td>\n",
       "    </tr>\n",
       "    <tr>\n",
       "      <th>4</th>\n",
       "      <td>NaN</td>\n",
       "      <td>NaN</td>\n",
       "      <td>NaN</td>\n",
       "      <td>NaN</td>\n",
       "      <td>NaN</td>\n",
       "      <td>NaN</td>\n",
       "      <td>NaN</td>\n",
       "      <td>NaN</td>\n",
       "      <td>NaN</td>\n",
       "      <td>NaN</td>\n",
       "      <td>...</td>\n",
       "      <td>ALLSI</td>\n",
       "      <td>GEN_POP</td>\n",
       "      <td>NaN</td>\n",
       "      <td>NaN</td>\n",
       "      <td>NaN</td>\n",
       "      <td>NaN</td>\n",
       "      <td>NaN</td>\n",
       "      <td>ALLSI</td>\n",
       "      <td>GEN_POP</td>\n",
       "      <td>Asia</td>\n",
       "    </tr>\n",
       "    <tr>\n",
       "      <th>5</th>\n",
       "      <td>NaN</td>\n",
       "      <td>NaN</td>\n",
       "      <td>NaN</td>\n",
       "      <td>NaN</td>\n",
       "      <td>NaN</td>\n",
       "      <td>NaN</td>\n",
       "      <td>NaN</td>\n",
       "      <td>NaN</td>\n",
       "      <td>NaN</td>\n",
       "      <td>NaN</td>\n",
       "      <td>...</td>\n",
       "      <td>ALLSP</td>\n",
       "      <td>GEN_POP</td>\n",
       "      <td>NaN</td>\n",
       "      <td>NaN</td>\n",
       "      <td>NaN</td>\n",
       "      <td>NaN</td>\n",
       "      <td>NaN</td>\n",
       "      <td>ALLSP</td>\n",
       "      <td>GEN_POP</td>\n",
       "      <td>Asia</td>\n",
       "    </tr>\n",
       "  </tbody>\n",
       "</table>\n",
       "<p>5 rows × 49 columns</p>\n",
       "</div>"
      ],
      "text/plain": [
       "   1972  1973  1974  1975  1976  1977  1978  1979  1980  1981  ...  \\\n",
       "0 NaN   NaN   NaN   NaN   NaN   NaN   NaN   NaN   NaN   NaN    ...   \n",
       "1 NaN   NaN   NaN   NaN   NaN   NaN   NaN   NaN   NaN   NaN    ...   \n",
       "2 NaN   NaN   NaN   NaN   NaN   NaN   NaN   NaN   NaN   NaN    ...   \n",
       "4 NaN   NaN   NaN   NaN   NaN   NaN   NaN   NaN   NaN   NaN    ...   \n",
       "5 NaN   NaN   NaN   NaN   NaN   NaN   NaN   NaN   NaN   NaN    ...   \n",
       "\n",
       "   Series_Code_0  Series_Code_1  Series_Code_2  Series_Code_3  Series_Code_4  \\\n",
       "0  ALLSI          BI_Q1          NaN            NaN            NaN             \n",
       "1  ALLSP          BI_Q1          NaN            NaN            NaN             \n",
       "2  ALLSA          BI_Q1          NaN            NaN            NaN             \n",
       "4  ALLSI          GEN_POP        NaN            NaN            NaN             \n",
       "5  ALLSP          GEN_POP        NaN            NaN            NaN             \n",
       "\n",
       "   Series_Code_5  Series_Code_6  Series_Code_First  Series_Code_Last  \\\n",
       "0  NaN            NaN            ALLSI              BI_Q1              \n",
       "1  NaN            NaN            ALLSP              BI_Q1              \n",
       "2  NaN            NaN            ALLSA              BI_Q1              \n",
       "4  NaN            NaN            ALLSI              GEN_POP            \n",
       "5  NaN            NaN            ALLSP              GEN_POP            \n",
       "\n",
       "   Continent  \n",
       "0  Asia       \n",
       "1  Asia       \n",
       "2  Asia       \n",
       "4  Asia       \n",
       "5  Asia       \n",
       "\n",
       "[5 rows x 49 columns]"
      ]
     },
     "execution_count": 75,
     "metadata": {},
     "output_type": "execute_result"
    }
   ],
   "source": [
    "df.head()"
   ]
  },
  {
   "cell_type": "markdown",
   "metadata": {},
   "source": [
    "## Exploring the subcodes"
   ]
  },
  {
   "cell_type": "code",
   "execution_count": 76,
   "metadata": {},
   "outputs": [],
   "source": [
    "from collections import Counter"
   ]
  },
  {
   "cell_type": "markdown",
   "metadata": {},
   "source": [
    "The 10 most common subcodes"
   ]
  },
  {
   "cell_type": "code",
   "execution_count": 77,
   "metadata": {},
   "outputs": [
    {
     "data": {
      "text/plain": [
       "[(nan, 533716),\n",
       " ('ZS', 149410),\n",
       " ('CD', 87836),\n",
       " ('DT', 58457),\n",
       " ('NY', 33124),\n",
       " ('SE', 32098),\n",
       " ('SL', 30580),\n",
       " ('NE', 27561),\n",
       " ('SH', 21568),\n",
       " ('CN', 18366)]"
      ]
     },
     "execution_count": 77,
     "metadata": {},
     "output_type": "execute_result"
    }
   ],
   "source": [
    "Counter(df.loc[:, 'Series_Code_0':'Series_Code_Last'].values.flat).most_common(10)"
   ]
  },
  {
   "cell_type": "markdown",
   "metadata": {},
   "source": [
    "Most common codes for each subcode column ignoring the NaN values."
   ]
  },
  {
   "cell_type": "code",
   "execution_count": 78,
   "metadata": {},
   "outputs": [],
   "source": [
    "def most_common_code(array, codes):\n",
    "    array_notna = array[~pd.isna(array)]\n",
    "    common_code = np.array(Counter(array_notna).most_common(codes))[:,0]\n",
    "    common_code = np.append(common_code, [np.nan]*(codes-len(common_code)))\n",
    "    return common_code"
   ]
  },
  {
   "cell_type": "code",
   "execution_count": 79,
   "metadata": {},
   "outputs": [
    {
     "data": {
      "text/html": [
       "<div>\n",
       "<style scoped>\n",
       "    .dataframe tbody tr th:only-of-type {\n",
       "        vertical-align: middle;\n",
       "    }\n",
       "\n",
       "    .dataframe tbody tr th {\n",
       "        vertical-align: top;\n",
       "    }\n",
       "\n",
       "    .dataframe thead th {\n",
       "        text-align: right;\n",
       "    }\n",
       "</style>\n",
       "<table border=\"1\" class=\"dataframe\">\n",
       "  <thead>\n",
       "    <tr style=\"text-align: right;\">\n",
       "      <th></th>\n",
       "      <th>Series_Code_0</th>\n",
       "      <th>Series_Code_1</th>\n",
       "      <th>Series_Code_2</th>\n",
       "      <th>Series_Code_3</th>\n",
       "      <th>Series_Code_4</th>\n",
       "      <th>Series_Code_5</th>\n",
       "      <th>Series_Code_6</th>\n",
       "      <th>Series_Code_First</th>\n",
       "      <th>Series_Code_Last</th>\n",
       "    </tr>\n",
       "  </thead>\n",
       "  <tbody>\n",
       "    <tr>\n",
       "      <th>0</th>\n",
       "      <td>DT</td>\n",
       "      <td>VAL</td>\n",
       "      <td>TOTL</td>\n",
       "      <td>CD</td>\n",
       "      <td>ZS</td>\n",
       "      <td>ZS</td>\n",
       "      <td>ZS</td>\n",
       "      <td>DT</td>\n",
       "      <td>ZS</td>\n",
       "    </tr>\n",
       "    <tr>\n",
       "      <th>1</th>\n",
       "      <td>NY</td>\n",
       "      <td>TAX</td>\n",
       "      <td>MRCH</td>\n",
       "      <td>ZS</td>\n",
       "      <td>ZG</td>\n",
       "      <td>NE</td>\n",
       "      <td>nan</td>\n",
       "      <td>NY</td>\n",
       "      <td>CD</td>\n",
       "    </tr>\n",
       "    <tr>\n",
       "      <th>2</th>\n",
       "      <td>SE</td>\n",
       "      <td>PRM</td>\n",
       "      <td>PRVT</td>\n",
       "      <td>FE</td>\n",
       "      <td>UN</td>\n",
       "      <td>CE</td>\n",
       "      <td>nan</td>\n",
       "      <td>SE</td>\n",
       "      <td>CN</td>\n",
       "    </tr>\n",
       "    <tr>\n",
       "      <th>3</th>\n",
       "      <td>SL</td>\n",
       "      <td>GDP</td>\n",
       "      <td>GNFS</td>\n",
       "      <td>CN</td>\n",
       "      <td>WT</td>\n",
       "      <td>KD</td>\n",
       "      <td>nan</td>\n",
       "      <td>SL</td>\n",
       "      <td>KD</td>\n",
       "    </tr>\n",
       "    <tr>\n",
       "      <th>4</th>\n",
       "      <td>NE</td>\n",
       "      <td>TLF</td>\n",
       "      <td>DPPG</td>\n",
       "      <td>MA</td>\n",
       "      <td>KD</td>\n",
       "      <td>ZG</td>\n",
       "      <td>nan</td>\n",
       "      <td>NE</td>\n",
       "      <td>KN</td>\n",
       "    </tr>\n",
       "    <tr>\n",
       "      <th>5</th>\n",
       "      <td>SH</td>\n",
       "      <td>CON</td>\n",
       "      <td>PCAP</td>\n",
       "      <td>KD</td>\n",
       "      <td>FE</td>\n",
       "      <td>nan</td>\n",
       "      <td>nan</td>\n",
       "      <td>SH</td>\n",
       "      <td>ZG</td>\n",
       "    </tr>\n",
       "    <tr>\n",
       "      <th>6</th>\n",
       "      <td>TM</td>\n",
       "      <td>SEC</td>\n",
       "      <td>MANF</td>\n",
       "      <td>KN</td>\n",
       "      <td>WD</td>\n",
       "      <td>nan</td>\n",
       "      <td>nan</td>\n",
       "      <td>TM</td>\n",
       "      <td>XQ</td>\n",
       "    </tr>\n",
       "    <tr>\n",
       "      <th>7</th>\n",
       "      <td>EN</td>\n",
       "      <td>ADJ</td>\n",
       "      <td>MKTP</td>\n",
       "      <td>GD</td>\n",
       "      <td>NE</td>\n",
       "      <td>nan</td>\n",
       "      <td>nan</td>\n",
       "      <td>EN</td>\n",
       "      <td>UN</td>\n",
       "    </tr>\n",
       "    <tr>\n",
       "      <th>8</th>\n",
       "      <td>SP</td>\n",
       "      <td>GSR</td>\n",
       "      <td>DURS</td>\n",
       "      <td>XQ</td>\n",
       "      <td>CD</td>\n",
       "      <td>nan</td>\n",
       "      <td>nan</td>\n",
       "      <td>SP</td>\n",
       "      <td>WT</td>\n",
       "    </tr>\n",
       "    <tr>\n",
       "      <th>9</th>\n",
       "      <td>IC</td>\n",
       "      <td>ATM</td>\n",
       "      <td>1524</td>\n",
       "      <td>GN</td>\n",
       "      <td>MA</td>\n",
       "      <td>nan</td>\n",
       "      <td>nan</td>\n",
       "      <td>IC</td>\n",
       "      <td>FE</td>\n",
       "    </tr>\n",
       "    <tr>\n",
       "      <th>10</th>\n",
       "      <td>GC</td>\n",
       "      <td>NFL</td>\n",
       "      <td>CO2E</td>\n",
       "      <td>PP</td>\n",
       "      <td>KT</td>\n",
       "      <td>nan</td>\n",
       "      <td>nan</td>\n",
       "      <td>GC</td>\n",
       "      <td>IN</td>\n",
       "    </tr>\n",
       "    <tr>\n",
       "      <th>11</th>\n",
       "      <td>NV</td>\n",
       "      <td>DOD</td>\n",
       "      <td>ENRR</td>\n",
       "      <td>PC</td>\n",
       "      <td>AR</td>\n",
       "      <td>nan</td>\n",
       "      <td>nan</td>\n",
       "      <td>NV</td>\n",
       "      <td>DURS</td>\n",
       "    </tr>\n",
       "    <tr>\n",
       "      <th>12</th>\n",
       "      <td>TX</td>\n",
       "      <td>INT</td>\n",
       "      <td>TETC</td>\n",
       "      <td>KT</td>\n",
       "      <td>FN</td>\n",
       "      <td>nan</td>\n",
       "      <td>nan</td>\n",
       "      <td>TX</td>\n",
       "      <td>MA</td>\n",
       "    </tr>\n",
       "    <tr>\n",
       "      <th>13</th>\n",
       "      <td>EG</td>\n",
       "      <td>DAC</td>\n",
       "      <td>OFFT</td>\n",
       "      <td>SP</td>\n",
       "      <td>CE</td>\n",
       "      <td>nan</td>\n",
       "      <td>nan</td>\n",
       "      <td>EG</td>\n",
       "      <td>WD</td>\n",
       "    </tr>\n",
       "    <tr>\n",
       "      <th>14</th>\n",
       "      <td>AG</td>\n",
       "      <td>DYN</td>\n",
       "      <td>ENRL</td>\n",
       "      <td>XD</td>\n",
       "      <td>GD</td>\n",
       "      <td>nan</td>\n",
       "      <td>nan</td>\n",
       "      <td>AG</td>\n",
       "      <td>CE</td>\n",
       "    </tr>\n",
       "  </tbody>\n",
       "</table>\n",
       "</div>"
      ],
      "text/plain": [
       "   Series_Code_0 Series_Code_1 Series_Code_2 Series_Code_3 Series_Code_4  \\\n",
       "0   DT            VAL           TOTL          CD            ZS             \n",
       "1   NY            TAX           MRCH          ZS            ZG             \n",
       "2   SE            PRM           PRVT          FE            UN             \n",
       "3   SL            GDP           GNFS          CN            WT             \n",
       "4   NE            TLF           DPPG          MA            KD             \n",
       "5   SH            CON           PCAP          KD            FE             \n",
       "6   TM            SEC           MANF          KN            WD             \n",
       "7   EN            ADJ           MKTP          GD            NE             \n",
       "8   SP            GSR           DURS          XQ            CD             \n",
       "9   IC            ATM           1524          GN            MA             \n",
       "10  GC            NFL           CO2E          PP            KT             \n",
       "11  NV            DOD           ENRR          PC            AR             \n",
       "12  TX            INT           TETC          KT            FN             \n",
       "13  EG            DAC           OFFT          SP            CE             \n",
       "14  AG            DYN           ENRL          XD            GD             \n",
       "\n",
       "   Series_Code_5 Series_Code_6 Series_Code_First Series_Code_Last  \n",
       "0   ZS            ZS            DT                ZS               \n",
       "1   NE            nan           NY                CD               \n",
       "2   CE            nan           SE                CN               \n",
       "3   KD            nan           SL                KD               \n",
       "4   ZG            nan           NE                KN               \n",
       "5   nan           nan           SH                ZG               \n",
       "6   nan           nan           TM                XQ               \n",
       "7   nan           nan           EN                UN               \n",
       "8   nan           nan           SP                WT               \n",
       "9   nan           nan           IC                FE               \n",
       "10  nan           nan           GC                IN               \n",
       "11  nan           nan           NV                DURS             \n",
       "12  nan           nan           TX                MA               \n",
       "13  nan           nan           EG                WD               \n",
       "14  nan           nan           AG                CE               "
      ]
     },
     "execution_count": 79,
     "metadata": {},
     "output_type": "execute_result"
    }
   ],
   "source": [
    "pd.DataFrame(data= np.apply_along_axis(func1d=most_common_code, \n",
    "             arr=df.loc[:, 'Series_Code_0':'Series_Code_Last'].values, axis=0, codes=15), \n",
    "             columns=df.loc[:, 'Series_Code_0':'Series_Code_Last'].columns)"
   ]
  },
  {
   "cell_type": "markdown",
   "metadata": {},
   "source": [
    "## Exploring correlation in the data set"
   ]
  },
  {
   "cell_type": "markdown",
   "metadata": {},
   "source": [
    "We are exploring mainly two different kinds of correlations:\n",
    "\n",
    "- The correlation on one indicator between multiple countries of a continent:\n",
    "  - for each continent, what indicators are most correlated?\n",
    "- A bundle of indicators on the same country:\n",
    "  -  for each country, what indicators are most correlated to our 7 target indicators?"
   ]
  },
  {
   "cell_type": "code",
   "execution_count": 80,
   "metadata": {},
   "outputs": [
    {
     "name": "stdout",
     "output_type": "stream",
     "text": [
      "The submission codes we are interested in: ['7.8' '8.16' '4.1' '6.1' '2.1' '5.1' '6.7'].\n"
     ]
    }
   ],
   "source": [
    "print(f'The submission codes we are interested in: {submission_codes}.')"
   ]
  },
  {
   "cell_type": "code",
   "execution_count": 81,
   "metadata": {},
   "outputs": [],
   "source": [
    "def top_corr(df, country, ind):\n",
    "    df_country = df[df['Country_Name'] == country]\n",
    "    \n",
    "    data = df_country.set_index('Series_Code').loc[:,'1972':'2007'].T\n",
    "    coeff = data.corr().loc[ind].abs()\n",
    "    coeff.sort_values(inplace=True, ascending=False)\n",
    "    \n",
    "    return coeff.iloc[0:10]"
   ]
  },
  {
   "cell_type": "code",
   "execution_count": 82,
   "metadata": {},
   "outputs": [
    {
     "data": {
      "text/plain": [
       "Series_Code\n",
       "SE.ENR.TERT.FM.ZS    1.0\n",
       "DT.MAT.DPPG          1.0\n",
       "GC.XPN.GSRV.ZS       1.0\n",
       "SH.STA.STNT.ZS       1.0\n",
       "DT.INT.DECT.GN.ZS    1.0\n",
       "GC.TAX.GSRV.CN       1.0\n",
       "IQ.CPA.ECON.XQ       1.0\n",
       "DT.CUR.SDRW.ZS       1.0\n",
       "GC.TAX.GSRV.RV.ZS    1.0\n",
       "DT.DOD.BLAT.CD       1.0\n",
       "Name: 7.8, dtype: float64"
      ]
     },
     "execution_count": 82,
     "metadata": {},
     "output_type": "execute_result"
    }
   ],
   "source": [
    "top_corr(df, \"Afghanistan\", \"7.8\")"
   ]
  },
  {
   "cell_type": "markdown",
   "metadata": {},
   "source": [
    "### Plotting one target indicator: Environmental Sustainability (7.8) for Afghanistan"
   ]
  },
  {
   "cell_type": "code",
   "execution_count": 83,
   "metadata": {},
   "outputs": [],
   "source": [
    "df_afghanistan_7_8 = df[ (df[\"Country_Name\"] == \"Afghanistan\") & (df[\"Series_Code\"] == \"7.8\")]\n",
    "df_afghanistan_7_8_1972_to_2007 = df_afghanistan_7_8.loc[:, \"1990\":\"2007\"]"
   ]
  },
  {
   "cell_type": "code",
   "execution_count": 84,
   "metadata": {},
   "outputs": [
    {
     "data": {
      "image/png": "[encoded data removed]",
      "text/plain": [
       "<Figure size 432x288 with 1 Axes>"
      ]
     },
     "metadata": {
      "needs_background": "light"
     },
     "output_type": "display_data"
    }
   ],
   "source": [
    "df_afghanistan_7_8_1972_to_2007.T.plot(marker=\"o\", \\\n",
    "                                       title=\"Indicator Environmental Sustainability (7.8) for Afghanistan\");"
   ]
  },
  {
   "cell_type": "markdown",
   "metadata": {},
   "source": [
    "### Plotting all indicators except Environmental Sustainability (7.8) for Afghanistan: 1972 to 2007"
   ]
  },
  {
   "cell_type": "code",
   "execution_count": 85,
   "metadata": {},
   "outputs": [],
   "source": [
    "df_afghanistan_not_7_8 = df[ (df[\"Country_Name\"] == \"Afghanistan\") & (df[\"Series_Code\"] != \"7.8\")]\n",
    "df_afghanistan_not_7_8_1972_to_2007 = df_afghanistan_not_7_8.loc[:, \"1972\":\"2007\"]"
   ]
  },
  {
   "cell_type": "code",
   "execution_count": 86,
   "metadata": {},
   "outputs": [
    {
     "data": {
      "image/png": "[encoded data removed]",
      "text/plain": [
       "<Figure size 864x576 with 1 Axes>"
      ]
     },
     "metadata": {
      "needs_background": "light"
     },
     "output_type": "display_data"
    }
   ],
   "source": [
    "fig, ax = plt.subplots(1, 1, figsize=(12, 8))\n",
    "years = df_afghanistan_not_7_8_1972_to_2007.T.index\n",
    "values = df_afghanistan_not_7_8_1972_to_2007.T.values\n",
    "ax.plot(years, values, marker=\"o\")\n",
    "ax.set_title(\"All other indicators for Afghanistan: 1972 to 2007\", fontsize=14)\n",
    "plt.xticks(np.arange(ax.xaxis.get_data_interval()[0], ax.xaxis.get_data_interval()[1]+1, 5.0))\n",
    "for tick in ax.get_xticklabels():\n",
    "        tick.set_rotation(90)\n",
    "        tick.set_verticalalignment('top');"
   ]
  },
  {
   "cell_type": "markdown",
   "metadata": {},
   "source": [
    "### Plotting all indicators except Environmental Sustainability (7.8) for Afghanistan: 2000 to 2007"
   ]
  },
  {
   "cell_type": "code",
   "execution_count": 87,
   "metadata": {},
   "outputs": [],
   "source": [
    "df_afghanistan_not_7_8_2000_to_2007 = df_afghanistan_not_7_8.loc[:, \"2000\":\"2007\"]"
   ]
  },
  {
   "cell_type": "code",
   "execution_count": 88,
   "metadata": {},
   "outputs": [
    {
     "data": {
      "image/png": "[encoded data removed]",
      "text/plain": [
       "<Figure size 864x576 with 1 Axes>"
      ]
     },
     "metadata": {
      "needs_background": "light"
     },
     "output_type": "display_data"
    }
   ],
   "source": [
    "fig, ax = plt.subplots(1, 1, figsize=(12, 8))\n",
    "years = df_afghanistan_not_7_8_2000_to_2007.T.index\n",
    "values = df_afghanistan_not_7_8_2000_to_2007.T.values\n",
    "ax.plot(years, values, marker=\"o\")\n",
    "ax.set_title(\"All other indicators for Afghanistan: 2000 to 2007\", fontsize=14)\n",
    "plt.xticks(np.arange(ax.xaxis.get_data_interval()[0], ax.xaxis.get_data_interval()[1]+1, 1.0))\n",
    "for tick in ax.get_xticklabels():\n",
    "        tick.set_rotation(90)\n",
    "        tick.set_verticalalignment('top');"
   ]
  },
  {
   "cell_type": "markdown",
   "metadata": {},
   "source": [
    "### Enlisting top correlated features against Environmental Sustainability (7.8)"
   ]
  },
  {
   "cell_type": "code",
   "execution_count": 113,
   "metadata": {},
   "outputs": [],
   "source": [
    "df_afghanistan = df[ df[\"Country_Name\"] == \"Afghanistan\" ]\n",
    "df_2000_2007 = df_afghanistan.loc[:, \"2000\":\"2007\"]\n",
    "df_2000_2007_clean_index = df_2000_2007.count(axis=1) >= 4"
   ]
  },
  {
   "cell_type": "code",
   "execution_count": 114,
   "metadata": {},
   "outputs": [],
   "source": [
    "data = df_afghanistan[df_2000_2007_clean_index].set_index('Series_Code').loc[:, \"2000\":\"2007\"].T"
   ]
  },
  {
   "cell_type": "code",
   "execution_count": 115,
   "metadata": {},
   "outputs": [
    {
     "data": {
      "text/html": [
       "<div>\n",
       "<style scoped>\n",
       "    .dataframe tbody tr th:only-of-type {\n",
       "        vertical-align: middle;\n",
       "    }\n",
       "\n",
       "    .dataframe tbody tr th {\n",
       "        vertical-align: top;\n",
       "    }\n",
       "\n",
       "    .dataframe thead th {\n",
       "        text-align: right;\n",
       "    }\n",
       "</style>\n",
       "<table border=\"1\" class=\"dataframe\">\n",
       "  <thead>\n",
       "    <tr style=\"text-align: right;\">\n",
       "      <th>Series_Code</th>\n",
       "      <th>NY.ADJ.NNTY.CD</th>\n",
       "      <th>NY.ADJ.NNTY.PC.CD</th>\n",
       "      <th>NY.ADJ.DCO2.GN.ZS</th>\n",
       "      <th>NY.ADJ.DCO2.CD</th>\n",
       "      <th>NY.ADJ.DKAP.GN.ZS</th>\n",
       "      <th>NY.ADJ.DKAP.CD</th>\n",
       "      <th>NY.ADJ.DNGY.GN.ZS</th>\n",
       "      <th>NY.ADJ.DNGY.CD</th>\n",
       "      <th>NY.ADJ.DMIN.GN.ZS</th>\n",
       "      <th>NY.ADJ.DMIN.CD</th>\n",
       "      <th>...</th>\n",
       "      <th>SL.UEM.TOTL.ZS</th>\n",
       "      <th>SL.UEM.1524.FE.ZS</th>\n",
       "      <th>SL.UEM.1524.MA.ZS</th>\n",
       "      <th>SL.UEM.1524.ZS</th>\n",
       "      <th>SP.URB.TOTL</th>\n",
       "      <th>SP.URB.TOTL.IN.ZS</th>\n",
       "      <th>SP.URB.GROW</th>\n",
       "      <th>DT.DOD.DIMF.CD</th>\n",
       "      <th>SN.ITK.VITA.ZS</th>\n",
       "      <th>SH.DYN.AIDS.FE.ZS</th>\n",
       "    </tr>\n",
       "  </thead>\n",
       "  <tbody>\n",
       "    <tr>\n",
       "      <th>2000</th>\n",
       "      <td>NaN</td>\n",
       "      <td>NaN</td>\n",
       "      <td>NaN</td>\n",
       "      <td>5.310078e+06</td>\n",
       "      <td>NaN</td>\n",
       "      <td>NaN</td>\n",
       "      <td>NaN</td>\n",
       "      <td>9.339938e+06</td>\n",
       "      <td>NaN</td>\n",
       "      <td>0.0</td>\n",
       "      <td>...</td>\n",
       "      <td>8.3</td>\n",
       "      <td>31.299999</td>\n",
       "      <td>15.9</td>\n",
       "      <td>18.100000</td>\n",
       "      <td>4239143.0</td>\n",
       "      <td>20.5830</td>\n",
       "      <td>4.212181</td>\n",
       "      <td>70757000.0</td>\n",
       "      <td>NaN</td>\n",
       "      <td>33.9</td>\n",
       "    </tr>\n",
       "    <tr>\n",
       "      <th>2001</th>\n",
       "      <td>NaN</td>\n",
       "      <td>NaN</td>\n",
       "      <td>0.184407</td>\n",
       "      <td>4.539497e+06</td>\n",
       "      <td>NaN</td>\n",
       "      <td>NaN</td>\n",
       "      <td>0.048954</td>\n",
       "      <td>1.205094e+06</td>\n",
       "      <td>0.0</td>\n",
       "      <td>0.0</td>\n",
       "      <td>...</td>\n",
       "      <td>8.3</td>\n",
       "      <td>31.299999</td>\n",
       "      <td>15.9</td>\n",
       "      <td>18.100000</td>\n",
       "      <td>4449476.0</td>\n",
       "      <td>20.8428</td>\n",
       "      <td>4.842521</td>\n",
       "      <td>67221000.0</td>\n",
       "      <td>84.0</td>\n",
       "      <td>34.3</td>\n",
       "    </tr>\n",
       "    <tr>\n",
       "      <th>2002</th>\n",
       "      <td>3.559253e+09</td>\n",
       "      <td>160.306460</td>\n",
       "      <td>0.063079</td>\n",
       "      <td>2.598783e+06</td>\n",
       "      <td>11.367333</td>\n",
       "      <td>4.683209e+08</td>\n",
       "      <td>0.002387</td>\n",
       "      <td>9.835384e+04</td>\n",
       "      <td>0.0</td>\n",
       "      <td>0.0</td>\n",
       "      <td>...</td>\n",
       "      <td>8.3</td>\n",
       "      <td>31.299999</td>\n",
       "      <td>15.9</td>\n",
       "      <td>18.100000</td>\n",
       "      <td>4685369.0</td>\n",
       "      <td>21.1026</td>\n",
       "      <td>5.165834</td>\n",
       "      <td>69599000.0</td>\n",
       "      <td>84.0</td>\n",
       "      <td>34.6</td>\n",
       "    </tr>\n",
       "    <tr>\n",
       "      <th>2003</th>\n",
       "      <td>3.954791e+09</td>\n",
       "      <td>171.083517</td>\n",
       "      <td>0.095173</td>\n",
       "      <td>4.355656e+06</td>\n",
       "      <td>11.391414</td>\n",
       "      <td>5.213349e+08</td>\n",
       "      <td>0.004479</td>\n",
       "      <td>2.049705e+05</td>\n",
       "      <td>0.0</td>\n",
       "      <td>0.0</td>\n",
       "      <td>...</td>\n",
       "      <td>8.5</td>\n",
       "      <td>31.299999</td>\n",
       "      <td>15.8</td>\n",
       "      <td>18.100000</td>\n",
       "      <td>4938163.0</td>\n",
       "      <td>21.3624</td>\n",
       "      <td>5.254873</td>\n",
       "      <td>39679900.0</td>\n",
       "      <td>86.0</td>\n",
       "      <td>34.8</td>\n",
       "    </tr>\n",
       "    <tr>\n",
       "      <th>2004</th>\n",
       "      <td>4.602931e+09</td>\n",
       "      <td>191.639631</td>\n",
       "      <td>0.107665</td>\n",
       "      <td>5.699296e+06</td>\n",
       "      <td>11.360447</td>\n",
       "      <td>6.013704e+08</td>\n",
       "      <td>0.012401</td>\n",
       "      <td>6.564596e+05</td>\n",
       "      <td>0.0</td>\n",
       "      <td>0.0</td>\n",
       "      <td>...</td>\n",
       "      <td>8.2</td>\n",
       "      <td>31.299999</td>\n",
       "      <td>15.9</td>\n",
       "      <td>18.200001</td>\n",
       "      <td>5193367.0</td>\n",
       "      <td>21.6222</td>\n",
       "      <td>5.038883</td>\n",
       "      <td>41470000.0</td>\n",
       "      <td>96.0</td>\n",
       "      <td>35.0</td>\n",
       "    </tr>\n",
       "  </tbody>\n",
       "</table>\n",
       "<p>5 rows × 401 columns</p>\n",
       "</div>"
      ],
      "text/plain": [
       "Series_Code  NY.ADJ.NNTY.CD  NY.ADJ.NNTY.PC.CD  NY.ADJ.DCO2.GN.ZS  \\\n",
       "2000        NaN             NaN                NaN                  \n",
       "2001        NaN             NaN                 0.184407            \n",
       "2002         3.559253e+09    160.306460         0.063079            \n",
       "2003         3.954791e+09    171.083517         0.095173            \n",
       "2004         4.602931e+09    191.639631         0.107665            \n",
       "\n",
       "Series_Code  NY.ADJ.DCO2.CD  NY.ADJ.DKAP.GN.ZS  NY.ADJ.DKAP.CD  \\\n",
       "2000         5.310078e+06   NaN                NaN               \n",
       "2001         4.539497e+06   NaN                NaN               \n",
       "2002         2.598783e+06    11.367333          4.683209e+08     \n",
       "2003         4.355656e+06    11.391414          5.213349e+08     \n",
       "2004         5.699296e+06    11.360447          6.013704e+08     \n",
       "\n",
       "Series_Code  NY.ADJ.DNGY.GN.ZS  NY.ADJ.DNGY.CD  NY.ADJ.DMIN.GN.ZS  \\\n",
       "2000        NaN                 9.339938e+06   NaN                  \n",
       "2001         0.048954           1.205094e+06    0.0                 \n",
       "2002         0.002387           9.835384e+04    0.0                 \n",
       "2003         0.004479           2.049705e+05    0.0                 \n",
       "2004         0.012401           6.564596e+05    0.0                 \n",
       "\n",
       "Series_Code  NY.ADJ.DMIN.CD  ...  SL.UEM.TOTL.ZS  SL.UEM.1524.FE.ZS  \\\n",
       "2000         0.0             ...  8.3             31.299999           \n",
       "2001         0.0             ...  8.3             31.299999           \n",
       "2002         0.0             ...  8.3             31.299999           \n",
       "2003         0.0             ...  8.5             31.299999           \n",
       "2004         0.0             ...  8.2             31.299999           \n",
       "\n",
       "Series_Code  SL.UEM.1524.MA.ZS  SL.UEM.1524.ZS  SP.URB.TOTL  \\\n",
       "2000         15.9               18.100000       4239143.0     \n",
       "2001         15.9               18.100000       4449476.0     \n",
       "2002         15.9               18.100000       4685369.0     \n",
       "2003         15.8               18.100000       4938163.0     \n",
       "2004         15.9               18.200001       5193367.0     \n",
       "\n",
       "Series_Code  SP.URB.TOTL.IN.ZS  SP.URB.GROW  DT.DOD.DIMF.CD  SN.ITK.VITA.ZS  \\\n",
       "2000         20.5830            4.212181     70757000.0     NaN               \n",
       "2001         20.8428            4.842521     67221000.0      84.0             \n",
       "2002         21.1026            5.165834     69599000.0      84.0             \n",
       "2003         21.3624            5.254873     39679900.0      86.0             \n",
       "2004         21.6222            5.038883     41470000.0      96.0             \n",
       "\n",
       "Series_Code  SH.DYN.AIDS.FE.ZS  \n",
       "2000         33.9               \n",
       "2001         34.3               \n",
       "2002         34.6               \n",
       "2003         34.8               \n",
       "2004         35.0               \n",
       "\n",
       "[5 rows x 401 columns]"
      ]
     },
     "execution_count": 115,
     "metadata": {},
     "output_type": "execute_result"
    }
   ],
   "source": [
    "data.head()"
   ]
  },
  {
   "cell_type": "code",
   "execution_count": 116,
   "metadata": {},
   "outputs": [
    {
     "data": {
      "text/plain": [
       "(8, 401)"
      ]
     },
     "execution_count": 116,
     "metadata": {},
     "output_type": "execute_result"
    }
   ],
   "source": [
    "data.shape"
   ]
  },
  {
   "cell_type": "code",
   "execution_count": 117,
   "metadata": {},
   "outputs": [
    {
     "name": "stdout",
     "output_type": "stream",
     "text": [
      "Time elapsed: 0.0044s\n"
     ]
    }
   ],
   "source": [
    "from time import time\n",
    "t0 = time()\n",
    "coeff = data.corr().loc[\"7.8\"].abs()\n",
    "print(f'Time elapsed: {time() - t0:.4f}s')"
   ]
  },
  {
   "cell_type": "code",
   "execution_count": 118,
   "metadata": {},
   "outputs": [
    {
     "data": {
      "text/plain": [
       "Series_Code\n",
       "7.8                  1.000000\n",
       "SH.H2O.SAFE.UR.ZS    0.999991\n",
       "SH.H2O.SAFE.RU.ZS    0.999980\n",
       "SP.RUR.TOTL.ZS       0.999972\n",
       "SP.URB.TOTL.IN.ZS    0.999972\n",
       "SH.STA.ACSN.UR       0.999958\n",
       "4.1                  0.999815\n",
       "SP.DYN.IMRT.IN       0.999794\n",
       "SP.URB.TOTL          0.999742\n",
       "SH.STA.ACSN          0.999618\n",
       "SH.DYN.NMRT          0.999542\n",
       "SP.DYN.CDRT.IN       0.999375\n",
       "SP.POP.TOTL          0.999343\n",
       "EN.POP.DNST          0.999343\n",
       "SL.TLF.TOTL.IN       0.999190\n",
       "SP.DYN.LE00.FE.IN    0.999073\n",
       "SP.DYN.AMRT.FE       0.999012\n",
       "SP.RUR.TOTL          0.998992\n",
       "SP.DYN.LE00.IN       0.998971\n",
       "SP.DYN.AMRT.MA       0.998868\n",
       "Name: 7.8, dtype: float64"
      ]
     },
     "execution_count": 118,
     "metadata": {},
     "output_type": "execute_result"
    }
   ],
   "source": [
    "coeff.sort_values(inplace=True, ascending=False)\n",
    "coeff.iloc[0:20]"
   ]
  },
  {
   "cell_type": "markdown",
   "metadata": {},
   "source": [
    "### Plotting the top correlated indicators for Afghanisthan between 2000 to 2007"
   ]
  },
  {
   "cell_type": "code",
   "execution_count": 119,
   "metadata": {},
   "outputs": [
    {
     "data": {
      "image/png": "[encoded data removed]",
      "text/plain": [
       "<Figure size 1008x504 with 1 Axes>"
      ]
     },
     "metadata": {
      "needs_background": "light"
     },
     "output_type": "display_data"
    }
   ],
   "source": [
    "series_code_correlated_to_7_8 = coeff.iloc[0:20].index\n",
    "df_afghanistan_indicators_correlated_to_7_8 = df_afghanistan[df_afghanistan.Series_Code.isin(series_code_correlated_to_7_8)]\n",
    "df_afghanistan_indicators_correlated_to_7_8.set_index('Series_Code', inplace=True)\n",
    "plt.rcParams[\"figure.figsize\"] = (14,7)\n",
    "df_afghanistan_indicators_correlated_to_7_8.loc[:, \"2000\":\"2007\"].T.plot(marker=\"o\", legend=True)\n",
    "plt.legend(loc=5);"
   ]
  },
  {
   "cell_type": "code",
   "execution_count": null,
   "metadata": {},
   "outputs": [],
   "source": []
  }
 ],
 "metadata": {
  "kernelspec": {
   "display_name": "Python 3",
   "language": "python",
   "name": "python3"
  },
  "language_info": {
   "codemirror_mode": {
    "name": "ipython",
    "version": 3
   },
   "file_extension": ".py",
   "mimetype": "text/x-python",
   "name": "python",
   "nbconvert_exporter": "python",
   "pygments_lexer": "ipython3",
   "version": "3.7.3"
  }
 },
 "nbformat": 4,
 "nbformat_minor": 2
}
