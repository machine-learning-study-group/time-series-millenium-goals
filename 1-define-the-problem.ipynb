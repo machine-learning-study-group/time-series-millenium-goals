{
 "cells": [
  {
   "cell_type": "markdown",
   "metadata": {},
   "source": [
    "# 1. Define the Problem\n",
    "\n",
    "From https://machinelearningmastery.com/process-for-working-through-machine-learning-problems/\n",
    "\n",
    "I like to use a three step process to define the problem. I like to move quickly and I use this mini process to see the problem from a few different perspectives very quickly:\n",
    "\n",
    "* Step 1: What is the problem? Describe the problem informally and formally and list assumptions and similar problems.\n",
    "* Step 2: Why does the problem need to be solved? List your motivation for solving the problem, the benefits a solution provides and how the solution will be used.\n",
    "* Step 3: How would I solve the problem? Describe how the problem would be solved manually to flush domain knowledge.\n"
   ]
  },
  {
   "cell_type": "markdown",
   "metadata": {},
   "source": [
    "## 1.1 What is the problem? \n",
    "Given a set of metrics organised by type and country, we need to predict a subset of these metrics for one year ahead and five years ahead.\n",
    "The data is quite sparse and very few entries have values for the complete time range of 1972-2007. It also appears that metric names may not be consistent between countries. The dataset will require a lot of cleaning before we can use it."
   ]
  },
  {
   "cell_type": "markdown",
   "metadata": {},
   "source": [
    "## 1.2 Why does the problem need to be solved?\n",
    "\n",
    "### 1.2.1 From a global perspective\n",
    "* The United Nations millenium development goals are a way of measuring the level of development of countries around the world in terms of important metrics such as poverty levels and female empowerment. It would be very useful to be able to predict when a given country might reach the levels the UN has set as targets.\n",
    "\n",
    "### 1.2.2 From a study group perspective\n",
    "* This dataset gives us a chance to work with time-series data (which we have not addressed as a group before)\n",
    "* The dataset is quite sparse with many missing values and possible inconsistent fields. A successfull result with this will give us badly needed experience with data cleaning."
   ]
  },
  {
   "cell_type": "markdown",
   "metadata": {},
   "source": [
    "## 1.3 How would I solve the problem?\n",
    "TBD"
   ]
  },
  {
   "cell_type": "markdown",
   "metadata": {},
   "source": [
    "# 1.4 Current status 24/4/2019\n",
    "There are two files in the dataset\n",
    "* training data which gives the values of particular metrics (AKA series) for a given country for the years 1972-2007 (many have years missing)\n",
    "* submission data which gives us the row IDs we need to predict one year (2008) and five years (2012) into the future\n",
    "\n",
    "What we have learned so far\n",
    "* The series name and series code are perfectly correlated, we can drop the series name with no loss of data\n",
    "* The series codes may not be consistent. Some may include a country code and others not. The names of the series also appear to vary between countries. It's likely we'll need to do some work to come up with a consistent set of series code across the dataset.\n",
    "* The first column in the training and submission sets is a row ID that we can use to join the two datasets\n",
    "* If we consider only the joined dataset then we have a much higher proportion of year data for series than the dataset as a whole. We also only need to predict values for 737 series/country combinations out of the 195402 present in the training set.\n",
    "* The 737 desired values may not be enough to train a model so we can't necessarily discard 194665 (195402-737) rows\n",
    "* We can problem frame this as a regression problem. Given N years of data for a metric, predict next year\n",
    "\n",
    "Next steps\n",
    "* Convert year values from columns to rows: Convert 2D table to 3D dataset. This will make it easier to drop empty values\n",
    "* Prove correlation between series name and series code\n",
    "* separate series code and determine whether that correlates with country or is orthogonal\n",
    "* Work out what data can be dropped\n",
    "* try framing as regression problem: how many years do we need?\n",
    "* are metrics independent can we train on a metric/country basis or do we need some method for training per metric (aggregate across countries)"
   ]
  },
  {
   "cell_type": "code",
   "execution_count": null,
   "metadata": {},
   "outputs": [],
   "source": []
  }
 ],
 "metadata": {
  "kernelspec": {
   "display_name": "Python 3",
   "language": "python",
   "name": "python3"
  },
  "language_info": {
   "codemirror_mode": {
    "name": "ipython",
    "version": 3
   },
   "file_extension": ".py",
   "mimetype": "text/x-python",
   "name": "python",
   "nbconvert_exporter": "python",
   "pygments_lexer": "ipython3",
   "version": "3.7.3"
  }
 },
 "nbformat": 4,
 "nbformat_minor": 2
}
